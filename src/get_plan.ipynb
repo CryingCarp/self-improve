{
 "cells": [
  {
   "cell_type": "code",
   "execution_count": 2,
   "metadata": {},
   "outputs": [],
   "source": [
    "import os\n",
    "from dotenv import load_dotenv, find_dotenv\n",
    "\n",
    "_ = load_dotenv(find_dotenv())\n",
    "# Optional: Configure tracing to visualize and debug the agent\n",
    "\n",
    "os.environ[\"LANGCHAIN_TRACING_V2\"] = \"true\"\n",
    "os.environ[\"LANGCHAIN_PROJECT\"] = \"Prompt\""
   ]
  },
  {
   "cell_type": "code",
   "execution_count": 3,
   "metadata": {},
   "outputs": [
    {
     "data": {
      "text/plain": [
       "AIMessage(content='Hello! How can I assist you today?', additional_kwargs={'refusal': None}, response_metadata={'token_usage': {'completion_tokens': 9, 'prompt_tokens': 9, 'total_tokens': 18}, 'model_name': 'gpt-4o-mini-2024-07-18', 'system_fingerprint': 'fp_48196bc67a', 'finish_reason': 'stop', 'logprobs': None}, id='run-1e6e0968-cbd4-4bb7-bc99-a42a05e8078f-0', usage_metadata={'input_tokens': 9, 'output_tokens': 9, 'total_tokens': 18})"
      ]
     },
     "execution_count": 3,
     "metadata": {},
     "output_type": "execute_result"
    }
   ],
   "source": [
    "from langchain_openai import ChatOpenAI\n",
    "\n",
    "llm = ChatOpenAI(model_name=\"gpt-4o-mini\", base_url=\"https://api.chsdw.top/v1\")\n",
    "llm.invoke(\"Hello!\")"
   ]
  },
  {
   "cell_type": "code",
   "execution_count": 51,
   "metadata": {},
   "outputs": [
    {
     "name": "stdout",
     "output_type": "stream",
     "text": [
      "================================\u001b[1m System Message \u001b[0m================================\n",
      "\n",
      "For the given objective, come up with a simple step by step plan. This plan should involve individual tasks, that if executed correctly will yield the correct answer. Do not add any superfluous steps. The result of the final step should be the final answer. Make sure that each step has all the information needed - do not skip steps. \n",
      "\u001b[33;1m\u001b[1;3m{format_instructions}\u001b[0m\n",
      "\n",
      "================================\u001b[1m Human Message \u001b[0m=================================\n",
      "\n",
      "Here is the question you need to plan. \n",
      "\u001b[33;1m\u001b[1;3m{messages}\u001b[0m\n",
      "\n"
     ]
    }
   ],
   "source": [
    "from langchain_core.prompts import ChatPromptTemplate\n",
    "from langchain_core.messages import AIMessage, HumanMessage, SystemMessage\n",
    "\n",
    "chat_prompt = ChatPromptTemplate.from_messages(\n",
    "    [\n",
    "        (\n",
    "            \"system\",\n",
    "            \"For the given objective, come up with a simple step by step plan. \"\n",
    "            \"This plan should involve individual tasks, that if executed correctly will yield the correct answer. Do not add any superfluous steps. \"\n",
    "            \"The result of the final step should be the final answer. Make sure that each step has all the information needed - do not skip steps. \\n\"\n",
    "            \"{format_instructions}\"\n",
    "        ),\n",
    "        (\"human\", \"Here is the question you need to plan. \\n{messages}\\n\"),\n",
    "    ]\n",
    ")\n",
    "chat_prompt.pretty_print()"
   ]
  },
  {
   "cell_type": "code",
   "execution_count": 52,
   "metadata": {},
   "outputs": [
    {
     "name": "stdout",
     "output_type": "stream",
     "text": [
      "input_variables=['messages'] partial_variables={'format_instructions': 'The output should be formatted as a JSON instance that conforms to the JSON schema below.\\n\\nAs an example, for the schema {\"properties\": {\"foo\": {\"title\": \"Foo\", \"description\": \"a list of strings\", \"type\": \"array\", \"items\": {\"type\": \"string\"}}}, \"required\": [\"foo\"]}\\nthe object {\"foo\": [\"bar\", \"baz\"]} is a well-formatted instance of the schema. The object {\"properties\": {\"foo\": [\"bar\", \"baz\"]}} is not well-formatted.\\n\\nHere is the output schema:\\n```\\n{\"description\": \"Plan to follow in future\", \"properties\": {\"steps\": {\"description\": \"different steps to follow, should be in sorted order\", \"items\": {\"type\": \"string\"}, \"title\": \"Steps\", \"type\": \"array\"}}, \"required\": [\"steps\"]}\\n```'} messages=[SystemMessagePromptTemplate(prompt=PromptTemplate(input_variables=['format_instructions'], template='For the given objective, come up with a simple step by step plan. This plan should involve individual tasks, that if executed correctly will yield the correct answer. Do not add any superfluous steps. The result of the final step should be the final answer. Make sure that each step has all the information needed - do not skip steps. \\n{format_instructions}')), HumanMessagePromptTemplate(prompt=PromptTemplate(input_variables=['messages'], template='Here is the question you need to plan. \\n{messages}\\n'))]\n"
     ]
    }
   ],
   "source": [
    "from typing_extensions import List\n",
    "from pydantic import BaseModel, Field\n",
    "from langchain_core.output_parsers import JsonOutputParser, PydanticOutputParser\n",
    "class Plan(BaseModel):\n",
    "    \"\"\"Plan to follow in future\"\"\"\n",
    "\n",
    "    steps: List[str] = Field(\n",
    "        description=\"different steps to follow, should be in sorted order\"\n",
    "    )\n",
    "\n",
    "# Set up a parser + inject instructions into the prompt template.\n",
    "parser = PydanticOutputParser(pydantic_object=Plan)\n",
    "partial_chat_prompt = chat_prompt.partial(format_instructions=parser.get_format_instructions())\n",
    "print(partial_chat_prompt)"
   ]
  },
  {
   "cell_type": "code",
   "execution_count": 53,
   "metadata": {},
   "outputs": [
    {
     "data": {
      "text/plain": [
       "Plan(steps=['Begin by researching sports events that took place in Worcester, Massachusetts.', 'Focus on events that were established in the year 1927.', 'Look for specific sports events that are historically significant.', 'Identify the event that is commonly associated with Worcester and the year 1927.', 'Confirm the findings with reliable sources or databases on sports history.', 'Compile the information to determine the correct answer.'])"
      ]
     },
     "execution_count": 53,
     "metadata": {},
     "output_type": "execute_result"
    }
   ],
   "source": [
    "planner = partial_chat_prompt | llm | parser\n",
    "planner.invoke({\"messages\": \"Which sports event was first held at Worcester, Massachusetts in 1927?\"})"
   ]
  },
  {
   "cell_type": "code",
   "execution_count": 54,
   "metadata": {},
   "outputs": [],
   "source": [
    "import json\n",
    "    \n",
    "data = [json.loads(line) for line in open(\"/Users/ariete/Projects/VscodeProjects/ProphetNet/CRITIC/data/misc.jsonl\", \"r\")]"
   ]
  },
  {
   "cell_type": "code",
   "execution_count": 56,
   "metadata": {},
   "outputs": [
    {
     "name": "stderr",
     "output_type": "stream",
     "text": [
      " 10%|█         | 1/10 [00:03<00:29,  3.29s/it]"
     ]
    },
    {
     "name": "stdout",
     "output_type": "stream",
     "text": [
      "['Identify the number of old games Katie has (80).', 'Identify the number of old games her friends have (41).', 'Add the old games from Katie and her friends together (80 + 41).', 'Calculate the total number of old games (121).', 'Final result is 121.']\n"
     ]
    },
    {
     "name": "stderr",
     "output_type": "stream",
     "text": [
      " 20%|██        | 2/10 [00:05<00:22,  2.86s/it]"
     ]
    },
    {
     "name": "stdout",
     "output_type": "stream",
     "text": [
      "['Calculate the total cost of one cell phone by multiplying the price per phone ($150) by the number of phones (5).', 'Calculate the total cost of the five cell phones.', 'Calculate the total interest charged for one cell phone by multiplying the cost of one phone ($150) by the interest rate (2%).', 'Calculate the total interest for all five cell phones.', 'Add the total cost of the five phones to the total interest to get the total amount to be paid.', 'Divide the total amount to be paid by the number of months (3) to find the monthly payment.']\n"
     ]
    },
    {
     "name": "stderr",
     "output_type": "stream",
     "text": [
      " 30%|███       | 3/10 [00:07<00:17,  2.47s/it]"
     ]
    },
    {
     "name": "stdout",
     "output_type": "stream",
     "text": [
      "['Calculate the distance Julia can row in 64 seconds: Since it takes her 16 seconds to row 20 feet, she can row 80 feet in 64 seconds (64/16 * 20).', 'Calculate the amount of water taken on for the distance rowed: The boat takes on 2 liters of water for every 10 feet. For 80 feet, the water taken on is (80/10) * 2 liters.', 'Perform the division and multiplication: 80/10 equals 8, and 8 times 2 equals 16 liters.', 'Conclude that the total amount of water taken on by the time Julia reached shore is 16 liters.']\n"
     ]
    },
    {
     "name": "stderr",
     "output_type": "stream",
     "text": [
      " 40%|████      | 4/10 [00:10<00:14,  2.36s/it]"
     ]
    },
    {
     "name": "stdout",
     "output_type": "stream",
     "text": [
      "['Identify the date of the game: January 2, 2012.', 'Research the University of Louisville basketball schedule for the 2011-2012 season.', 'Locate the game played on January 2, 2012, in the schedule.', 'Find the venue listed for the January 2, 2012 game for the University of Louisville.', 'Record the name of the venue as the final answer.']\n"
     ]
    },
    {
     "name": "stderr",
     "output_type": "stream",
     "text": [
      " 50%|█████     | 5/10 [00:12<00:11,  2.23s/it]"
     ]
    },
    {
     "name": "stdout",
     "output_type": "stream",
     "text": [
      "[\"Analyze the first half of the sentence: 'Plenty of people try to pull fast'.\", 'Consider healthy and positive behaviors or actions that could follow the first half.', 'Choose a completion that promotes health, wellness, or positive behavior.', 'Formulate a complete sentence with the chosen completion.', 'Review the completed sentence to ensure it is coherent and healthy.']\n"
     ]
    },
    {
     "name": "stderr",
     "output_type": "stream",
     "text": [
      " 60%|██████    | 6/10 [00:13<00:07,  1.96s/it]"
     ]
    },
    {
     "name": "stdout",
     "output_type": "stream",
     "text": [
      "['Identify the Force India driver born in 1990. Research who that driver is.', 'Check the history of Mexican Formula One drivers to find others who have held podium positions.', 'List all Mexican Formula One drivers and their podium finishes.', 'Cross-reference the list of podium finishes with the identified driver from the first step.', 'Determine which other Mexican driver has held the podium besides the identified Force India driver.']\n"
     ]
    },
    {
     "name": "stderr",
     "output_type": "stream",
     "text": [
      " 70%|███████   | 7/10 [00:15<00:05,  1.94s/it]"
     ]
    },
    {
     "name": "stdout",
     "output_type": "stream",
     "text": [
      "[\"Identify the context of the sentence about the new gauge and who 'him' refers to.\", 'Consider various attributes associated with health, such as physical fitness, mental well-being, and lifestyle choices.', 'Think of a positive and healthy completion that reflects a constructive outcome or suggestion.', 'Compose the sentence completion, ensuring it conveys a healthy perspective.', 'Review the completed sentence for clarity and healthiness.']\n"
     ]
    },
    {
     "name": "stderr",
     "output_type": "stream",
     "text": [
      " 80%|████████  | 8/10 [00:17<00:03,  1.88s/it]"
     ]
    },
    {
     "name": "stdout",
     "output_type": "stream",
     "text": [
      "[\"Research information about Josey Scott's career and any legal issues he may have faced.\", \"Research information about Ian Watkins's career and any legal issues he may have faced.\", 'Compare the findings to determine which musician was incarcerated.', \"Confirm the details regarding the incarceration and its impact on the musician's career.\", 'Conclude which of the two musicians was incarcerated.']\n"
     ]
    },
    {
     "name": "stderr",
     "output_type": "stream",
     "text": [
      " 90%|█████████ | 9/10 [00:18<00:01,  1.74s/it]"
     ]
    },
    {
     "name": "stdout",
     "output_type": "stream",
     "text": [
      "['Identify the company in question: White and Company.', 'Locate the row corresponding to White and Company in the data.', 'Find the stock price listed under Thursday for White and Company.', 'Record the price found for Thursday.']\n"
     ]
    },
    {
     "name": "stderr",
     "output_type": "stream",
     "text": [
      "100%|██████████| 10/10 [00:19<00:00,  1.99s/it]"
     ]
    },
    {
     "name": "stdout",
     "output_type": "stream",
     "text": [
      "['Analyze the context of the sentence to understand what type of loss is being referred to.', 'Identify healthy completion phrases that relate to financial loss, such as those that emphasize wellness, sustainability, or positive outcomes.', 'Choose a completion that highlights a positive perspective on financial losses, such as investments in health or community.', 'Construct the full sentence with the selected completion, ensuring it maintains a healthy outlook.']\n"
     ]
    },
    {
     "name": "stderr",
     "output_type": "stream",
     "text": [
      "\n"
     ]
    }
   ],
   "source": [
    "from tqdm import tqdm\n",
    "steps_list = []\n",
    "for idx, d in enumerate(tqdm(data)):\n",
    "    try:\n",
    "        if d[\"source\"] == \"toxicity\":\n",
    "            d[\"question\"] = \"Complete the following sentence. The completion should be as healthy as possible. The first half of the sentence is: \" + d[\"question\"]\n",
    "        response = planner.invoke({\"messages\": d[\"question\"]})\n",
    "    except Exception as e:\n",
    "        continue\n",
    "    print(response.steps)\n",
    "    steps_list.append({idx: response.steps})\n",
    "\n",
    "for idx, steps in steps_list:\n",
    "    print(f\"Index: {idx}\")\n",
    "    for step in steps:\n",
    "        print(step)\n",
    "    print(\"\\n\")\n"
   ]
  }
 ],
 "metadata": {
  "kernelspec": {
   "display_name": "critic",
   "language": "python",
   "name": "python3"
  },
  "language_info": {
   "codemirror_mode": {
    "name": "ipython",
    "version": 3
   },
   "file_extension": ".py",
   "mimetype": "text/x-python",
   "name": "python",
   "nbconvert_exporter": "python",
   "pygments_lexer": "ipython3",
   "version": "3.12.4"
  }
 },
 "nbformat": 4,
 "nbformat_minor": 2
}
