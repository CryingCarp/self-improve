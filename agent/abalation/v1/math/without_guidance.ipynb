{
 "cells": [
  {
   "metadata": {
    "ExecuteTime": {
     "end_time": "2025-01-16T07:05:23.048872Z",
     "start_time": "2025-01-16T07:05:19.601258Z"
    }
   },
   "cell_type": "code",
   "source": [
    "import os\n",
    "import re\n",
    "\n",
    "from dotenv import load_dotenv, find_dotenv\n",
    "from langchain_openai import ChatOpenAI\n",
    "\n",
    "from agent.utils.loader import load_processed_data\n",
    "\n",
    "_ = load_dotenv(find_dotenv())\n",
    "# Optional, add tracing in LangSmith\n",
    "os.environ[\"LANGCHAIN_TRACING_V2\"] = \"false\"\n",
    "os.environ[\"LANGCHAIN_PROJECT\"] = \"self-correct\"\n",
    "os.environ[\"LANGCHAIN_ENDPOINT\"]=\"https://api.smith.langchain.com\""
   ],
   "id": "4cd3011c37c64e00",
   "outputs": [],
   "execution_count": 2
  },
  {
   "metadata": {
    "ExecuteTime": {
     "end_time": "2025-01-16T07:39:45.492475Z",
     "start_time": "2025-01-16T07:39:44.114271Z"
    }
   },
   "cell_type": "code",
   "source": [
    "meta_info = {\n",
    "\t\"dataset_name\": 'gsm8k',\n",
    "\t\"mode\": \"self-improve\",\n",
    "\t\"base_mode\": \"pot\",\n",
    "\t\"model\": \"gpt-4o-mini-2024-07-18\",\n",
    "\t\"num_samples\": -1,\n",
    "\t\"top_p\": 0.95,\n",
    "\t\"temperature\": 0,\n",
    "\t\"seed\": 42,\n",
    "\t\"batch_size\": 100\n",
    "}\n",
    "assert meta_info[\"mode\"] == \"self-improve\"\n",
    "assert meta_info[\"dataset_name\"] in [\"gsm8k\", \"math\", \"gsmhard\", \"tabmwp\", \"svamp\", \"tabmwp1k\"], \"Invalid dataset name\"\n",
    "\n",
    "processed_data_path = f\"../../../data/processed_data/{meta_info['dataset_name']}.jsonl\"\n",
    "\n",
    "dataset = load_processed_data(dataset_name=meta_info[\"dataset_name\"], file_path=processed_data_path)\n",
    "if meta_info[\"dataset_name\"] == \"tabmwp\":\n",
    "\tdataset = dataset.select_columns([\"question\", \"answer\", \"ques_type\", \"ans_type\", ])\n",
    "elif meta_info[\"dataset_name\"] in [\"tabmwp1k\", \"svamp\"]:\n",
    "\tdataset = dataset.map(lambda x: {\"question\": f\"{x['context']}\\n\\n{x['question']}\"}).remove_columns([\"context\"])\n",
    "model = ChatOpenAI(\n",
    "\tmodel_name=meta_info[\"model\"],\n",
    "\ttop_p=meta_info[\"top_p\"],\n",
    "\ttemperature=meta_info[\"temperature\"],\n",
    "\tseed=meta_info[\"seed\"],\n",
    "\topenai_api_base=\"https://api.chsdw.top/v1\"\n",
    ")\n",
    "\n",
    "if meta_info[\"num_samples\"] > 0:\n",
    "\tdataset = dataset.select(range(meta_info[\"num_samples\"]))\n",
    "print(dataset[2])"
   ],
   "id": "432fc32eecaae51f",
   "outputs": [
    {
     "data": {
      "text/plain": [
       "Generating train split: 0 examples [00:00, ? examples/s]"
      ],
      "application/vnd.jupyter.widget-view+json": {
       "version_major": 2,
       "version_minor": 0,
       "model_id": "d01bc107efd94cccb213bcf01711cc60"
      }
     },
     "metadata": {},
     "output_type": "display_data"
    },
    {
     "name": "stdout",
     "output_type": "stream",
     "text": [
      "{'context': '', 'question': 'Josh decides to try flipping a house.  He buys a house for $80,000 and then puts in $50,000 in repairs.  This increased the value of the house by 150%.  How much profit did he make?', 'answer': '70000'}\n"
     ]
    }
   ],
   "execution_count": 17
  },
  {
   "metadata": {
    "ExecuteTime": {
     "end_time": "2025-01-16T07:06:10.764165Z",
     "start_time": "2025-01-16T07:06:10.688877Z"
    }
   },
   "cell_type": "code",
   "source": [
    "from langgraph.graph import add_messages\n",
    "from langchain_core.messages import BaseMessage\n",
    "from typing import Sequence\n",
    "from typing_extensions import TypedDict, Annotated\n",
    "from langgraph.managed.is_last_step import RemainingSteps\n",
    "\n",
    "\n",
    "class State(TypedDict):\n",
    "\tquestion: str\n",
    "\tremaining_steps: RemainingSteps\n",
    "\tmessages: Annotated[Sequence[BaseMessage], add_messages]\n",
    "\tinitial_answer: str\n",
    "\tfusion: str\n",
    "\tprediction: str"
   ],
   "id": "afa6cb0cf6d56639",
   "outputs": [],
   "execution_count": 4
  },
  {
   "metadata": {
    "ExecuteTime": {
     "end_time": "2025-01-16T07:06:29.872054Z",
     "start_time": "2025-01-16T07:06:27.696850Z"
    }
   },
   "cell_type": "code",
   "source": [
    "from langchain_core.messages import AIMessage\n",
    "from langchain_community.utilities.wikidata import WikidataAPIWrapper\n",
    "from langgraph.prebuilt import ToolNode\n",
    "from agent.utils.tools import GoogleSearchTool, GoogleKnowledgeGraphTool, WikidataTool, WikipediaTool, python_interpreter\n",
    "\n",
    "google_search = GoogleSearchTool()\n",
    "google_knowledge_graph = GoogleKnowledgeGraphTool()\n",
    "wikidata = WikidataTool(api_wrapper=WikidataAPIWrapper())\n",
    "wikipedia = WikipediaTool()\n",
    "tools = [google_search, google_knowledge_graph, wikipedia, wikidata, python_interpreter]\n",
    "\n",
    "model_with_tools = model.bind_tools(tools)\n"
   ],
   "id": "fdb027d60d55c8b0",
   "outputs": [],
   "execution_count": 5
  },
  {
   "metadata": {
    "ExecuteTime": {
     "end_time": "2025-01-16T07:13:15.145078Z",
     "start_time": "2025-01-16T07:13:15.118229Z"
    }
   },
   "cell_type": "code",
   "source": [
    "from langchain_core.prompts import ChatPromptTemplate\n",
    "from typing import Literal\n",
    "\n",
    "critique_prompt = ChatPromptTemplate.from_messages([\n",
    "\t(\n",
    "\t\t\"system\",\n",
    "\t\t\"You are a reactive agent. Given a question or problem, your job is to select the appropriate tools to answer the question or solve the problem. The tool results are reliable. If you find the answer from the tool results, you should provide the answer.\"\n",
    "\t),\n",
    "\t(\n",
    "\t\t\"user\",\n",
    "\t\t\"Question: {question}\"\n",
    "\t)\n",
    "])\n",
    "\n",
    "async def critique_node(state: State):\n",
    "\tassert state[\"question\"] is not None, \"Question is required\"\n",
    "\tquestion:str = state[\"question\"]\n",
    "\tmessages:list[BaseMessage] = []\n",
    "\tif len(state[\"messages\"]) == 0:\n",
    "\t\tmessages = critique_prompt.invoke(input={\"question\": question}).to_messages()\n",
    "\t\tcritique:AIMessage = await model_with_tools.ainvoke(input=messages)\n",
    "\t\tmessages.append(critique)\n",
    "\telse:\n",
    "\t\tcritique:AIMessage = await model_with_tools.ainvoke(input=state[\"messages\"])\n",
    "\t\tmessages.append(critique)\n",
    "\treturn {\"messages\": messages}\n",
    "\n",
    "# Define our tool node\n",
    "tool_node = ToolNode(tools)\n",
    "\n",
    "fusion_prompt = ChatPromptTemplate.from_messages(\n",
    "\t[\n",
    "\t\t(\n",
    "\t\t\t\"system\",\n",
    "\t\t\t\"You are a fusion agent. Given a question or problem and based on the critique process, your job is to fuse the tool results and then revise your final answer. \"\n",
    "\t\t\t\"Your response should contains two part, the first part is the fusion of the Revising Process and the second part is the final answer. In the fusion part, you should extract the information from the tool result and also indicate how you obtained the information.(which tool, which part of the result) In the final answer, \"\n",
    "\t\t\t\"do not include any explanations, context, or additional information. Just focus on delivering the exact answer as concisely as possible!!! \"\n",
    "\t\t\t\"There is no need to answer the question in the form of a complete sentence, just provide the answer in the form of a noun, time, entity, single number, yes or no, etc.\"\n",
    "\t\t),\n",
    "\t\t(\n",
    "\t\t\t\"placeholder\",\n",
    "\t\t\t\"{messages}\"\n",
    "\t\t),\n",
    "\t\t(\n",
    "\t\t\t\"user\",\n",
    "\t\t\t\"Now based on the previous information, please fuse the tool results and revise your answer. Use the XML tag <fusion></fusion> to indicate the fusion part and <answer></answer> to indicate the final answer part.\"\n",
    "\t\t)\n",
    "\t])\n",
    "fusion_generator = fusion_prompt | model\n",
    "\n",
    "async def fusion_node(state: State) -> State:\n",
    "\tassert state[\"question\"] is not None, \"Question is required\"\n",
    "\tcritique_messages:Sequence[BaseMessage] = state[\"messages\"][1:]\n",
    "\tresponse:AIMessage = await fusion_generator.ainvoke(input={\"messages\": critique_messages})\n",
    "\tfusion_matches = re.findall(r\"<fusion>(.*?)</fusion>\", response.content, re.DOTALL)\n",
    "\tanswer_matches = re.findall(r\"<answer>(.*?)</answer>\", response.content, re.DOTALL)\n",
    "\tif fusion_matches:\n",
    "\t\tstate[\"fusion\"] = fusion_matches[0]\n",
    "\telse:\n",
    "\t\tstate[\"fusion\"] = response.content\n",
    "\tif answer_matches:\n",
    "\t\tstate[\"prediction\"] = answer_matches[0]\n",
    "\telse:\n",
    "\t\tstate[\"prediction\"] = \"None\"\n",
    "\n",
    "\treturn state\n",
    "\n",
    "# Define the conditional edge that determines whether to continue or not\n",
    "def should_continue(state: State) -> Literal[\"fuse\", \"tools\"]:\n",
    "\tmessages = state[\"messages\"]\n",
    "\tlast_message = messages[-1]\n",
    "\n",
    "\t# If there is no function call, then we finish\n",
    "\tif last_message.tool_calls:\n",
    "\t\treturn \"tools\"\n",
    "\t# Otherwise if there is, we continue\n",
    "\telse:\n",
    "\t\treturn \"fuse\"\n",
    "\n",
    "def tools_router(state: State) -> Literal[\"fuse\",  \"critique\"]:\n",
    "\tif state[\"remaining_steps\"] <= 3:\n",
    "\t\treturn \"fuse\"\n",
    "\telse:\n",
    "\t\treturn \"critique\""
   ],
   "id": "5d54e73d89094e4c",
   "outputs": [],
   "execution_count": 11
  },
  {
   "metadata": {
    "ExecuteTime": {
     "end_time": "2025-01-16T07:13:21.048475Z",
     "start_time": "2025-01-16T07:13:19.742528Z"
    }
   },
   "cell_type": "code",
   "source": [
    "from langgraph.graph import StateGraph\n",
    "\n",
    "workflow = StateGraph(State)\n",
    "workflow.add_node(\"critique\", critique_node)\n",
    "workflow.add_node(\"tools\", tool_node)\n",
    "workflow.add_node(\"fuse\", fusion_node)\n",
    "\n",
    "workflow.set_entry_point(\"critique\")\n",
    "workflow.add_conditional_edges(\"tools\", tools_router)\n",
    "workflow.add_conditional_edges(\"critique\", should_continue)\n",
    "workflow.add_edge(\"fuse\", \"__end__\")\n",
    "\n",
    "app = workflow.compile()\n",
    "\n",
    "from IPython.display import Image, display\n",
    "\n",
    "try:\n",
    "    display(Image(app.get_graph().draw_mermaid_png()))\n",
    "except Exception:\n",
    "    pass"
   ],
   "id": "721cfdac0693b3df",
   "outputs": [
    {
     "data": {
      "image/png": "[encoded data removed]",
      "text/plain": [
       "<IPython.core.display.Image object>"
      ]
     },
     "metadata": {},
     "output_type": "display_data"
    }
   ],
   "execution_count": 12
  },
  {
   "metadata": {
    "ExecuteTime": {
     "end_time": "2025-01-16T07:40:06.627233Z",
     "start_time": "2025-01-16T07:40:00.152743Z"
    }
   },
   "cell_type": "code",
   "source": [
    "inputs = {**dataset[3], \"messages\": []}\n",
    "async for event in app.astream(inputs):\n",
    "    for k, v in event.items():\n",
    "        if k != \"__end__\":\n",
    "            print(v)"
   ],
   "id": "13034f16687e9bd8",
   "outputs": [
    {
     "name": "stdout",
     "output_type": "stream",
     "text": [
      "{'messages': [SystemMessage(content='You are a reactive agent. Given a question or problem, your job is to select the appropriate tools to answer the question or solve the problem. The tool results are reliable. If you find the answer from the tool results, you should provide the answer.', additional_kwargs={}, response_metadata={}, id='cabc3c9c-7167-4c52-9bc5-6933c6289b89'), HumanMessage(content='Question: James decides to run 3 sprints 3 times a week.  He runs 60 meters each sprint.  How many total meters does he run a week?', additional_kwargs={}, response_metadata={}, id='15081712-e204-45b9-b499-11393c1ee9a0'), AIMessage(content='', additional_kwargs={'tool_calls': [{'id': 'call_bhtW2QKameMr6lnAtzj0Ydgc', 'function': {'arguments': '{\"code_string\":\"# Number of sprints per session\\\\nsprints_per_session = 3\\\\n# Number of sessions per week\\\\nsessions_per_week = 3\\\\n# Distance per sprint in meters\\\\ndistance_per_sprint = 60\\\\n# Total distance per week\\\\ntotal_distance_per_week = sprints_per_session * sessions_per_week * distance_per_sprint\\\\n# Store the result in <answer>\\\\nanswer = total_distance_per_week\"}', 'name': 'python_interpreter'}, 'type': 'function'}], 'refusal': None}, response_metadata={'token_usage': {'completion_tokens': 100, 'prompt_tokens': 619, 'total_tokens': 719, 'completion_tokens_details': {'reasoning_tokens': 0, 'audio_tokens': 0, 'accepted_prediction_tokens': 0, 'rejected_prediction_tokens': 0}, 'prompt_tokens_details': {'cached_tokens': 0, 'audio_tokens': 0}}, 'model_name': 'gpt-4o-mini-2024-07-18', 'system_fingerprint': 'fp_5154047bf2', 'finish_reason': 'tool_calls', 'logprobs': None}, id='run-b505f01a-64d4-4ae8-ad9f-304f185ae482-0', tool_calls=[{'name': 'python_interpreter', 'args': {'code_string': '# Number of sprints per session\\nsprints_per_session = 3\\n# Number of sessions per week\\nsessions_per_week = 3\\n# Distance per sprint in meters\\ndistance_per_sprint = 60\\n# Total distance per week\\ntotal_distance_per_week = sprints_per_session * sessions_per_week * distance_per_sprint\\n# Store the result in <answer>\\nanswer = total_distance_per_week'}, 'id': 'call_bhtW2QKameMr6lnAtzj0Ydgc', 'type': 'tool_call'}], usage_metadata={'input_tokens': 619, 'output_tokens': 100, 'total_tokens': 719})]}\n",
      "{'messages': [ToolMessage(content=\"The code string should be enclosed with '```python' and '```' to indicate the code block.\", name='python_interpreter', id='ef57307f-8fa3-4089-aefb-6770c78fbfac', tool_call_id='call_bhtW2QKameMr6lnAtzj0Ydgc')]}\n",
      "{'messages': [AIMessage(content='', additional_kwargs={'tool_calls': [{'id': 'call_sKrWIUrDLp1NKmqdIvmEjh27', 'function': {'arguments': '{\"code_string\":\"```python\\\\n# Number of sprints per session\\\\nsprints_per_session = 3\\\\n# Number of sessions per week\\\\nsessions_per_week = 3\\\\n# Distance per sprint in meters\\\\ndistance_per_sprint = 60\\\\n# Total distance per week\\\\ntotal_distance_per_week = sprints_per_session * sessions_per_week * distance_per_sprint\\\\n# Store the result in <answer>\\\\nanswer = total_distance_per_week\\\\n```\"}', 'name': 'python_interpreter'}, 'type': 'function'}], 'refusal': None}, response_metadata={'token_usage': {'completion_tokens': 107, 'prompt_tokens': 751, 'total_tokens': 858, 'completion_tokens_details': {'reasoning_tokens': 0, 'audio_tokens': 0, 'accepted_prediction_tokens': 0, 'rejected_prediction_tokens': 0}, 'prompt_tokens_details': {'cached_tokens': 0, 'audio_tokens': 0}}, 'model_name': 'gpt-4o-mini-2024-07-18', 'system_fingerprint': 'fp_5154047bf2', 'finish_reason': 'tool_calls', 'logprobs': None}, id='run-bced83f0-aa78-42ea-b8ed-a885d4b162fa-0', tool_calls=[{'name': 'python_interpreter', 'args': {'code_string': '```python\\n# Number of sprints per session\\nsprints_per_session = 3\\n# Number of sessions per week\\nsessions_per_week = 3\\n# Distance per sprint in meters\\ndistance_per_sprint = 60\\n# Total distance per week\\ntotal_distance_per_week = sprints_per_session * sessions_per_week * distance_per_sprint\\n# Store the result in <answer>\\nanswer = total_distance_per_week\\n```'}, 'id': 'call_sKrWIUrDLp1NKmqdIvmEjh27', 'type': 'tool_call'}], usage_metadata={'input_tokens': 751, 'output_tokens': 107, 'total_tokens': 858})]}\n",
      "{'messages': [ToolMessage(content='Done\\nThe final value of the variable <answer> is: 540.', name='python_interpreter', id='3703a9cf-f694-4822-9c25-19139f3c7657', tool_call_id='call_sKrWIUrDLp1NKmqdIvmEjh27')]}\n",
      "{'messages': [AIMessage(content='James runs a total of 540 meters per week.', additional_kwargs={'refusal': None}, response_metadata={'token_usage': {'completion_tokens': 12, 'prompt_tokens': 883, 'total_tokens': 895, 'completion_tokens_details': {'reasoning_tokens': 0, 'audio_tokens': 0, 'accepted_prediction_tokens': 0, 'rejected_prediction_tokens': 0}, 'prompt_tokens_details': {'cached_tokens': 0, 'audio_tokens': 0}}, 'model_name': 'gpt-4o-mini-2024-07-18', 'system_fingerprint': 'fp_5154047bf2', 'finish_reason': 'stop', 'logprobs': None}, id='run-3dba2e99-218a-4997-85e9-7ba63331b9cf-0', usage_metadata={'input_tokens': 883, 'output_tokens': 12, 'total_tokens': 895})]}\n",
      "{'question': 'James decides to run 3 sprints 3 times a week.  He runs 60 meters each sprint.  How many total meters does he run a week?', 'messages': [SystemMessage(content='You are a reactive agent. Given a question or problem, your job is to select the appropriate tools to answer the question or solve the problem. The tool results are reliable. If you find the answer from the tool results, you should provide the answer.', additional_kwargs={}, response_metadata={}, id='cabc3c9c-7167-4c52-9bc5-6933c6289b89'), HumanMessage(content='Question: James decides to run 3 sprints 3 times a week.  He runs 60 meters each sprint.  How many total meters does he run a week?', additional_kwargs={}, response_metadata={}, id='15081712-e204-45b9-b499-11393c1ee9a0'), AIMessage(content='', additional_kwargs={'tool_calls': [{'id': 'call_bhtW2QKameMr6lnAtzj0Ydgc', 'function': {'arguments': '{\"code_string\":\"# Number of sprints per session\\\\nsprints_per_session = 3\\\\n# Number of sessions per week\\\\nsessions_per_week = 3\\\\n# Distance per sprint in meters\\\\ndistance_per_sprint = 60\\\\n# Total distance per week\\\\ntotal_distance_per_week = sprints_per_session * sessions_per_week * distance_per_sprint\\\\n# Store the result in <answer>\\\\nanswer = total_distance_per_week\"}', 'name': 'python_interpreter'}, 'type': 'function'}], 'refusal': None}, response_metadata={'token_usage': {'completion_tokens': 100, 'prompt_tokens': 619, 'total_tokens': 719, 'completion_tokens_details': {'reasoning_tokens': 0, 'audio_tokens': 0, 'accepted_prediction_tokens': 0, 'rejected_prediction_tokens': 0}, 'prompt_tokens_details': {'cached_tokens': 0, 'audio_tokens': 0}}, 'model_name': 'gpt-4o-mini-2024-07-18', 'system_fingerprint': 'fp_5154047bf2', 'finish_reason': 'tool_calls', 'logprobs': None}, id='run-b505f01a-64d4-4ae8-ad9f-304f185ae482-0', tool_calls=[{'name': 'python_interpreter', 'args': {'code_string': '# Number of sprints per session\\nsprints_per_session = 3\\n# Number of sessions per week\\nsessions_per_week = 3\\n# Distance per sprint in meters\\ndistance_per_sprint = 60\\n# Total distance per week\\ntotal_distance_per_week = sprints_per_session * sessions_per_week * distance_per_sprint\\n# Store the result in <answer>\\nanswer = total_distance_per_week'}, 'id': 'call_bhtW2QKameMr6lnAtzj0Ydgc', 'type': 'tool_call'}], usage_metadata={'input_tokens': 619, 'output_tokens': 100, 'total_tokens': 719}), ToolMessage(content=\"The code string should be enclosed with '```python' and '```' to indicate the code block.\", name='python_interpreter', id='ef57307f-8fa3-4089-aefb-6770c78fbfac', tool_call_id='call_bhtW2QKameMr6lnAtzj0Ydgc'), AIMessage(content='', additional_kwargs={'tool_calls': [{'id': 'call_sKrWIUrDLp1NKmqdIvmEjh27', 'function': {'arguments': '{\"code_string\":\"```python\\\\n# Number of sprints per session\\\\nsprints_per_session = 3\\\\n# Number of sessions per week\\\\nsessions_per_week = 3\\\\n# Distance per sprint in meters\\\\ndistance_per_sprint = 60\\\\n# Total distance per week\\\\ntotal_distance_per_week = sprints_per_session * sessions_per_week * distance_per_sprint\\\\n# Store the result in <answer>\\\\nanswer = total_distance_per_week\\\\n```\"}', 'name': 'python_interpreter'}, 'type': 'function'}], 'refusal': None}, response_metadata={'token_usage': {'completion_tokens': 107, 'prompt_tokens': 751, 'total_tokens': 858, 'completion_tokens_details': {'reasoning_tokens': 0, 'audio_tokens': 0, 'accepted_prediction_tokens': 0, 'rejected_prediction_tokens': 0}, 'prompt_tokens_details': {'cached_tokens': 0, 'audio_tokens': 0}}, 'model_name': 'gpt-4o-mini-2024-07-18', 'system_fingerprint': 'fp_5154047bf2', 'finish_reason': 'tool_calls', 'logprobs': None}, id='run-bced83f0-aa78-42ea-b8ed-a885d4b162fa-0', tool_calls=[{'name': 'python_interpreter', 'args': {'code_string': '```python\\n# Number of sprints per session\\nsprints_per_session = 3\\n# Number of sessions per week\\nsessions_per_week = 3\\n# Distance per sprint in meters\\ndistance_per_sprint = 60\\n# Total distance per week\\ntotal_distance_per_week = sprints_per_session * sessions_per_week * distance_per_sprint\\n# Store the result in <answer>\\nanswer = total_distance_per_week\\n```'}, 'id': 'call_sKrWIUrDLp1NKmqdIvmEjh27', 'type': 'tool_call'}], usage_metadata={'input_tokens': 751, 'output_tokens': 107, 'total_tokens': 858}), ToolMessage(content='Done\\nThe final value of the variable <answer> is: 540.', name='python_interpreter', id='3703a9cf-f694-4822-9c25-19139f3c7657', tool_call_id='call_sKrWIUrDLp1NKmqdIvmEjh27'), AIMessage(content='James runs a total of 540 meters per week.', additional_kwargs={'refusal': None}, response_metadata={'token_usage': {'completion_tokens': 12, 'prompt_tokens': 883, 'total_tokens': 895, 'completion_tokens_details': {'reasoning_tokens': 0, 'audio_tokens': 0, 'accepted_prediction_tokens': 0, 'rejected_prediction_tokens': 0}, 'prompt_tokens_details': {'cached_tokens': 0, 'audio_tokens': 0}}, 'model_name': 'gpt-4o-mini-2024-07-18', 'system_fingerprint': 'fp_5154047bf2', 'finish_reason': 'stop', 'logprobs': None}, id='run-3dba2e99-218a-4997-85e9-7ba63331b9cf-0', usage_metadata={'input_tokens': 883, 'output_tokens': 12, 'total_tokens': 895})], 'fusion': 'Extracted total distance per week from the tool result: 540 (calculated using the formula: sprints_per_session * sessions_per_week * distance_per_sprint)', 'prediction': '540'}\n"
     ]
    }
   ],
   "execution_count": 18
  },
  {
   "metadata": {},
   "cell_type": "code",
   "outputs": [],
   "execution_count": null,
   "source": "dataset[3]",
   "id": "c8563cdb20e5abad"
  },
  {
   "metadata": {
    "ExecuteTime": {
     "end_time": "2025-01-16T07:40:16.874407Z",
     "start_time": "2025-01-16T07:40:16.861070Z"
    }
   },
   "cell_type": "code",
   "source": [
    "from tqdm.asyncio import tqdm_asyncio\n",
    "import os\n",
    "import json\n",
    "import logging\n",
    "import nest_asyncio\n",
    "\n",
    "# 配置logger\n",
    "logging.basicConfig(\n",
    "    level=logging.ERROR,  # 设置日志级别\n",
    "    format='%(asctime)s - %(levelname)s - %(message)s',  # 设置日志格式\n",
    "    handlers=[\n",
    "        logging.FileHandler(\"inference.log\"),  # 将日志输出到文件\n",
    "        logging.StreamHandler()  # 也输出到控制台\n",
    "    ]\n",
    ")\n",
    "\n",
    "logger = logging.getLogger(\"InferenceLogger\")\n",
    "\n",
    "nest_asyncio.apply()\n",
    "results = []\n",
    "batch_size = 100\n",
    "save_results_path = f\"../../../output/ablation/{meta_info['model']}/{meta_info['dataset_name']}/{meta_info['mode']}/{meta_info['base_mode']}_num_samples_{meta_info['num_samples']}_top_p_{meta_info['top_p']}_temperature_{meta_info['temperature']}_seed_{meta_info['seed']}.jsonl\"\n",
    "\n",
    "async def process(item):\n",
    "    try:\n",
    "        state = await app.ainvoke({**item, \"messages\": []})\n",
    "        state[\"messages\"] = [message.pretty_repr() for message in state[\"messages\"]]\n",
    "        logger.info(f\"Processed item: {item}\")\n",
    "        return {**item, **state}\n",
    "    except Exception as e:\n",
    "        logger.error(f\"Error processing item: {item}. Error: {e}\")\n",
    "        return {**item, \"prediction\": \"None\"}\n",
    "\n",
    "async def self_improve_inference() -> None:\n",
    "    error_indices = []  # 用于记录包含 \"ERROR\" 的条目索引\n",
    "\n",
    "    # 读取已有结果或初始化文件\n",
    "    if os.path.exists(save_results_path):\n",
    "        logger.info(f\"Loading existing results from {save_results_path}\")\n",
    "        with open(save_results_path, 'r') as file:\n",
    "            for idx, line in enumerate(file):\n",
    "                result = json.loads(line)\n",
    "                results.append(result)\n",
    "                # 检查是否存在 \"prediction: ERROR\"\n",
    "                if \"None\" == result.get(\"prediction\"):\n",
    "                    error_indices.append(idx)\n",
    "    else:\n",
    "        folder_path = os.path.dirname(save_results_path)\n",
    "        os.makedirs(folder_path, exist_ok=True)\n",
    "        logger.info(f\"Created directory for results: {folder_path}\")\n",
    "\n",
    "    # 重新推理错误的数据\n",
    "    if error_indices:\n",
    "        logger.warning(f\"Found {len(error_indices)} ERROR entries. Retrying inference...\")\n",
    "        error_data = [dataset[idx] for idx in error_indices]\n",
    "        new_results = await tqdm_asyncio.gather(*(process(item) for item in error_data))\n",
    "        # 更新原始结果\n",
    "        for i, new_result in zip(error_indices, new_results):\n",
    "            results[i] = new_result\n",
    "\n",
    "\n",
    "    for idx in range(len(results), dataset.num_rows, batch_size):\n",
    "        batch = dataset.select(range(idx, min(idx + batch_size, dataset.num_rows)))\n",
    "        batch_results = await tqdm_asyncio.gather(*(process(item) for item in batch))\n",
    "        results.extend(batch_results)\n",
    "\n",
    "        logger.info(f\"Processed batch starting at index {idx}\")\n",
    "\n",
    "        # 保存结果\n",
    "        with open(save_results_path, 'qa') as file:\n",
    "            for result in results:\n",
    "                file.write(json.dumps(result) + \"\\n\")\n",
    "        logger.info(f\"Saved results to {save_results_path}\")"
   ],
   "id": "ea507dced72aea26",
   "outputs": [],
   "execution_count": 19
  },
  {
   "metadata": {
    "ExecuteTime": {
     "end_time": "2025-01-16T07:59:17.367142Z",
     "start_time": "2025-01-16T07:40:26.512208Z"
    }
   },
   "cell_type": "code",
   "source": [
    "await self_improve_inference()\n",
    "# 保存结果"
   ],
   "id": "2b80ff65791953cb",
   "outputs": [
    {
     "name": "stderr",
     "output_type": "stream",
     "text": [
      "100%|██████████| 100/100 [01:01<00:00,  1.63it/s]\n",
      "100%|██████████| 100/100 [01:05<00:00,  1.52it/s]\n",
      "100%|██████████| 100/100 [00:51<00:00,  1.94it/s]\n",
      "100%|██████████| 100/100 [01:27<00:00,  1.15it/s]\n",
      "100%|██████████| 100/100 [01:06<00:00,  1.50it/s]\n",
      "100%|██████████| 100/100 [01:32<00:00,  1.09it/s]\n",
      "100%|██████████| 100/100 [01:13<00:00,  1.36it/s]\n",
      "100%|██████████| 100/100 [01:33<00:00,  1.07it/s]\n",
      "100%|██████████| 100/100 [00:50<00:00,  2.00it/s]\n",
      "100%|██████████| 100/100 [02:09<00:00,  1.30s/it]\n",
      "100%|██████████| 100/100 [01:49<00:00,  1.09s/it]\n",
      "100%|██████████| 100/100 [01:15<00:00,  1.33it/s]\n",
      "100%|██████████| 100/100 [02:14<00:00,  1.35s/it]\n",
      "100%|██████████| 19/19 [00:39<00:00,  2.08s/it]\n"
     ]
    }
   ],
   "execution_count": 20
  },
  {
   "metadata": {},
   "cell_type": "code",
   "outputs": [],
   "execution_count": null,
   "source": [
    "with open(save_results_path, 'qa') as file:\n",
    "\tfor result in results:\n",
    "\t\tfile.write(json.dumps(result) + \"\\n\")\n",
    "logger.info(f\"Saved results to {save_results_path}\")"
   ],
   "id": "51f0174406d9b735"
  }
 ],
 "metadata": {
  "kernelspec": {
   "display_name": "Python 3",
   "language": "python",
   "name": "python3"
  },
  "language_info": {
   "codemirror_mode": {
    "name": "ipython",
    "version": 2
   },
   "file_extension": ".py",
   "mimetype": "text/x-python",
   "name": "python",
   "nbconvert_exporter": "python",
   "pygments_lexer": "ipython2",
   "version": "2.7.6"
  }
 },
 "nbformat": 4,
 "nbformat_minor": 5
}
