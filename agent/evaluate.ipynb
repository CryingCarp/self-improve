{
 "cells": [
  {
   "cell_type": "markdown",
   "metadata": {},
   "source": [
    "# hotpot_qa"
   ]
  },
  {
   "cell_type": "code",
   "execution_count": 6,
   "metadata": {},
   "outputs": [
    {
     "data": {
      "application/vnd.jupyter.widget-view+json": {
       "model_id": "bfeca0b0f76b4263a9c6a155c7c51c52",
       "version_major": 2,
       "version_minor": 0
      },
      "text/plain": [
       "Generating train split: 0 examples [00:00, ? examples/s]"
      ]
     },
     "metadata": {},
     "output_type": "display_data"
    },
    {
     "name": "stdout",
     "output_type": "stream",
     "text": [
      "Dataset({\n",
      "    features: ['idx', 'question', 'predictions', 'answer'],\n",
      "    num_rows: 200\n",
      "})\n"
     ]
    }
   ],
   "source": [
    "from datasets import load_dataset\n",
    "\n",
    "dataset = load_dataset(\"json\", data_files=\"/Users/ariete/Projects/self-improve/output/hotpot_qa/200_critic.jsonl\", split=\"train\")\n",
    "print(dataset)"
   ]
  },
  {
   "cell_type": "code",
   "execution_count": null,
   "metadata": {},
   "outputs": [],
   "source": [
    "import numpy as np\n",
    "from utils.qa import em_f1_score, normalize_answer\n",
    "em_scores = []\n",
    "f1_scores = []\n",
    "precision_scores = []\n",
    "recall_scores = []\n",
    "for idx, sample in enumerate(dataset):\n",
    "        \n",
    "\n",
    "    cur_em = []\n",
    "    cur_f1 = []\n",
    "    cur_precesion = []\n",
    "    cur_recall = []\n",
    "\n",
    "    predictions = [prediction.split(\"FINAL ANSWER:\")[-1].strip() for prediction in sample[\"predictions\"]]\n",
    "\n",
    "    while len(predictions) < 5:\n",
    "        predictions.append(predictions[-1])\n",
    "    print(normalize_answer(sample['answer']))\n",
    "    print([normalize_answer(prediction) for prediction in predictions])\n",
    "    print()\n",
    "\n",
    "    for prediction in predictions:\n",
    "\n",
    "        em, f1, precision, recall = em_f1_score(normalize_answer(prediction), normalize_answer(sample['answer']))\n",
    "\n",
    "        cur_em.append(em)\n",
    "        cur_f1.append(f1)\n",
    "        cur_precesion.append(precision)\n",
    "        cur_recall.append(recall)\n",
    "    \n",
    "\n",
    "    em_scores.append(cur_em)\n",
    "    f1_scores.append(cur_f1)\n",
    "    precision_scores.append(cur_precesion)\n",
    "    recall_scores.append(cur_recall)\n",
    "    \n",
    "\n",
    "# output mean of each column of scores\n",
    "em_means = np.array(em_scores).mean(axis=0)\n",
    "em_means = np.round(em_means* 100, decimals=1)\n",
    "\n",
    "f1_means = np.array(f1_scores).mean(axis=0)\n",
    "f1_means = np.round(f1_means* 100, decimals=1)\n",
    "\n",
    "precision_means = np.array(precision_scores).mean(axis=0)\n",
    "precision_means = np.round(precision_means* 100, decimals=1)\n",
    "\n",
    "recall_means = np.array(recall_scores).mean(axis=0)\n",
    "recall_means = np.round(recall_means* 100, decimals=1)\n",
    "\n",
    "print(f\"em_means: {em_means}\\n\", f\"f1_means: {f1_means}\\n\", f\"precision_means: {precision_means}\\n\", f\"recall_means: {recall_means}\\n\")\n"
   ]
  },
  {
   "cell_type": "markdown",
   "metadata": {},
   "source": [
    "# gsm8k"
   ]
  },
  {
   "cell_type": "code",
   "execution_count": 8,
   "metadata": {},
   "outputs": [
    {
     "data": {
      "application/vnd.jupyter.widget-view+json": {
       "model_id": "10f567983b6449fd92bec451621b5632",
       "version_major": 2,
       "version_minor": 0
      },
      "text/plain": [
       "Generating train split: 0 examples [00:00, ? examples/s]"
      ]
     },
     "metadata": {},
     "output_type": "display_data"
    },
    {
     "name": "stdout",
     "output_type": "stream",
     "text": [
      "Dataset({\n",
      "    features: ['idx', 'question', 'predictions', 'answer', 'prediction'],\n",
      "    num_rows: 200\n",
      "})\n"
     ]
    }
   ],
   "source": [
    "from datasets import load_dataset\n",
    "\n",
    "dataset = load_dataset(\"json\", data_files=\"/Users/ariete/Projects/self-improve/output/gsm8k/200_critic.jsonl\", split=\"train\")\n",
    "print(dataset)"
   ]
  },
  {
   "cell_type": "code",
   "execution_count": 9,
   "metadata": {},
   "outputs": [],
   "source": [
    "import re\n",
    "from typing import Union\n",
    "\n",
    "def normalize_answer(answer: str):\n",
    "    answer = str(answer)\n",
    "    # number\n",
    "    answer = answer.replace(\",\", \"\")\n",
    "    digits = re.findall(r\"-?\\d+\\.?\\d*\", answer)\n",
    "    answer = digits[-1] if len(digits) > 0 else None\n",
    "    return floatify_ans(answer)\n",
    "\n",
    "\n",
    "def get_precision(gt_ans: float) -> int:\n",
    "    precision = 5\n",
    "    if '.' in str(gt_ans):\n",
    "        precision = len(str(gt_ans).split('.')[-1])\n",
    "    return precision\n",
    "\n",
    "\n",
    "def finqa_equal(prediction: Union[bool, float, str],\n",
    "                reference: Union[float, str],\n",
    "                include_percentage: bool = True,\n",
    "                is_close: float = False) -> bool:\n",
    "    if prediction is None:\n",
    "        return False\n",
    "    elif type(prediction) == bool:\n",
    "        # bool questions\n",
    "        if prediction:\n",
    "            return reference == 'yes'\n",
    "        else:\n",
    "            return reference == 'no'\n",
    "    elif type(reference) == str or type(prediction) == str:\n",
    "        # string questions\n",
    "        return prediction == reference\n",
    "    else:\n",
    "        # number questions\n",
    "        if include_percentage:\n",
    "            gt_result = [reference / 100, reference, reference * 100]\n",
    "        else:\n",
    "            gt_result = [reference]\n",
    "        for item in gt_result:\n",
    "            try:\n",
    "                if is_close:\n",
    "                    if isclose(item, prediction, rel_tol=0.001):\n",
    "                        return True\n",
    "                precision = min(get_precision(prediction), get_precision(item))\n",
    "                if round(prediction, precision) == round(item, precision):\n",
    "                    return True\n",
    "            except Exception:\n",
    "                continue\n",
    "        return False\n",
    "\n",
    "\n",
    "def round_with_error(x):\n",
    "    return round(x * 1e5) / 1e5\n",
    "\n",
    "\n",
    "def floatify_ans(ans):\n",
    "    \"\"\"gsm8k\"\"\"\n",
    "    if ans is None:\n",
    "        return None\n",
    "    elif type(ans) == dict:\n",
    "        ans = list(ans.values())[0]\n",
    "    elif type(ans) == bool:\n",
    "        ans = ans\n",
    "    elif type(ans) in [list, tuple]:\n",
    "        if not ans:\n",
    "            return None\n",
    "        else:\n",
    "            try:\n",
    "                ans = float(ans[0])\n",
    "            except Exception:\n",
    "                ans = str(ans[0])\n",
    "    else:\n",
    "        try:\n",
    "            ans = float(ans)\n",
    "            ans = round_with_error(ans)\n",
    "        except Exception:\n",
    "            ans = str(ans)\n",
    "    return ans"
   ]
  },
  {
   "cell_type": "code",
   "execution_count": 15,
   "metadata": {},
   "outputs": [
    {
     "ename": "TypeError",
     "evalue": "'int' object is not iterable",
     "output_type": "error",
     "traceback": [
      "\u001b[0;31m---------------------------------------------------------------------------\u001b[0m",
      "\u001b[0;31mTypeError\u001b[0m                                 Traceback (most recent call last)",
      "Cell \u001b[0;32mIn[15], line 11\u001b[0m\n\u001b[1;32m      8\u001b[0m     sample[\u001b[38;5;124m\"\u001b[39m\u001b[38;5;124mpredictions\u001b[39m\u001b[38;5;124m\"\u001b[39m]\u001b[38;5;241m.\u001b[39mappend(sample[\u001b[38;5;124m\"\u001b[39m\u001b[38;5;124mpredictions\u001b[39m\u001b[38;5;124m\"\u001b[39m][\u001b[38;5;241m-\u001b[39m\u001b[38;5;241m1\u001b[39m])\n\u001b[1;32m     10\u001b[0m is_correct \u001b[38;5;241m=\u001b[39m []\n\u001b[0;32m---> 11\u001b[0m \u001b[43m\u001b[49m\u001b[38;5;28;43;01mfor\u001b[39;49;00m\u001b[43m \u001b[49m\u001b[43midx\u001b[49m\u001b[43m \u001b[49m\u001b[38;5;129;43;01min\u001b[39;49;00m\u001b[43m \u001b[49m\u001b[38;5;28;43mlen\u001b[39;49m\u001b[43m(\u001b[49m\u001b[43msample\u001b[49m\u001b[43m[\u001b[49m\u001b[38;5;124;43m\"\u001b[39;49m\u001b[38;5;124;43mpredictions\u001b[39;49m\u001b[38;5;124;43m\"\u001b[39;49m\u001b[43m]\u001b[49m\u001b[43m)\u001b[49m\u001b[43m:\u001b[49m\n\u001b[1;32m     12\u001b[0m \u001b[43m    \u001b[49m\u001b[43mis_correct\u001b[49m\u001b[38;5;241;43m.\u001b[39;49m\u001b[43mappend\u001b[49m\u001b[43m(\u001b[49m\u001b[43mfinqa_equal\u001b[49m\u001b[43m(\u001b[49m\u001b[43mnormalize_answer\u001b[49m\u001b[43m(\u001b[49m\u001b[43msample\u001b[49m\u001b[43m[\u001b[49m\u001b[38;5;124;43m\"\u001b[39;49m\u001b[38;5;124;43mpredictions\u001b[39;49m\u001b[38;5;124;43m\"\u001b[39;49m\u001b[43m]\u001b[49m\u001b[43m[\u001b[49m\u001b[38;5;241;43m-\u001b[39;49m\u001b[38;5;241;43m1\u001b[39;49m\u001b[43m]\u001b[49m\u001b[43m)\u001b[49m\u001b[43m,\u001b[49m\u001b[43m \u001b[49m\u001b[43mnormalize_answer\u001b[49m\u001b[43m(\u001b[49m\u001b[43msample\u001b[49m\u001b[43m[\u001b[49m\u001b[38;5;124;43m\"\u001b[39;49m\u001b[38;5;124;43manswer\u001b[39;49m\u001b[38;5;124;43m\"\u001b[39;49m\u001b[43m]\u001b[49m\u001b[43m)\u001b[49m\u001b[43m)\u001b[49m\u001b[43m)\u001b[49m\n\u001b[1;32m     13\u001b[0m \u001b[38;5;66;03m# print(is_correct)\u001b[39;00m\n",
      "\u001b[0;31mTypeError\u001b[0m: 'int' object is not iterable"
     ]
    }
   ],
   "source": [
    "import numpy as np\n",
    "\n",
    "scores = []\n",
    "\n",
    "for idx, sample in enumerate(dataset):\n",
    "\n",
    "    while len(sample[\"predictions\"]) < 4:\n",
    "        sample[\"predictions\"].append(sample[\"predictions\"][-1])\n",
    "    \n",
    "    is_correct = []\n",
    "    for prediction in sample[\"predictions\"]:\n",
    "        is_correct.append(finqa_equal(normalize_answer(prediction), normalize_answer(sample[\"answer\"])))\n",
    "    # print(is_correct)\n",
    "    scores.append(is_correct)\n",
    "\n",
    "print(scores)"
   ]
  }
 ],
 "metadata": {
  "kernelspec": {
   "display_name": "selfimprove",
   "language": "python",
   "name": "python3"
  },
  "language_info": {
   "codemirror_mode": {
    "name": "ipython",
    "version": 3
   },
   "file_extension": ".py",
   "mimetype": "text/x-python",
   "name": "python",
   "nbconvert_exporter": "python",
   "pygments_lexer": "ipython3",
   "version": "3.12.4"
  }
 },
 "nbformat": 4,
 "nbformat_minor": 2
}
