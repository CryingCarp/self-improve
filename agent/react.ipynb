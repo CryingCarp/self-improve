{
 "cells": [
  {
   "cell_type": "code",
   "execution_count": 3,
   "metadata": {},
   "outputs": [],
   "source": [
    "from tqdm import tqdm\n",
    "import json\n",
    "from langchain_openai import ChatOpenAI\n",
    "from langchain_core.messages import HumanMessage, AIMessage, ToolMessage, SystemMessage\n",
    "\n",
    "import getpass\n",
    "import os\n",
    "\n",
    "\n",
    "def _set_if_undefined(var: str):\n",
    "    if not os.environ.get(var):\n",
    "        os.environ[var] = getpass.getpass(f\"Please provide your {var}\")\n",
    "\n",
    "_set_if_undefined(\"LANGCHAIN_API_KEY\")"
   ]
  },
  {
   "cell_type": "code",
   "execution_count": 4,
   "metadata": {},
   "outputs": [
    {
     "name": "stdout",
     "output_type": "stream",
     "text": [
      "Number of domains: 192\n"
     ]
    }
   ],
   "source": [
    "from utils.tools import construct_tools, get_tools_descriptions\n",
    "from langgraph.prebuilt import ToolNode\n",
    "\n",
    "tools = construct_tools()\n",
    "tools_descriptions = get_tools_descriptions(tools)\n",
    "tool_node = ToolNode(tools)\n",
    "from langchain_openai import ChatOpenAI"
   ]
  },
  {
   "cell_type": "code",
   "execution_count": 9,
   "metadata": {},
   "outputs": [],
   "source": [
    "from langgraph.prebuilt import create_react_agent\n",
    "\n",
    "system_prompt = (\"Answer the following question. \"\n",
    "                 \"Remember your FINAL ANSWER should be clear and concise.(a single number or phrases, not a sentence!)\"\n",
    "                 \"Follow the format: \\n\"\n",
    "                 \"FINAL ANSWER: <your answer>\")\n",
    "graph = create_react_agent(llm, tools=tools, state_modifier=system_prompt)"
   ]
  },
  {
   "cell_type": "markdown",
   "metadata": {},
   "source": [
    "# gsm8k"
   ]
  },
  {
   "cell_type": "code",
   "execution_count": 5,
   "metadata": {},
   "outputs": [],
   "source": [
    "dataset_name = \"gsm8k\"\n",
    "mode = \"react\"\n",
    "num_test_sample = 200\n",
    "llm = ChatOpenAI(temperature=0, model=\"gpt-4o-mini\", base_url=\"https://api.chsdw.top/v1\", max_retries=3)"
   ]
  },
  {
   "cell_type": "code",
   "execution_count": 6,
   "metadata": {},
   "outputs": [
    {
     "name": "stdout",
     "output_type": "stream",
     "text": [
      "Dataset({\n",
      "    features: ['question', 'answer'],\n",
      "    num_rows: 200\n",
      "})\n"
     ]
    }
   ],
   "source": [
    "from datasets import load_dataset\n",
    "dataset = load_dataset(\"json\", data_files=f\"../data/{dataset_name}.jsonl\", split=\"train\")\n",
    "if num_test_sample > 0:\n",
    "    dataset = dataset.select(range(num_test_sample))\n",
    "dataset = dataset.map(lambda example: {\"question\": example[\"question\"], \"answer\": example[\"answer\"].split(\"#### \")[-1]})\n",
    "print(dataset)"
   ]
  },
  {
   "cell_type": "code",
   "execution_count": 13,
   "metadata": {},
   "outputs": [],
   "source": [
    "from langchain_core.messages import HumanMessage, AIMessage, ToolMessage, SystemMessage, BaseMessage\n",
    "\n",
    "async def react(item, graph, dataset_name:str=\"hotpot_qa\") -> str:\n",
    "    if dataset_name == \"hotpot_qa\":\n",
    "        messages = [HumanMessage(content=item[\"question\"])]\n",
    "        input = {\"messages\": messages}\n",
    "    elif dataset_name == \"gsm8k\":\n",
    "        messages = [HumanMessage(content=f\"Use python code to solve the following problem, variable <answer> should contain the final answer. Use \\\"print(answer)\\\" to get the final answer.\\n{item['question']}\")]\n",
    "        input = {\"messages\": messages}\n",
    "    try:\n",
    "        result = await graph.ainvoke(input=input)\n",
    "        return result\n",
    "    except Exception as e:\n",
    "        return e\n"
   ]
  },
  {
   "cell_type": "code",
   "execution_count": 11,
   "metadata": {},
   "outputs": [],
   "source": [
    "import asyncio\n",
    "results = await asyncio.gather(*(react(item, graph, dataset_name) for item in dataset))"
   ]
  },
  {
   "cell_type": "code",
   "execution_count": 23,
   "metadata": {},
   "outputs": [],
   "source": [
    "save_folder = f\"/Users/ariete/Projects/self-improve/output/{dataset_name}\"\n",
    "os.makedirs(save_folder, exist_ok=True)\n",
    "with open (\"/Users/ariete/Projects/self-improve/output/{}/{}_{}.json\".format(dataset_name, num_test_sample, mode), \"w\") as f:\n",
    "    for idx, result in enumerate(results):\n",
    "        f.write(json.dumps({\"idx\": idx, \"question\": dataset[idx][\"question\"], \"answer\":dataset[idx][\"answer\"], \"prediction\": result[\"messages\"][-1].content.split(\"FINAL ANSWER:\")[-1].strip()}) + \"\\n\")"
   ]
  },
  {
   "cell_type": "markdown",
   "metadata": {},
   "source": [
    "# HotpotQA"
   ]
  },
  {
   "cell_type": "code",
   "execution_count": 42,
   "metadata": {},
   "outputs": [],
   "source": [
    "dataset_name = \"hotpot_qa\"\n",
    "mode = \"react\"\n",
    "num_test_sample = 200\n",
    "llm = ChatOpenAI(temperature=0, model=\"gpt-4o-mini\", base_url=\"https://api.chsdw.top/v1\", max_retries=3)"
   ]
  },
  {
   "cell_type": "code",
   "execution_count": 24,
   "metadata": {},
   "outputs": [],
   "source": [
    "graph = create_react_agent(llm, tools=tools, state_modifier=system_prompt)"
   ]
  },
  {
   "cell_type": "code",
   "execution_count": 25,
   "metadata": {},
   "outputs": [
    {
     "name": "stdout",
     "output_type": "stream",
     "text": [
      "Dataset({\n",
      "    features: ['id', 'question', 'answer', 'type', 'level', 'supporting_facts', 'context'],\n",
      "    num_rows: 200\n",
      "})\n"
     ]
    }
   ],
   "source": [
    "from datasets import load_dataset\n",
    "dataset = load_dataset(\"json\", data_files=f\"../data/{dataset_name}.jsonl\", split=\"train\")\n",
    "if num_test_sample > 0:\n",
    "    dataset = dataset.select(range(num_test_sample))\n",
    "\n",
    "print(dataset)"
   ]
  },
  {
   "cell_type": "code",
   "execution_count": null,
   "metadata": {},
   "outputs": [],
   "source": [
    "from tqdm.asyncio import tqdm_asyncio\n",
    "results = []\n",
    "for data in tqdm(dataset):\n",
    "    result = await react(data, graph, dataset_name)\n",
    "    results.append(result)"
   ]
  },
  {
   "cell_type": "code",
   "execution_count": 44,
   "metadata": {},
   "outputs": [
    {
     "name": "stdout",
     "output_type": "stream",
     "text": [
      "[58, 61, 101, 105, 135, 146, 159, 165, 185, 186, 195]\n"
     ]
    }
   ],
   "source": [
    "idx_list = [idx for idx, result in enumerate(results) if not result]\n",
    "print(idx_list)"
   ]
  },
  {
   "cell_type": "code",
   "execution_count": 43,
   "metadata": {},
   "outputs": [],
   "source": [
    "save_folder = f\"/Users/ariete/Projects/self-improve/output/{dataset_name}\"\n",
    "os.makedirs(save_folder, exist_ok=True)\n",
    "with open (\"/Users/ariete/Projects/self-improve/output/{}/{}_{}.json\".format(dataset_name, num_test_sample, mode), \"w\") as f:\n",
    "    for idx, result in enumerate(results):\n",
    "        if result:\n",
    "            f.write(json.dumps({\"idx\": idx, \"question\": dataset[idx][\"question\"], \"answer\":dataset[idx][\"answer\"], \"prediction\": result[\"messages\"][-1].content.split(\"FINAL ANSWER:\")[-1].strip()}) + \"\\n\")\n",
    "        else:\n",
    "            f.write(json.dumps({\"idx\": idx, \"question\": dataset[idx][\"question\"], \"answer\":dataset[idx][\"answer\"], \"prediction\": \"None\"}) + \"\\n\")"
   ]
  }
 ],
 "metadata": {
  "kernelspec": {
   "display_name": "selfimprove",
   "language": "python",
   "name": "python3"
  },
  "language_info": {
   "codemirror_mode": {
    "name": "ipython",
    "version": 3
   },
   "file_extension": ".py",
   "mimetype": "text/x-python",
   "name": "python",
   "nbconvert_exporter": "python",
   "pygments_lexer": "ipython3",
   "version": "3.12.4"
  }
 },
 "nbformat": 4,
 "nbformat_minor": 2
}
