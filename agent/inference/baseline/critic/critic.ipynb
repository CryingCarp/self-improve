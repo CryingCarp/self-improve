{
 "cells": [
  {
   "cell_type": "code",
   "id": "initial_id",
   "metadata": {
    "collapsed": true,
    "ExecuteTime": {
     "end_time": "2024-12-24T14:51:18.774879Z",
     "start_time": "2024-12-24T14:51:15.275221Z"
    }
   },
   "source": [
    "import json\n",
    "import os\n",
    "\n",
    "from dotenv import load_dotenv, find_dotenv\n",
    "from langchain_core.prompt_values import PromptValue\n",
    "from langchain_openai import ChatOpenAI\n",
    "from tqdm import tqdm\n",
    "from tqdm.asyncio import tqdm_asyncio\n",
    "\n",
    "from agent.utils.loader import load_prompt, load_processed_data\n",
    "from agent.utils.tools.google_search import GoogleSearchTool\n",
    "\n",
    "_ = load_dotenv(find_dotenv())\n",
    "\n",
    "os.environ[\"LANGCHAIN_TRACING_V2\"] = \"false\"\n",
    "os.environ[\"LANGCHAIN_PROJECT\"] = \"self-correct\"\n",
    "os.environ[\"LANGCHAIN_ENDPOINT\"]=\"https://api.smith.langchain.com\""
   ],
   "outputs": [],
   "execution_count": 1
  },
  {
   "metadata": {
    "ExecuteTime": {
     "end_time": "2024-12-24T14:51:23.844172Z",
     "start_time": "2024-12-24T14:51:18.787402Z"
    }
   },
   "cell_type": "code",
   "source": [
    "MAX_ITERATION = 7\n",
    "\n",
    "dataset_name = 'hotpot_qa'\n",
    "mode = \"critic\"\n",
    "model = \"gpt-4o-mini-2024-07-18\"\n",
    "num_samples = 1000\n",
    "if dataset_name in ['hotpot_qa', 'ambig_qa', 'trivia_qa']:\n",
    "\tgoogle_search = GoogleSearchTool()\n",
    "\ttemperature = 0\n",
    "\tn = 1\n",
    "elif dataset_name in ['gsm8k', 'svamp', 'tabmwp']:\n",
    "\ttemperature = 0.5\n",
    "\tn = 1\n",
    "else:\n",
    "\ttemperature = 0.9\n",
    "\tn = 25\n",
    "\tmodel = \"gpt-4o-mini\"\n",
    "top_p = 0.95\n",
    "seed = 42\n",
    "batch_size = 50\n",
    "processed_data_path = f\"../../../output/inference/{model}/{dataset_name}/cot/num_samples_{num_samples}_top_p_{top_p}_temperature_0_seed_{seed}.jsonl\"\n",
    "save_results_path = f\"../../../output/inference/{model}/{dataset_name}/{mode}/num_samples_{num_samples}_top_p_{top_p}_temperature_{temperature}_seed_{seed}.jsonl\"\n",
    "prompt = load_prompt(dataset_name=dataset_name, mode=mode)\n",
    "dataset = load_processed_data(dataset_name=dataset_name, file_path=processed_data_path).map(\n",
    "\tlambda x: {\"generation\": x[\"generation\"][3:]})\n",
    "if num_samples > 0:\n",
    "\tdataset = dataset.select(range(num_samples))\n",
    "llm = ChatOpenAI(model_name=\"gpt-4o-mini-2024-07-18\",\n",
    "                 top_p=top_p,\n",
    "                 n=n,\n",
    "                 temperature=temperature,\n",
    "                 openai_api_base=\"https://api.chsdw.top/v1\",\n",
    "                 seed=seed,\n",
    "                 max_retries=3)\n",
    "\n",
    "prompt.pretty_print()\n",
    "\n",
    "print(dataset[2])"
   ],
   "id": "dd4102b92d1b383a",
   "outputs": [
    {
     "name": "stdout",
     "output_type": "stream",
     "text": [
      "================================\u001B[1m System Message \u001B[0m================================\n",
      "\n",
      "Your response should follow the previous format and style.\n",
      "\n",
      "==================================\u001B[1m AI Message \u001B[0m==================================\n",
      "\n",
      "Question: Serianna is a band of what genre that combines elements of heavy metal and hardcore punk?\n",
      "Proposed Answer: Let's think step by step. Serianna is a band of metalcore genre. Metalcore is a subgenre of heavy metal and hardcore punk. So Serianna is a band of heavy metal and hardcore punk. FINAL ANSWER: heavy metal and hardcore punk.\n",
      "\n",
      "What's the problem with the above answer?\n",
      "\n",
      "1. Plausibility:\n",
      "\n",
      "The question asks for the genre that combines elements of heavy metal and hardcore punk, and the answer is \"heavy metal and hardcore punk\", simply repeat the question. So it's not plausible.\n",
      "\n",
      "2. Truthfulness:\n",
      "\n",
      "Let's search the question in google:\n",
      "> Search Query: Serianna is a band of what genre that combines elements of heavy metal and hardcore punk? site: wikipedia.org\n",
      "> Evidence: [Metalcore - Wikipedia] Metalcore is a fusion music genre that combines elements of extreme metal and hardcore punk.\n",
      "\n",
      "The evidence suggests that metalcore is a genre that combines elements of extreme metal and hardcore punk, as stated in the proposed answer.\n",
      "\n",
      "Let's search the proposed answer in google:\n",
      "> Search Query: Serianna is a band of metalcore genre. site: wikipedia.org\n",
      "> Evidence: [Serianna - Wikipedia] Serianna was a metalcore band from Madison, Wisconsin. The band formed in 2006...\n",
      "\n",
      "The evidence suggests Serianna is a metalcore band, the proposed answer is correct about this.\n",
      "\n",
      "Above all, the proposed answer correctly identifies that Serianna is a band of the metalcore genre, which combines elements of heavy metal and hardcore punk. However, the final answer is not plausible since it just lists the genres that metalcore combines.\n",
      "\n",
      "Question: Serianna is a band of what genre that combines elements of heavy metal and hardcore punk?\n",
      "Here's the most possible answer: Let's think step by step. Serianna is a band of metalcore genre, which is a fusion genre that combines elements of heavy metal and hardcore punk. FINAL ANSWER: Metalcore.\n",
      "\n",
      "---\n",
      "\n",
      "Question: Which band was formed first, Helium or Jack's Mannequin?\n",
      "Proposed Answer: Let's think step by step. Helium was formed in 1991. Jack's Mannequin was formed in 2004. 1991 (Helium) < 2004 (Jack's Mannequin), so Helium was formed first. FINAL ANSWER: Helium.\n",
      "\n",
      "What's the problem with the above answer?\n",
      "\n",
      "1. Plausibility:\n",
      "\n",
      "The answer should be chosen between \"Helium\" and \"Jack's Mannequin\", and the answer is \"Helium\", so it seems good.\n",
      "\n",
      "2. Truthfulness:\n",
      "\n",
      "Let's search the question in google:\n",
      "> Search Query: Which band was formed first, Helium or Jack's Mannequin?\n",
      "> Evidence: [Jack's Mannequin - Wikipedia] Jack's Mannequin was an American rock band formed in 2004, hailing from Orange County, California.\n",
      " \n",
      "The evidence shows that Jack's Mannequin is a band formed in 2004.\n",
      "\n",
      "We then find out when the band Helium was formed.\n",
      "\n",
      "> Search Query: When was the band \"Helium\" formed?\n",
      "> Evidence: [] Helium / Active from 1992\n",
      "\n",
      "The evidence shows that Helium was formed in 1992, not 1991 in the proposed answer.\n",
      "\n",
      "The proposed answer gives the correct date of formation for Jack's Mannequin, but wrong about Helium, it needs revision. Notably, the final answer \"Helium\" is still correct since 1992 < 2004.\n",
      "\n",
      "Question: Which band was formed first, Helium or Jack's Mannequin?\n",
      "Here's the most possible answer: Let's think step by step. Helium was formed in 1992. Jack's Mannequin was formed in 2004. 1992 (Helium) < 2004 (Jack's Mannequin), so Helium was formed first. FINAL ANSWER: Helium.\n",
      "\n",
      "---\n",
      "\n",
      "Question: What year did Maurice win the award given to the  \"player judged most valuable to his team\" in the NHL?\n",
      "Proposed Answer: Let's think step by step. Maurice Richard won the Hart Memorial Trophy in 1947. FINAL ANSWER: 1947.\n",
      "\n",
      "What's the problem with the above answer?\n",
      "\n",
      "1. Plausibility:\n",
      "\n",
      "The question ask for a year, and the answer \"1947\" is a year. So it's plausible.\n",
      "\n",
      "2. Truthfulness:\n",
      "\n",
      "Let's search the question in google:\n",
      "> Search Query: What year did Maurice win the award given to the  \"player judged most valuable to his team\" in the NHL? site: wikipedia.org\n",
      "> Evidence: [List of National Hockey League awards - Wikipedia] Awarded to the \"player judged most valuable to his team\". The original trophy was donated to the league by Dr. David A. Hart, father of coach Cecil Hart.\n",
      "\n",
      "The evidence does not provide information about what the award is and Maurice won the award in which year.\n",
      "\n",
      "Let's search the proposed anwer in google:\n",
      "> Search Query: Maurice Richard won the Hart Memorial Trophy in 1947.\n",
      "> Evidence: [Maurice Richard - Wikipedia] He won the Hart Trophy as the NHL's most valuable player in 1947...\n",
      "\n",
      "The evidence shows that Maurice Richard won the Hart Trophy as the NHL's most valuable player in 1947, which supports the answer.\n",
      "\n",
      "Above all, the proposed answer is plausible, and the evidence support all its claims.\n",
      "\n",
      "Question: What year did Maurice win the award given to the  \"player judged most valuable to his team\" in the NHL?\n",
      "Here's the most possible answer: Let's think step by step. Maurice Richard won the Hart Memorial Trophy in 1947. FINAL ANSWER: 1947.\n",
      "\n",
      "---\n",
      "\n",
      "Question: Are John H. Auer and Jerome Robbins both directors?\n",
      "Proposed Answer: Let's think step by step. John H. Auer is a director, producer, and screenwriter. Jerome Robbins is a director, producer, choreographer, and dancer.  FINAL ANSWER: Jerome Robbins.\n",
      "\n",
      "What's the problem with the above answer?\n",
      "\n",
      "1. Plausibility:\n",
      "\n",
      "This is a yes/no question, the proposed answer is \"Jerome Robbins\", which does not clearly answer whether they are both directors.\n",
      "The answer should be a clear \"yes\" or \"no\".\n",
      "\n",
      "2. Truthfulness:\n",
      "\n",
      "Let's search the question in google:\n",
      "\n",
      "> Search Query: Are John H. Auer and Jerome Robbins both directors?\n",
      "> Evidence: [A history of Jerome Robbins at PNB - Pacific Northwest Ballet] Robbins retained the title of associate artistic director until approximately 1963, ... Ballets: USA, from the late 1950s to the late 1960s.\n",
      "\n",
      "The evidence suggests Jerome Robbins is a director.\n",
      "\n",
      "We then need to verify if John H. Auer is a director.\n",
      "\n",
      "> Search Query: Is John H. Auer a director? site: wikipedia.org\n",
      "> Evidence: [John H. Auer - Wikipedia] Auer was a Hungarian-born child actor who, on coming to the Americas in 1928, became a movie director and producer, initially in Mexico but, from the early 1930s, in Hollywood.\n",
      "\n",
      "The evidence suggests that John H. Auer is an actor, director and producer.\n",
      "\n",
      "Therefore, both John H. Auer and Jerome Robbins are directors.\n",
      "\n",
      "Question: Are John H. Auer and Jerome Robbins both directors?\n",
      "Here's the most possible answer: Let's think step by step. John H. Auer is an actor, director and producer. Jerome Robbins is a director. Therefore, Both John H. Auer and Jerome Robbins are directors. FINAL ANSWER: Yes.\n",
      "\n",
      "---\n",
      "\n",
      "Question: Which artist did Anthony Toby \"Tony\" Hiller appear with that liked showering himself (and others) with confetti?\n",
      "Proposed Answer: Let's think step by step. Anthony Toby \"Tony\" Hiller is a songwriter and record producer. He appeared with Brotherhood of Man. Brotherhood of Man liked showering himself (and others) with confetti. FINAL ANSWER: Brotherhood of Man.\n",
      "\n",
      "What's the problem with the above answer?\n",
      "\n",
      "1. Plausibility:\n",
      "\n",
      "The question asks for the name of an artist, and the answer \"Brotherhood of Man\" looks like a name.\n",
      "\n",
      "2. Truthfulness:\n",
      "\n",
      "Let's search the question in google:\n",
      "> Search Query: Which artist did Anthony Toby Tony Hiller appear with that liked showering himself (and others) with confetti?\n",
      "> Evidence: [Untitled] Without you: The tragic story of Badfinger|Dan Matovina, The Military Orchid and Other Novels|Jocelyn Brooke, Looking at Lisp (Micro computer books)|Tony ...\n",
      "\n",
      "The evidence does not provide any useful information about the question.\n",
      "\n",
      "Let's search the proposed answer in google:\n",
      "\n",
      "> Search Query: Anthony Toby Tony Hiller appeared with Brotherhood of Man.\n",
      "> Evidence: [Tony Hiller - Wikipedia] He was best known for writing and/or producing hits for Brotherhood of Man, including \"United We Stand\" (1970) and \"Save Your Kisses for Me\" (1976).\n",
      "\n",
      "The evidence suggests Tony Hiller producing hits Brotherhood of Man.\n",
      "\n",
      "> Search Query: Brotherhood of Man liked showering himself (and others) with confetti.\n",
      "> Evidence: [New York showers confetti, love on U.S. women's soccer team] Discover Thomson Reuters By Matthew Lavietes... celebrating its World Cup triumph and hailing the players’ emergence as icons of women’s rights.\n",
      "\n",
      "The evidence does not mention Brotherhood of Man. We need to check who is the correct artist that liked showering himself (and others) with confetti.\n",
      "\n",
      "> Search Query: Which artist liked showering himself (and others) with confetti?\n",
      "> Evidence: [Rip Taylor - Wikipedia] Charles Elmer \" Rip \" Taylor Jr. was an American actor and comedian, known for his exuberance and flamboyant personality, including his wild moustache, toupee, and his habit of showering himself (and others)\n",
      "\n",
      "The evidence suggests that the artist that liked showering himself is Charles Elmer \"Rip\" Taylor Jr., not \"Brotherhood of Man\" as in the proposed answer.\n",
      "\n",
      "We can further check if Rip Taylor appeared with Anthony Toby \"Tony\" Hiller.\n",
      "\n",
      "> Search Query: Which artist appeared with Anthony Toby \"Tony\" Hiller?\n",
      "> Evidence: [Tony Hiller - Wikipedia] He was best known for writing and/or producing hits for Brotherhood of Man , including \" United We Stand \" (1970) and \" Save Your Kisses for Me \" (1976). Biography [ edit ]\n",
      "\n",
      "> Search Query: Did Tony Hiller appear with Rip Taylor?\n",
      "> Evidence: [Tony Hiller - Wikipedia] The Hiller Brothers appeared with many performers of the time including Alma Cogan , Tommy Cooper , Val Doonican , Matt Monro , The Shadows , Bernard Manning , Kathy Kirby , Roger Whittaker , Rip Taylor , Gene Vincent , Lance Percival , Tessie O'Shea...\n",
      "\n",
      "The evidence shows that Tony Hiller appeared with Rip Taylor.\n",
      "\n",
      "The answer needs major revision.\n",
      "\n",
      "Question: Which artist did Anthony Toby \"Tony\" Hiller appear with that liked showering himself (and others) with confetti?\n",
      "Here's the most possible answer: Let's think step by step. The artist that liked showering himself with confetti is Rip Taylor. Anthony Toby \"Tony\" Hiller is a songwriter and record producer, he appeared with Rip Taylor. FINAL ANSWER: Rip Taylor.\n",
      "\n",
      "---\n",
      "\n",
      "Question: Who won the 2016 Russian national silver medal with another Russian ice dancer born 29 April 1995?\n",
      "Proposed Answer: Let's think step by step. The 2016 Russian national silver medal was won by Alexandra Stepanova and Ivan Bukin. Alexandra Stepanova was born 29 April 1995. Ivan Bukin was born 10 April 1993. FINAL ANSWER: Ivan Bukin.\n",
      "\n",
      "What's the problem with the above answer?\n",
      "\n",
      "1. Plausibility:\n",
      "\n",
      "The question asks for a name, and the answer \"Ivan Bukin\" is a name. So it's plausible.\n",
      "\n",
      "2. Truthfulness:\n",
      "\n",
      "Let's search the question in google:\n",
      "\n",
      "> Search Query: Who won the 2016 Russian national silver medal with another Russian ice dancer born 29 April 1995? site: wikipedia.org\n",
      "> Evidence: [Victoria Sinitsina - Wikipedia] Victoria Alexandrovna Sinitsina is a Russian ice dancer .\n",
      "\n",
      "The evidence suggests that Victoria Sinitsina is a Russian ice dancer born 29 April 1995.\n",
      "\n",
      "Let's search the proposed answer in google:\n",
      "\n",
      "> Search Query: The 2016 Russian national silver medal was won by Alexandra Stepanova and Ivan Bukin.\n",
      "> Evidence: [Alexandra Stepanova - Wikipedia] They won silver at the 2012 Russian Junior Championships. Stepanova/Bukin then competed at the 2012 World Junior Championships and won the silver medal.\n",
      "\n",
      "From the evidence, Stepanova/Bukin won silver at the 2012 Russian Junior Championships, not 2016.\n",
      "\n",
      "We need to find out who won the 2016 Russian national silver medal with Victoria Sinitsina.\n",
      "\n",
      "> Search Query: Who won the 2016 Russian national silver medal with Victoria Sinitsina?\n",
      "> Evidence: [Nikita Katsalapov - Wikipedia] In December, Sinitsina/Katsalapov won the silver medal behind Bobrova/Soloviev at the 2016 Russian Championships in Yekaterinburg.\n",
      "\n",
      "The evidence suggests that Nikita Katsalapov won the 2016 Russian national silver medal with Victoria Sinitsina, not Alexandra Stepanova and Ivan Bukin. The answer provided in the proposed answer is incorrect.\n",
      "\n",
      "Question: Who won the 2016 Russian national silver medal with another Russian ice dancer born 29 April 1995?\n",
      "Here's the most possible answer: Let's think step by step. The 2016 Russian national silver medal in ice dancing was won by Victoria Sinitsina and Nikita Katsalapov. Victoria Sinitsina was born on April 29, 1995. FINAL ANSWER: Nikita Katsalapov.\n",
      "\n",
      "---\n",
      "Question: \u001B[33;1m\u001B[1;3m{question}\u001B[0m\n",
      "Proposed Answer: \u001B[33;1m\u001B[1;3m{previous_cot}\u001B[0m\n",
      "\n",
      "{'context': '', 'question': 'What science fantasy young adult series, told in first person, has a set of companion books narrating the stories of enslaved worlds and alien species?', 'answer': ['Animorphs'], 'generation': 'Let\\'s think step by step. The series that fits this description is \"The Expanse\" series by James S.A. Corey. It is a science fantasy young adult series told in first person and features companion books narrating the stories of enslaved worlds and alien species. FINAL ANSWER: The Expanse.', 'prediction': 'The Expanse.'}\n"
     ]
    }
   ],
   "execution_count": 2
  },
  {
   "metadata": {
    "ExecuteTime": {
     "end_time": "2024-12-24T14:51:23.949929Z",
     "start_time": "2024-12-24T14:51:23.932503Z"
    }
   },
   "cell_type": "code",
   "source": [
    "import logging\n",
    "\n",
    "# 配置 logging\n",
    "logging.basicConfig(\n",
    "\tlevel=logging.WARNING,\n",
    "\tformat=\"%(asctime)s - %(levelname)s - %(message)s\",  # 日志格式\n",
    "    datefmt=\"%Y-%m-%d %H:%M:%S\",  # 时间格式\n",
    ")\n",
    "\n",
    "async def critic_iter(item: dict, previous_cot: str):\n",
    "\t# load prompt\n",
    "\tprompt_critic: PromptValue = prompt.invoke(input={**item, \"previous_cot\": previous_cot})\n",
    "\tlogging.debug(prompt_critic.to_string())\n",
    "\n",
    "\t# verify: plausible & truthful\n",
    "\tcontext = \"What's the problem with the above answer?\\n\\n1. Plausibility:\\n\\n\"\n",
    "\tprompt_critic.messages[-1].content += context\n",
    "\tlogging.debug(context)\n",
    "\n",
    "\n",
    "\texist_query = []\n",
    "\texist_evidence = set()\n",
    "\trevised_cot = \"\"\n",
    "\tfor idx in range(MAX_ITERATION):  # max interaction with tool\n",
    "\t\t# print(\"\\n\\n\" + \"=\" * 30, \"Round\", idx, \"=\" * 30)\n",
    "\t\t# get LLM res\n",
    "\t\ttry:\n",
    "\t\t\tres = await llm.ainvoke(input=prompt_critic, stop=[\"> Evidence:\", \"---\"])\n",
    "\t\t\tres = res.content\n",
    "\t\texcept Exception as e:\n",
    "\t\t\tlogging.error(\"Error when invoking LLM.\")\n",
    "\t\t\traise e\n",
    "\n",
    "\t\t# case1: search\n",
    "\t\tif \"> Search Query:\" in res:\n",
    "\t\t\tlogging.debug(\"CASE 1:\")\n",
    "\t\t\ttry:\n",
    "\t\t\t\t_, search_query = res.split(\"> Search Query:\")[:2]\n",
    "\t\t\t\tsearch_query = search_query.split(\"\\n\")[0].strip()\n",
    "\t\t\texcept:\n",
    "\t\t\t\t# print(\"Search Query Error:\", res)\n",
    "\t\t\t\texit()\n",
    "\n",
    "\t\t\tprompt_critic.messages[-1].content += res\n",
    "\t\t\t# print(res, end=\"\")\n",
    "\n",
    "\t\t\t# if args.use_tool:\n",
    "\t\t\t# use Tool: search a new evidence\n",
    "\t\t\t# exist_query.append(search_query)\n",
    "\t\t\t# for k in range(exist_query.count(search_query), 8):\n",
    "\t\t\tsearch_res: list = await google_search.arun(search_query)\n",
    "\t\t\tsearch_res = search_res[0]\n",
    "\t\t\t# \tif search_res['link'] not in exist_evidence:\n",
    "\t\t\t# \t\texist_evidence.add(search_res['page'])\n",
    "\t\t\t# \t\tbreak\n",
    "\n",
    "\t\t\ttry:\n",
    "\t\t\t\tcontext = f\"\"\"> Evidence: [{search_res}]\\n\\n\"\"\"\n",
    "\t\t\texcept:\n",
    "\t\t\t\tcontext = f\"\"\"> Error when trying to search evidence.\\n\\n\"\"\"\n",
    "\t\t\tif idx == MAX_ITERATION - 2:\n",
    "\t\t\t\tcontext += f\"Let's give the most possible answer.\\n\\nQuestion: {item['question']}\\nHere's \"\n",
    "\t\t\t# else:\n",
    "\t\t\t#     # w/o Tool: use LLMs generated evidence\n",
    "\t\t\t#     context = \"\"\"> Evidence: \"\"\"\n",
    "\t\t\t# print(context, end=\"\")\n",
    "\t\t\tprompt_critic.messages[-1].content += context\n",
    "\n",
    "\n",
    "\t\t# case2: most possible answer\n",
    "\t\telif \"most possible answer:\" in res:\n",
    "\t\t\t# print(\"CASE 2:\")\n",
    "\t\t\t# print(res)\n",
    "\t\t\t_, revised_cot = res.split(\"most possible answer:\")\n",
    "\t\t\trevised_cot = revised_cot.strip()\n",
    "\t\t\tprompt_critic.messages[-1].content += revised_cot\n",
    "\t\t\t# print(prompt_critic.to_string())\n",
    "\t\t\tbreak\n",
    "\t\t# case3: other output\n",
    "\t\telse:\n",
    "\t\t\t# print(\"CASE 3:\")\n",
    "\t\t\tif not res:\n",
    "\t\t\t\tprint(\"NOT A RESPONSE.\")\n",
    "\t\t\t\tbreak\n",
    "\t\t\tcontext = res\n",
    "\t\t\tcontext += f\"\\nLet's give the most possible answer.\\n\\nQuestion: {item['question']}\\nHere's \"\n",
    "\t\t\t# print(context, end=\"\")\n",
    "\t\t\tprompt_critic.messages[-1].content += context\n",
    "\n",
    "\treturn revised_cot\n",
    "\n",
    "\n",
    "def is_null_answer(text):\n",
    "\tif not text:\n",
    "\t\treturn True\n",
    "\ttext = text.strip().lower()\n",
    "\tif text in [\"none\", \"\", \"no answer\", \"never\", \"null\", \"both\", \"neither\"]:\n",
    "\t\treturn True\n",
    "\tif text.startswith(\"none\"):\n",
    "\t\treturn True\n",
    "\treturn False\n",
    "\n",
    "\n",
    "async def critic(item: dict):\n",
    "\t# print(f\"Question: {item['question']}\")\n",
    "\t# print(f\"Gold answer: {item['answer']}\")\n",
    "\t# iterative correction\n",
    "\tprevious_corrected = True\n",
    "\tfor itr in range(1, 4):\n",
    "\t\t# initialization\n",
    "\t\tif itr == 1:\n",
    "\t\t\t# extract prediction\n",
    "\t\t\tinit_cot = item['generation']\n",
    "\t\t\t# 返回答案部分\n",
    "\t\t\tinit_pred = item['prediction']\n",
    "\n",
    "\t\t\t# cot and pred\n",
    "\t\t\titem['cot'] = [init_cot]\n",
    "\t\t\titem['pred'] = [init_pred]\n",
    "\n",
    "\t\t# choose the latest answer that is not \"None\" to critic\n",
    "\t\tbase_idx = itr - 1\n",
    "\t\twhile base_idx > 0 and is_null_answer(item['pred'][base_idx]):\n",
    "\t\t\tbase_idx -= 1\n",
    "\t\tprevious_cot = item['cot'][base_idx]\n",
    "\t\tprevious_pred = item['pred'][base_idx]\n",
    "\n",
    "\t\t# one iteration\n",
    "\t\trevised_cot = await critic_iter(item, previous_cot)\n",
    "\t\trevised_pred = revised_cot.split(\"FINAL ANSWER:\")[-1].strip()\n",
    "\n",
    "\t\t# is corrected\n",
    "\t\tcorrected = True\n",
    "\t\tif revised_pred and (revised_pred == previous_pred):\n",
    "\t\t\tcorrected = False\n",
    "\n",
    "\t\titem['cot'].append(revised_cot)\n",
    "\t\titem['pred'].append(revised_pred)\n",
    "\n",
    "\t\t# if no correction for twice, break\n",
    "\t\tif not corrected and not previous_corrected:\n",
    "\t\t\tprint(\"Stop.\")\n",
    "\t\t\tbreak\n",
    "\t\tprevious_corrected = corrected\n",
    "\n",
    "\treturn item"
   ],
   "id": "6cdebf24edf37a41",
   "outputs": [],
   "execution_count": 3
  },
  {
   "metadata": {
    "ExecuteTime": {
     "end_time": "2024-12-24T14:57:29.031191Z",
     "start_time": "2024-12-24T14:57:29.021848Z"
    }
   },
   "cell_type": "code",
   "source": [
    "results = []\n",
    "async def inference() -> None:\n",
    "\tif os.path.exists(save_results_path):\n",
    "\t\twith open(save_results_path, 'r') as file:\n",
    "\t\t\tfor line in file:\n",
    "\t\t\t\tresults.append(json.loads(line))\n",
    "\telse:\n",
    "\t\tfolder_path = os.path.dirname(save_results_path)\n",
    "\t\tos.makedirs(folder_path, exist_ok=True)\n",
    "\n",
    "\tfor idx in tqdm(range(len(results), dataset.num_rows, batch_size)):\n",
    "\t\tbatch = dataset.select(range(idx, min(idx + batch_size, dataset.num_rows)))\n",
    "\t\tresults.extend(await tqdm_asyncio.gather(*(critic(item) for item in batch)))\n",
    "\t\twith open(save_results_path, 'qa') as file:\n",
    "\t\t\tfor result in results:\n",
    "\t\t\t\tfile.write(json.dumps(result) + \"\\n\")"
   ],
   "id": "a30bac9a788c2bb3",
   "outputs": [],
   "execution_count": 6
  },
  {
   "metadata": {
    "ExecuteTime": {
     "end_time": "2024-12-24T15:08:29.602542Z",
     "start_time": "2024-12-24T14:57:29.976164Z"
    }
   },
   "cell_type": "code",
   "source": "await inference()",
   "id": "e94a671e959315fb",
   "outputs": [
    {
     "name": "stderr",
     "output_type": "stream",
     "text": [
      "  0%|          | 0/3 [00:00<?, ?it/s]\n",
      "\n",
      "  0%|          | 0/50 [00:00<?, ?it/s]\u001B[A\u001B[A\n",
      "\n",
      "  2%|▏         | 1/50 [00:12<09:57, 12.19s/it]\u001B[A\u001B[A"
     ]
    },
    {
     "name": "stdout",
     "output_type": "stream",
     "text": [
      "Stop.\n"
     ]
    },
    {
     "name": "stderr",
     "output_type": "stream",
     "text": [
      "\n",
      "\n",
      "  4%|▍         | 2/50 [00:12<04:07,  5.16s/it]\u001B[A\u001B[A\n",
      "\n",
      "  6%|▌         | 3/50 [00:12<02:13,  2.85s/it]\u001B[A\u001B[A"
     ]
    },
    {
     "name": "stdout",
     "output_type": "stream",
     "text": [
      "Stop.\n",
      "Stop.\n"
     ]
    },
    {
     "name": "stderr",
     "output_type": "stream",
     "text": [
      "\n",
      "\n",
      "  8%|▊         | 4/50 [00:14<01:46,  2.31s/it]\u001B[A\u001B[A"
     ]
    },
    {
     "name": "stdout",
     "output_type": "stream",
     "text": [
      "Stop.\n"
     ]
    },
    {
     "name": "stderr",
     "output_type": "stream",
     "text": [
      "\n",
      "\n",
      " 10%|█         | 5/50 [00:18<02:19,  3.10s/it]\u001B[A\u001B[A"
     ]
    },
    {
     "name": "stdout",
     "output_type": "stream",
     "text": [
      "Stop.\n"
     ]
    },
    {
     "name": "stderr",
     "output_type": "stream",
     "text": [
      "\n",
      "\n",
      " 12%|█▏        | 6/50 [00:19<01:47,  2.45s/it]\u001B[A\u001B[A"
     ]
    },
    {
     "name": "stdout",
     "output_type": "stream",
     "text": [
      "Stop.\n"
     ]
    },
    {
     "name": "stderr",
     "output_type": "stream",
     "text": [
      "\n",
      "\n",
      " 14%|█▍        | 7/50 [00:21<01:38,  2.28s/it]\u001B[A\u001B[A"
     ]
    },
    {
     "name": "stdout",
     "output_type": "stream",
     "text": [
      "Stop.\n"
     ]
    },
    {
     "name": "stderr",
     "output_type": "stream",
     "text": [
      "\n",
      "\n",
      " 16%|█▌        | 8/50 [00:23<01:32,  2.19s/it]\u001B[A\u001B[A"
     ]
    },
    {
     "name": "stdout",
     "output_type": "stream",
     "text": [
      "Stop.\n"
     ]
    },
    {
     "name": "stderr",
     "output_type": "stream",
     "text": [
      "\n",
      "\n",
      " 18%|█▊        | 9/50 [00:24<01:10,  1.72s/it]\u001B[A\u001B[A\n",
      "\n",
      " 20%|██        | 10/50 [00:25<00:56,  1.41s/it]\u001B[A\u001B[A"
     ]
    },
    {
     "name": "stdout",
     "output_type": "stream",
     "text": [
      "Stop.\n"
     ]
    },
    {
     "name": "stderr",
     "output_type": "stream",
     "text": [
      "\n",
      "\n",
      " 22%|██▏       | 11/50 [00:26<00:54,  1.40s/it]\u001B[A\u001B[A"
     ]
    },
    {
     "name": "stdout",
     "output_type": "stream",
     "text": [
      "Stop.\n"
     ]
    },
    {
     "name": "stderr",
     "output_type": "stream",
     "text": [
      "\n",
      "\n",
      " 24%|██▍       | 12/50 [00:37<02:40,  4.23s/it]\u001B[A\u001B[A"
     ]
    },
    {
     "name": "stdout",
     "output_type": "stream",
     "text": [
      "Stop.\n"
     ]
    },
    {
     "name": "stderr",
     "output_type": "stream",
     "text": [
      "\n",
      "\n",
      " 26%|██▌       | 13/50 [00:38<02:05,  3.39s/it]\u001B[A\u001B[A"
     ]
    },
    {
     "name": "stdout",
     "output_type": "stream",
     "text": [
      "Stop.\n"
     ]
    },
    {
     "name": "stderr",
     "output_type": "stream",
     "text": [
      "\n",
      "\n",
      " 28%|██▊       | 14/50 [00:44<02:32,  4.25s/it]\u001B[A\u001B[A"
     ]
    },
    {
     "name": "stdout",
     "output_type": "stream",
     "text": [
      "Stop.\n"
     ]
    },
    {
     "name": "stderr",
     "output_type": "stream",
     "text": [
      "\n",
      "\n",
      " 30%|███       | 15/50 [00:46<02:01,  3.48s/it]\u001B[A\u001B[A"
     ]
    },
    {
     "name": "stdout",
     "output_type": "stream",
     "text": [
      "Stop.\n"
     ]
    },
    {
     "name": "stderr",
     "output_type": "stream",
     "text": [
      "\n",
      "\n",
      " 32%|███▏      | 16/50 [00:53<02:35,  4.59s/it]\u001B[A\u001B[A\n",
      "\n",
      " 34%|███▍      | 17/50 [00:54<01:56,  3.52s/it]\u001B[A\u001B[A"
     ]
    },
    {
     "name": "stdout",
     "output_type": "stream",
     "text": [
      "Stop.\n"
     ]
    },
    {
     "name": "stderr",
     "output_type": "stream",
     "text": [
      "\n",
      "\n",
      " 36%|███▌      | 18/50 [00:55<01:25,  2.67s/it]\u001B[A\u001B[A\n",
      "\n",
      " 38%|███▊      | 19/50 [00:56<01:04,  2.07s/it]\u001B[A\u001B[A\n",
      "\n",
      " 40%|████      | 20/50 [00:59<01:15,  2.52s/it]\u001B[A\u001B[A"
     ]
    },
    {
     "name": "stdout",
     "output_type": "stream",
     "text": [
      "Stop.\n"
     ]
    },
    {
     "name": "stderr",
     "output_type": "stream",
     "text": [
      "\n",
      "\n",
      " 42%|████▏     | 21/50 [01:04<01:35,  3.28s/it]\u001B[A\u001B[A\n",
      "\n",
      " 44%|████▍     | 22/50 [01:05<01:08,  2.44s/it]\u001B[A\u001B[A"
     ]
    },
    {
     "name": "stdout",
     "output_type": "stream",
     "text": [
      "Stop.\n"
     ]
    },
    {
     "name": "stderr",
     "output_type": "stream",
     "text": [
      "\n",
      "\n",
      " 46%|████▌     | 23/50 [01:09<01:24,  3.12s/it]\u001B[A\u001B[A"
     ]
    },
    {
     "name": "stdout",
     "output_type": "stream",
     "text": [
      "Stop.\n"
     ]
    },
    {
     "name": "stderr",
     "output_type": "stream",
     "text": [
      "\n",
      "\n",
      " 48%|████▊     | 24/50 [01:22<02:37,  6.05s/it]\u001B[A\u001B[A\n",
      "\n",
      " 50%|█████     | 25/50 [01:29<02:38,  6.34s/it]\u001B[A\u001B[A"
     ]
    },
    {
     "name": "stdout",
     "output_type": "stream",
     "text": [
      "Stop.\n"
     ]
    },
    {
     "name": "stderr",
     "output_type": "stream",
     "text": [
      "\n",
      "\n",
      " 52%|█████▏    | 26/50 [01:30<01:52,  4.68s/it]\u001B[A\u001B[A"
     ]
    },
    {
     "name": "stdout",
     "output_type": "stream",
     "text": [
      "Stop.\n"
     ]
    },
    {
     "name": "stderr",
     "output_type": "stream",
     "text": [
      "\n",
      "\n",
      " 54%|█████▍    | 27/50 [01:32<01:28,  3.83s/it]\u001B[A\u001B[A"
     ]
    },
    {
     "name": "stdout",
     "output_type": "stream",
     "text": [
      "Stop.\n"
     ]
    },
    {
     "name": "stderr",
     "output_type": "stream",
     "text": [
      "\n",
      "\n",
      " 56%|█████▌    | 28/50 [01:36<01:26,  3.94s/it]\u001B[A\u001B[A"
     ]
    },
    {
     "name": "stdout",
     "output_type": "stream",
     "text": [
      "Stop.\n"
     ]
    },
    {
     "name": "stderr",
     "output_type": "stream",
     "text": [
      "\n",
      "\n",
      " 58%|█████▊    | 29/50 [01:37<01:03,  3.01s/it]\u001B[A\u001B[A\n",
      "\n",
      " 60%|██████    | 30/50 [01:40<00:58,  2.92s/it]\u001B[A\u001B[A"
     ]
    },
    {
     "name": "stdout",
     "output_type": "stream",
     "text": [
      "Stop.\n"
     ]
    },
    {
     "name": "stderr",
     "output_type": "stream",
     "text": [
      "\n",
      "\n",
      " 62%|██████▏   | 31/50 [01:44<01:04,  3.38s/it]\u001B[A\u001B[A"
     ]
    },
    {
     "name": "stdout",
     "output_type": "stream",
     "text": [
      "Stop.\n"
     ]
    },
    {
     "name": "stderr",
     "output_type": "stream",
     "text": [
      "\n",
      "\n",
      " 64%|██████▍   | 32/50 [01:45<00:45,  2.51s/it]\u001B[A\u001B[A"
     ]
    },
    {
     "name": "stdout",
     "output_type": "stream",
     "text": [
      "Stop.\n"
     ]
    },
    {
     "name": "stderr",
     "output_type": "stream",
     "text": [
      "\n",
      "\n",
      " 66%|██████▌   | 33/50 [01:46<00:34,  2.04s/it]\u001B[A\u001B[A"
     ]
    },
    {
     "name": "stdout",
     "output_type": "stream",
     "text": [
      "Stop.\n"
     ]
    },
    {
     "name": "stderr",
     "output_type": "stream",
     "text": [
      "\n",
      "\n",
      " 68%|██████▊   | 34/50 [01:48<00:34,  2.14s/it]\u001B[A\u001B[A\n",
      "\n",
      " 70%|███████   | 35/50 [01:49<00:28,  1.93s/it]\u001B[A\u001B[A"
     ]
    },
    {
     "name": "stdout",
     "output_type": "stream",
     "text": [
      "Stop.\n"
     ]
    },
    {
     "name": "stderr",
     "output_type": "stream",
     "text": [
      "\n",
      "\n",
      " 72%|███████▏  | 36/50 [01:51<00:26,  1.88s/it]\u001B[A\u001B[A\n",
      "\n",
      " 74%|███████▍  | 37/50 [01:53<00:22,  1.74s/it]\u001B[A\u001B[A\n",
      "\n",
      " 76%|███████▌  | 38/50 [01:53<00:16,  1.38s/it]\u001B[A\u001B[A\n",
      "\n",
      " 78%|███████▊  | 39/50 [01:58<00:28,  2.57s/it]\u001B[A\u001B[A"
     ]
    },
    {
     "name": "stdout",
     "output_type": "stream",
     "text": [
      "Stop.\n"
     ]
    },
    {
     "name": "stderr",
     "output_type": "stream",
     "text": [
      "\n",
      "\n",
      " 80%|████████  | 40/50 [02:00<00:21,  2.18s/it]\u001B[A\u001B[A"
     ]
    },
    {
     "name": "stdout",
     "output_type": "stream",
     "text": [
      "Stop.\n"
     ]
    },
    {
     "name": "stderr",
     "output_type": "stream",
     "text": [
      "\n",
      "\n",
      " 82%|████████▏ | 41/50 [02:00<00:14,  1.61s/it]\u001B[A\u001B[A"
     ]
    },
    {
     "name": "stdout",
     "output_type": "stream",
     "text": [
      "Stop.\n"
     ]
    },
    {
     "name": "stderr",
     "output_type": "stream",
     "text": [
      "\n",
      "\n",
      " 84%|████████▍ | 42/50 [02:01<00:11,  1.46s/it]\u001B[A\u001B[A\n",
      "\n",
      " 86%|████████▌ | 43/50 [02:07<00:20,  2.88s/it]\u001B[A\u001B[A"
     ]
    },
    {
     "name": "stdout",
     "output_type": "stream",
     "text": [
      "Stop.\n"
     ]
    },
    {
     "name": "stderr",
     "output_type": "stream",
     "text": [
      "\n",
      "\n",
      " 88%|████████▊ | 44/50 [02:08<00:12,  2.14s/it]\u001B[A\u001B[A"
     ]
    },
    {
     "name": "stdout",
     "output_type": "stream",
     "text": [
      "Stop.\n"
     ]
    },
    {
     "name": "stderr",
     "output_type": "stream",
     "text": [
      "\n",
      "\n",
      " 90%|█████████ | 45/50 [02:11<00:12,  2.52s/it]\u001B[A\u001B[A\n",
      "\n",
      " 94%|█████████▍| 47/50 [02:13<00:05,  1.90s/it]\u001B[A\u001B[A\n",
      "\n",
      " 96%|█████████▌| 48/50 [02:15<00:03,  1.94s/it]\u001B[A\u001B[A\n",
      "\n",
      " 98%|█████████▊| 49/50 [02:19<00:02,  2.34s/it]\u001B[A\u001B[A\n",
      "\n",
      "100%|██████████| 50/50 [02:27<00:00,  2.96s/it]\u001B[A\u001B[A\n",
      " 33%|███▎      | 1/3 [02:27<04:55, 147.81s/it]\n",
      "\n",
      "  0%|          | 0/50 [00:00<?, ?it/s]\u001B[A\u001B[A\n",
      "\n",
      "  2%|▏         | 1/50 [00:13<11:03, 13.55s/it]\u001B[A\u001B[A"
     ]
    },
    {
     "name": "stdout",
     "output_type": "stream",
     "text": [
      "Stop.\n"
     ]
    },
    {
     "name": "stderr",
     "output_type": "stream",
     "text": [
      "\n",
      "\n",
      "  4%|▍         | 2/50 [00:21<08:16, 10.35s/it]\u001B[A\u001B[A"
     ]
    },
    {
     "name": "stdout",
     "output_type": "stream",
     "text": [
      "Stop.\n"
     ]
    },
    {
     "name": "stderr",
     "output_type": "stream",
     "text": [
      "\n",
      "\n",
      "  6%|▌         | 3/50 [00:46<13:27, 17.19s/it]\u001B[A\u001B[A"
     ]
    },
    {
     "name": "stdout",
     "output_type": "stream",
     "text": [
      "Stop.\n",
      "NOT A RESPONSE.\n"
     ]
    },
    {
     "name": "stderr",
     "output_type": "stream",
     "text": [
      "\n",
      "\n",
      "  8%|▊         | 4/50 [01:18<17:37, 22.99s/it]\u001B[A\u001B[A"
     ]
    },
    {
     "name": "stdout",
     "output_type": "stream",
     "text": [
      "Stop.\n"
     ]
    },
    {
     "name": "stderr",
     "output_type": "stream",
     "text": [
      "\n",
      "\n",
      " 10%|█         | 5/50 [01:20<11:24, 15.21s/it]\u001B[A\u001B[A"
     ]
    },
    {
     "name": "stdout",
     "output_type": "stream",
     "text": [
      "Stop.\n"
     ]
    },
    {
     "name": "stderr",
     "output_type": "stream",
     "text": [
      "\n",
      "\n",
      " 12%|█▏        | 6/50 [01:23<08:05, 11.03s/it]\u001B[A\u001B[A"
     ]
    },
    {
     "name": "stdout",
     "output_type": "stream",
     "text": [
      "Stop.\n"
     ]
    },
    {
     "name": "stderr",
     "output_type": "stream",
     "text": [
      "\n",
      "\n",
      " 14%|█▍        | 7/50 [01:23<05:28,  7.65s/it]\u001B[A\u001B[A"
     ]
    },
    {
     "name": "stdout",
     "output_type": "stream",
     "text": [
      "Stop.\n"
     ]
    },
    {
     "name": "stderr",
     "output_type": "stream",
     "text": [
      "\n",
      "\n",
      " 16%|█▌        | 8/50 [01:44<08:19, 11.90s/it]\u001B[A\u001B[A"
     ]
    },
    {
     "name": "stdout",
     "output_type": "stream",
     "text": [
      "Stop.\n"
     ]
    },
    {
     "name": "stderr",
     "output_type": "stream",
     "text": [
      "\n",
      "\n",
      " 18%|█▊        | 9/50 [01:47<06:13,  9.10s/it]\u001B[A\u001B[A\n",
      "\n",
      " 20%|██        | 10/50 [02:19<10:41, 16.03s/it]\u001B[A\u001B[A"
     ]
    },
    {
     "name": "stdout",
     "output_type": "stream",
     "text": [
      "Stop.\n"
     ]
    },
    {
     "name": "stderr",
     "output_type": "stream",
     "text": [
      "\n",
      "\n",
      " 22%|██▏       | 11/50 [02:19<07:20, 11.29s/it]\u001B[A\u001B[A"
     ]
    },
    {
     "name": "stdout",
     "output_type": "stream",
     "text": [
      "Stop.\n"
     ]
    },
    {
     "name": "stderr",
     "output_type": "stream",
     "text": [
      "\n",
      "\n",
      " 24%|██▍       | 12/50 [02:21<05:16,  8.32s/it]\u001B[A\u001B[A"
     ]
    },
    {
     "name": "stdout",
     "output_type": "stream",
     "text": [
      "Stop.\n"
     ]
    },
    {
     "name": "stderr",
     "output_type": "stream",
     "text": [
      "\n",
      "\n",
      " 26%|██▌       | 13/50 [02:27<04:45,  7.72s/it]\u001B[A\u001B[A2024-12-24 23:02:30 - WARNING - Client error occurred: Cannot connect to host www.googleapis.com:443 ssl:default [None], retrying 1...\n",
      "\n",
      "\n",
      " 28%|██▊       | 14/50 [02:40<05:31,  9.21s/it]\u001B[A\u001B[A\n",
      "\n",
      " 30%|███       | 15/50 [02:41<03:53,  6.68s/it]\u001B[A\u001B[A"
     ]
    },
    {
     "name": "stdout",
     "output_type": "stream",
     "text": [
      "Stop.\n"
     ]
    },
    {
     "name": "stderr",
     "output_type": "stream",
     "text": [
      "\n",
      "\n",
      " 32%|███▏      | 16/50 [02:48<03:54,  6.91s/it]\u001B[A\u001B[A"
     ]
    },
    {
     "name": "stdout",
     "output_type": "stream",
     "text": [
      "Stop.\n"
     ]
    },
    {
     "name": "stderr",
     "output_type": "stream",
     "text": [
      "\n",
      "\n",
      " 34%|███▍      | 17/50 [02:52<03:19,  6.06s/it]\u001B[A\u001B[A"
     ]
    },
    {
     "name": "stdout",
     "output_type": "stream",
     "text": [
      "Stop.\n"
     ]
    },
    {
     "name": "stderr",
     "output_type": "stream",
     "text": [
      "\n",
      "\n",
      " 36%|███▌      | 18/50 [02:54<02:31,  4.73s/it]\u001B[A\u001B[A\n",
      "\n",
      " 38%|███▊      | 19/50 [02:55<01:54,  3.69s/it]\u001B[A\u001B[A\n",
      "\n",
      " 40%|████      | 20/50 [03:01<02:10,  4.34s/it]\u001B[A\u001B[A\n",
      "\n",
      " 42%|████▏     | 21/50 [03:05<02:02,  4.22s/it]\u001B[A\u001B[A"
     ]
    },
    {
     "name": "stdout",
     "output_type": "stream",
     "text": [
      "Stop.\n"
     ]
    },
    {
     "name": "stderr",
     "output_type": "stream",
     "text": [
      "\n",
      "\n",
      " 44%|████▍     | 22/50 [03:07<01:36,  3.45s/it]\u001B[A\u001B[A\n",
      "\n",
      " 46%|████▌     | 23/50 [03:11<01:37,  3.61s/it]\u001B[A\u001B[A"
     ]
    },
    {
     "name": "stdout",
     "output_type": "stream",
     "text": [
      "Stop.\n"
     ]
    },
    {
     "name": "stderr",
     "output_type": "stream",
     "text": [
      "\n",
      "\n",
      " 48%|████▊     | 24/50 [03:14<01:32,  3.57s/it]\u001B[A\u001B[A"
     ]
    },
    {
     "name": "stdout",
     "output_type": "stream",
     "text": [
      "Stop.\n"
     ]
    },
    {
     "name": "stderr",
     "output_type": "stream",
     "text": [
      "\n",
      "\n",
      " 50%|█████     | 25/50 [03:15<01:09,  2.80s/it]\u001B[A\u001B[A"
     ]
    },
    {
     "name": "stdout",
     "output_type": "stream",
     "text": [
      "Stop.\n"
     ]
    },
    {
     "name": "stderr",
     "output_type": "stream",
     "text": [
      "\n",
      "\n",
      " 52%|█████▏    | 26/50 [03:17<01:03,  2.65s/it]\u001B[A\u001B[A\n",
      "\n",
      " 54%|█████▍    | 27/50 [03:19<00:57,  2.48s/it]\u001B[A\u001B[A"
     ]
    },
    {
     "name": "stdout",
     "output_type": "stream",
     "text": [
      "Stop.\n"
     ]
    },
    {
     "name": "stderr",
     "output_type": "stream",
     "text": [
      "\n",
      "\n",
      " 56%|█████▌    | 28/50 [03:29<01:39,  4.54s/it]\u001B[A\u001B[A\n",
      "\n",
      " 58%|█████▊    | 29/50 [03:33<01:30,  4.29s/it]\u001B[A\u001B[A\n",
      "\n",
      " 60%|██████    | 30/50 [03:40<01:45,  5.28s/it]\u001B[A\u001B[A\n",
      "\n",
      " 62%|██████▏   | 31/50 [03:42<01:21,  4.28s/it]\u001B[A\u001B[A\n",
      "\n",
      " 64%|██████▍   | 32/50 [03:42<00:54,  3.04s/it]\u001B[A\u001B[A\n",
      "\n",
      " 66%|██████▌   | 33/50 [03:43<00:42,  2.50s/it]\u001B[A\u001B[A\n",
      "\n",
      " 68%|██████▊   | 34/50 [03:45<00:35,  2.22s/it]\u001B[A\u001B[A\n",
      "\n",
      " 70%|███████   | 35/50 [03:47<00:32,  2.14s/it]\u001B[A\u001B[A2024-12-24 23:03:45 - WARNING - Client error occurred: Cannot connect to host www.googleapis.com:443 ssl:default [None], retrying 1...\n",
      "\n",
      "\n",
      " 72%|███████▏  | 36/50 [03:47<00:21,  1.54s/it]\u001B[A\u001B[A\n",
      "\n",
      " 74%|███████▍  | 37/50 [03:49<00:23,  1.77s/it]\u001B[A\u001B[A\n",
      "\n",
      " 76%|███████▌  | 38/50 [03:50<00:16,  1.40s/it]\u001B[A\u001B[A\n",
      "\n",
      " 78%|███████▊  | 39/50 [03:54<00:24,  2.20s/it]\u001B[A\u001B[A\n",
      "\n",
      " 80%|████████  | 40/50 [03:55<00:18,  1.83s/it]\u001B[A\u001B[A\n",
      "\n",
      " 84%|████████▍ | 42/50 [03:57<00:11,  1.38s/it]\u001B[A\u001B[A"
     ]
    },
    {
     "name": "stdout",
     "output_type": "stream",
     "text": [
      "Stop.\n"
     ]
    },
    {
     "name": "stderr",
     "output_type": "stream",
     "text": [
      "\n",
      "\n",
      " 86%|████████▌ | 43/50 [04:02<00:15,  2.25s/it]\u001B[A\u001B[A\n",
      "\n",
      " 88%|████████▊ | 44/50 [04:02<00:10,  1.82s/it]\u001B[A\u001B[A\n",
      "\n",
      " 92%|█████████▏| 46/50 [04:03<00:04,  1.24s/it]\u001B[A\u001B[A\n",
      "\n",
      " 94%|█████████▍| 47/50 [04:06<00:04,  1.59s/it]\u001B[A\u001B[A\n",
      "\n",
      " 96%|█████████▌| 48/50 [04:07<00:02,  1.39s/it]\u001B[A\u001B[A\n",
      "\n",
      "100%|██████████| 50/50 [04:07<00:00,  4.95s/it]\u001B[A\u001B[A\n",
      " 67%|██████▋   | 2/3 [06:35<03:26, 206.47s/it]\n",
      "\n",
      "  0%|          | 0/50 [00:00<?, ?it/s]\u001B[A\u001B[A\n",
      "\n",
      "  2%|▏         | 1/50 [00:35<29:12, 35.77s/it]\u001B[A\u001B[A"
     ]
    },
    {
     "name": "stdout",
     "output_type": "stream",
     "text": [
      "Stop.\n"
     ]
    },
    {
     "name": "stderr",
     "output_type": "stream",
     "text": [
      "\n",
      "\n",
      "  4%|▍         | 2/50 [00:50<18:44, 23.42s/it]\u001B[A\u001B[A\n",
      "\n",
      "  6%|▌         | 3/50 [00:55<11:43, 14.96s/it]\u001B[A\u001B[A"
     ]
    },
    {
     "name": "stdout",
     "output_type": "stream",
     "text": [
      "Stop.\n"
     ]
    },
    {
     "name": "stderr",
     "output_type": "stream",
     "text": [
      "2024-12-24 23:05:01 - WARNING - Client error occurred: Cannot connect to host www.googleapis.com:443 ssl:default [None], retrying 1...\n",
      "\n",
      "\n",
      "  8%|▊         | 4/50 [01:31<17:43, 23.12s/it]\u001B[A\u001B[A\n",
      "\n",
      " 10%|█         | 5/50 [01:39<13:15, 17.69s/it]\u001B[A\u001B[A"
     ]
    },
    {
     "name": "stdout",
     "output_type": "stream",
     "text": [
      "Stop.\n"
     ]
    },
    {
     "name": "stderr",
     "output_type": "stream",
     "text": [
      "\n",
      "\n",
      " 12%|█▏        | 6/50 [01:44<09:56, 13.56s/it]\u001B[A\u001B[A"
     ]
    },
    {
     "name": "stdout",
     "output_type": "stream",
     "text": [
      "Stop.\n"
     ]
    },
    {
     "name": "stderr",
     "output_type": "stream",
     "text": [
      "\n",
      "\n",
      " 14%|█▍        | 7/50 [01:45<06:49,  9.52s/it]\u001B[A\u001B[A"
     ]
    },
    {
     "name": "stdout",
     "output_type": "stream",
     "text": [
      "Stop.\n"
     ]
    },
    {
     "name": "stderr",
     "output_type": "stream",
     "text": [
      "\n",
      "\n",
      " 16%|█▌        | 8/50 [01:56<06:57,  9.93s/it]\u001B[A\u001B[A\n",
      "\n",
      " 18%|█▊        | 9/50 [01:59<05:19,  7.78s/it]\u001B[A\u001B[A"
     ]
    },
    {
     "name": "stdout",
     "output_type": "stream",
     "text": [
      "Stop.\n"
     ]
    },
    {
     "name": "stderr",
     "output_type": "stream",
     "text": [
      "\n",
      "\n",
      " 20%|██        | 10/50 [02:10<05:43,  8.58s/it]\u001B[A\u001B[A"
     ]
    },
    {
     "name": "stdout",
     "output_type": "stream",
     "text": [
      "Stop.\n"
     ]
    },
    {
     "name": "stderr",
     "output_type": "stream",
     "text": [
      "\n",
      "\n",
      " 22%|██▏       | 11/50 [02:13<04:29,  6.91s/it]\u001B[A\u001B[A"
     ]
    },
    {
     "name": "stdout",
     "output_type": "stream",
     "text": [
      "Stop.\n"
     ]
    },
    {
     "name": "stderr",
     "output_type": "stream",
     "text": [
      "\n",
      "\n",
      " 24%|██▍       | 12/50 [02:13<03:07,  4.94s/it]\u001B[A\u001B[A\n",
      "\n",
      " 26%|██▌       | 13/50 [02:19<03:11,  5.18s/it]\u001B[A\u001B[A"
     ]
    },
    {
     "name": "stdout",
     "output_type": "stream",
     "text": [
      "Stop.\n"
     ]
    },
    {
     "name": "stderr",
     "output_type": "stream",
     "text": [
      "\n",
      "\n",
      " 28%|██▊       | 14/50 [02:26<03:25,  5.70s/it]\u001B[A\u001B[A"
     ]
    },
    {
     "name": "stdout",
     "output_type": "stream",
     "text": [
      "NOT A RESPONSE.\n"
     ]
    },
    {
     "name": "stderr",
     "output_type": "stream",
     "text": [
      "\n",
      "\n",
      " 30%|███       | 15/50 [02:29<02:53,  4.96s/it]\u001B[A\u001B[A"
     ]
    },
    {
     "name": "stdout",
     "output_type": "stream",
     "text": [
      "Stop.\n"
     ]
    },
    {
     "name": "stderr",
     "output_type": "stream",
     "text": [
      "\n",
      "\n",
      " 32%|███▏      | 16/50 [02:31<02:20,  4.13s/it]\u001B[A\u001B[A\n",
      "\n",
      " 34%|███▍      | 17/50 [02:38<02:46,  5.05s/it]\u001B[A\u001B[A\n",
      "\n",
      " 36%|███▌      | 18/50 [02:41<02:22,  4.46s/it]\u001B[A\u001B[A"
     ]
    },
    {
     "name": "stdout",
     "output_type": "stream",
     "text": [
      "Stop.\n"
     ]
    },
    {
     "name": "stderr",
     "output_type": "stream",
     "text": [
      "\n",
      "\n",
      " 38%|███▊      | 19/50 [02:45<02:09,  4.19s/it]\u001B[A\u001B[A\n",
      "\n",
      " 40%|████      | 20/50 [02:47<01:49,  3.65s/it]\u001B[A\u001B[A"
     ]
    },
    {
     "name": "stdout",
     "output_type": "stream",
     "text": [
      "Stop.\n"
     ]
    },
    {
     "name": "stderr",
     "output_type": "stream",
     "text": [
      "\n",
      "\n",
      " 42%|████▏     | 21/50 [03:05<03:50,  7.97s/it]\u001B[A\u001B[A"
     ]
    },
    {
     "name": "stdout",
     "output_type": "stream",
     "text": [
      "Stop.\n"
     ]
    },
    {
     "name": "stderr",
     "output_type": "stream",
     "text": [
      "\n",
      "\n",
      " 44%|████▍     | 22/50 [03:07<02:53,  6.18s/it]\u001B[A\u001B[A\n",
      "\n",
      " 46%|████▌     | 23/50 [03:09<02:09,  4.80s/it]\u001B[A\u001B[A"
     ]
    },
    {
     "name": "stdout",
     "output_type": "stream",
     "text": [
      "Stop.\n"
     ]
    },
    {
     "name": "stderr",
     "output_type": "stream",
     "text": [
      "\n",
      "\n",
      " 48%|████▊     | 24/50 [03:09<01:29,  3.46s/it]\u001B[A\u001B[A\n",
      "\n",
      " 50%|█████     | 25/50 [03:11<01:11,  2.87s/it]\u001B[A\u001B[A\n",
      "\n",
      " 52%|█████▏    | 26/50 [03:13<01:01,  2.55s/it]\u001B[A\u001B[A"
     ]
    },
    {
     "name": "stdout",
     "output_type": "stream",
     "text": [
      "Stop.\n"
     ]
    },
    {
     "name": "stderr",
     "output_type": "stream",
     "text": [
      "\n",
      "\n",
      " 54%|█████▍    | 27/50 [03:15<00:56,  2.45s/it]\u001B[A\u001B[A\n",
      "\n",
      " 56%|█████▌    | 28/50 [03:18<00:55,  2.52s/it]\u001B[A\u001B[A\n",
      "\n",
      " 58%|█████▊    | 29/50 [03:21<01:00,  2.87s/it]\u001B[A\u001B[A\n",
      "\n",
      " 60%|██████    | 30/50 [03:29<01:27,  4.38s/it]\u001B[A\u001B[A"
     ]
    },
    {
     "name": "stdout",
     "output_type": "stream",
     "text": [
      "Stop.\n"
     ]
    },
    {
     "name": "stderr",
     "output_type": "stream",
     "text": [
      "\n",
      "\n",
      " 62%|██████▏   | 31/50 [03:30<01:00,  3.19s/it]\u001B[A\u001B[A\n",
      "\n",
      " 64%|██████▍   | 32/50 [03:30<00:43,  2.39s/it]\u001B[A\u001B[A"
     ]
    },
    {
     "name": "stdout",
     "output_type": "stream",
     "text": [
      "NOT A RESPONSE.\n"
     ]
    },
    {
     "name": "stderr",
     "output_type": "stream",
     "text": [
      "\n",
      "\n",
      " 66%|██████▌   | 33/50 [03:34<00:45,  2.70s/it]\u001B[A\u001B[A\n",
      "\n",
      " 68%|██████▊   | 34/50 [03:44<01:18,  4.88s/it]\u001B[A\u001B[A\n",
      "\n",
      " 70%|███████   | 35/50 [03:46<01:01,  4.09s/it]\u001B[A\u001B[A\n",
      "\n",
      " 72%|███████▏  | 36/50 [03:46<00:41,  2.98s/it]\u001B[A\u001B[A2024-12-24 23:07:58 - WARNING - Client error occurred: Cannot connect to host www.googleapis.com:443 ssl:default [None], retrying 1...\n",
      "\n",
      "\n",
      " 74%|███████▍  | 37/50 [03:52<00:51,  3.92s/it]\u001B[A\u001B[A\n",
      "\n",
      " 76%|███████▌  | 38/50 [03:56<00:47,  3.98s/it]\u001B[A\u001B[A\n",
      "\n",
      " 78%|███████▊  | 39/50 [03:58<00:36,  3.30s/it]\u001B[A\u001B[A"
     ]
    },
    {
     "name": "stdout",
     "output_type": "stream",
     "text": [
      "Stop.\n"
     ]
    },
    {
     "name": "stderr",
     "output_type": "stream",
     "text": [
      "\n",
      "\n",
      " 80%|████████  | 40/50 [04:01<00:30,  3.03s/it]\u001B[A\u001B[A\n",
      "\n",
      " 82%|████████▏ | 41/50 [04:02<00:22,  2.51s/it]\u001B[A\u001B[A\n",
      "\n",
      " 84%|████████▍ | 42/50 [04:03<00:16,  2.00s/it]\u001B[A\u001B[A\n",
      "\n",
      " 86%|████████▌ | 43/50 [04:05<00:15,  2.16s/it]\u001B[A\u001B[A\n",
      "\n",
      " 88%|████████▊ | 44/50 [04:07<00:12,  2.06s/it]\u001B[A\u001B[A\n",
      "\n",
      " 90%|█████████ | 45/50 [04:09<00:09,  1.96s/it]\u001B[A\u001B[A\n",
      "\n",
      " 92%|█████████▏| 46/50 [04:09<00:06,  1.52s/it]\u001B[A\u001B[A\n",
      "\n",
      " 94%|█████████▍| 47/50 [04:10<00:03,  1.21s/it]\u001B[A\u001B[A\n",
      "\n",
      " 96%|█████████▌| 48/50 [04:11<00:02,  1.35s/it]\u001B[A\u001B[A"
     ]
    },
    {
     "name": "stdout",
     "output_type": "stream",
     "text": [
      "Stop.\n"
     ]
    },
    {
     "name": "stderr",
     "output_type": "stream",
     "text": [
      "\n",
      "\n",
      " 98%|█████████▊| 49/50 [04:23<00:04,  4.48s/it]\u001B[A\u001B[A\n",
      "\n",
      "100%|██████████| 50/50 [04:24<00:00,  5.28s/it]\u001B[A\u001B[A\n",
      "100%|██████████| 3/3 [10:59<00:00, 219.87s/it]\n"
     ]
    }
   ],
   "execution_count": 7
  }
 ],
 "metadata": {
  "kernelspec": {
   "display_name": "Python 3",
   "language": "python",
   "name": "python3"
  },
  "language_info": {
   "codemirror_mode": {
    "name": "ipython",
    "version": 2
   },
   "file_extension": ".py",
   "mimetype": "text/x-python",
   "name": "python",
   "nbconvert_exporter": "python",
   "pygments_lexer": "ipython2",
   "version": "2.7.6"
  }
 },
 "nbformat": 4,
 "nbformat_minor": 5
}
