{
 "cells": [
  {
   "metadata": {
    "ExecuteTime": {
     "end_time": "2024-11-25T11:30:29.461394Z",
     "start_time": "2024-11-25T11:30:29.450242Z"
    }
   },
   "cell_type": "code",
   "source": [
    "import asyncio\n",
    "import os\n",
    "\n",
    "import dspy\n",
    "from dotenv import load_dotenv, find_dotenv\n",
    "from langchain_community.utilities import WikipediaAPIWrapper\n",
    "from langchain_community.utilities.wikidata import WikidataAPIWrapper\n",
    "\n",
    "from agent.utils.tools import BingSearchTool\n",
    "from agent.utils.tools import WikidataTool, GoogleSearchTool, WikipediaTool, GoogleKnowledgeGraphTool, calculator, \\\n",
    "\tpython_interpreter\n",
    "\n",
    "_ = load_dotenv(find_dotenv())"
   ],
   "id": "a07498bd710748ee",
   "outputs": [],
   "execution_count": 6
  },
  {
   "metadata": {
    "ExecuteTime": {
     "end_time": "2024-11-25T13:07:08.653316Z",
     "start_time": "2024-11-25T13:07:08.639259Z"
    }
   },
   "cell_type": "code",
   "source": [
    "class Plan(dspy.Signature):\n",
    "\t\"\"\"Given a question or problem, generate a solving plan, which is a list of steps.\\\n",
    "\tIt doesn't need to actually solve the problem, just generate a plan.\\\n",
    "\tBased on the overall question and plan, identify all the error prone points in the problem solving process of each step.\\\n",
    "\tThese error-prone points are the key to guiding the selection of tools and the input of the selected tools.\\\n",
    "\tRemember that there may be multiple error-prone areas in each step, and you should list them all.\"\"\"\n",
    "\tquestion: str = dspy.InputField()\n",
    "\tplan_and_guidance: list[dict] = dspy.OutputField(desc=\"Each item contains a key 'step' and a key 'guidance'.\")\n",
    "\n",
    "\n",
    "class Tool(dspy.Signature):\n",
    "\t\"\"\"Regarding current step and the guidance, choose the appropriate tools to help you complete current step.\\\n",
    "\t The guidance should be guiding principles to guide subsequent behavior. \\\n",
    "\t Before providing the selected tools and corresponding inputs, \\\n",
    "\t you should fully understand the functions of each tool and their specific requirements for the input content. \\\n",
    "\t The tool name must accurately match the existing tool (including characters such as uppercase and lowercase, spaces, etc.). \\\n",
    "\t Remember that there may be multiple tools that meet the requirements, and there are also some tools that are not suitable for the current step. \\\n",
    "\t Avoid selecting tools that are obviously unsuitable.\n",
    "\n",
    "\tYou have the following tool set:\n",
    "\t[wiki_data] - A wrapper around Wikidata. Useful for when you need to answer general questions about people, places, companies, facts, historical events, or other subjects. Input should be the exact name of the item you want information about or a Wikidata QID.\n",
    "\t[google_search] - A search engine. useful for when you need to answer questions about current events. Input should be a search query.\n",
    "\t[bing_search] - A search engine. useful for when you need to answer questions about current events. Input should be a search query.\n",
    "\t[calculator] - Useful when you need to calculate the value of a mathematical expression, including basic arithmetic operations. Use this tool for math operations. Input should strictly follow the numuxpr syntax.\n",
    "\t[python_interpreter] - Useful when you need to execute a code and get the value of the variables <answer>. Use this tool for code execution.This tool will return the code execution result and final value of the variable <answer>. Input should be pure python code string.\n",
    "\t[wikipedia] - A wrapper around Wikipedia. Useful for when you need to answer general questions about people, places, companies, facts, historical events, or other subjects. Input should be a search query.\n",
    "\t[google_knowledge_graph] - This tool searches for entities in the Google Knowledge Graph. It provides information about people, places, things, and concepts. Useful when you need to get information about a specific entity. Input should be an entity name.\n",
    "\t\"\"\"\n",
    "\tpast_steps: list[dict] = dspy.InputField(desc=\"The past steps and guidance, ordered by the order of the steps.\")\n",
    "\tcurrent_step_and_guidance: dict = dspy.InputField(desc=\"The current step and guidance.\")\n",
    "\ttool: dict = dspy.OutputField(\n",
    "\t\tdesc=\"List all the appropriate tools to help you complete current step.\"\n",
    "\t\t     \"Each item is a dictionary, the key is the tool name, the value is the input content of the tool.\")\n",
    "\n",
    "\n",
    "class Result(dspy.Signature):\n",
    "\t\"\"\"Based on current step, guidance and tool result, provide your answer to the current step. Remember that all the tool result are reliable. If the tool result contains the information you need, you should list the information as evidence for the current step.\"\"\"\n",
    "\n",
    "\tstep: str = dspy.InputField()\n",
    "\tguidance: str = dspy.InputField()\n",
    "\ttool_result: list[dict] = dspy.InputField()\n",
    "\tevidence: str = dspy.OutputField(\n",
    "\t\tdesc=\"The evidence contains the information in the tool result which is needed for the current step answer.\")\n",
    "\tanswer: str = dspy.OutputField(desc=\"The answer to the current step.\")\n",
    "\n",
    "\n",
    "class FinalAnswer(dspy.Signature):\n",
    "\t\"\"\"Based on the question、steps、evidence and results, integrate all information that can help solve the problem and then provide your final answer. \\\n",
    "\tYour response should contains two part, the first part is the fusion of the Revising Process and the second part is the final answer.\"\"\"\n",
    "\n",
    "\tquestion: str = dspy.InputField()\n",
    "\tsteps: list[dict] = dspy.InputField(desc=\"Each item contains a key 'step', a key 'evidence' and a key 'result'.\")\n",
    "\tfusion: str = dspy.OutputField(desc=\"The fusion of the Revising Process.\")\n",
    "\tfinal_answer: str = dspy.OutputField(desc=\"The final answer to the question.\")"
   ],
   "id": "f0fa5aa3e37ba5a2",
   "outputs": [],
   "execution_count": 20
  },
  {
   "metadata": {
    "ExecuteTime": {
     "end_time": "2024-11-25T11:31:33.519584Z",
     "start_time": "2024-11-25T11:31:33.485464Z"
    }
   },
   "cell_type": "code",
   "source": [
    "wikidata_tool = WikidataTool(api_wrapper=WikidataAPIWrapper())\n",
    "google_search_tool = GoogleSearchTool()\n",
    "bing_search_tool = BingSearchTool()\n",
    "wikipedia_tool = WikipediaTool(api_wrapper=WikipediaAPIWrapper())\n",
    "google_knowledge_graph_tool = GoogleKnowledgeGraphTool(api_key=os.environ.get(\"GOOGLE_API_KEY\"))\n",
    "tool_set = {\"wiki_data\": wikidata_tool, \"google_search\": google_search_tool, \"bing_search\": bing_search_tool,\n",
    "            \"calculator\": calculator, \"python_interpreter\": python_interpreter, \"wikipedia\": wikipedia_tool,\n",
    "            \"google_knowledge_graph\": google_knowledge_graph_tool}\n",
    "tool_description = \"\\n\".join([f\"[{tool_name}] - {tool.description}\" for tool_name, tool in tool_set.items()])\n",
    "\n",
    "\n",
    "async def tool_ainvoke(tool_dictionary: dict):\n",
    "\tasync def run_tool(tool_name, tool_input):\n",
    "\t\ttry:\n",
    "\t\t\tresult = await tool_set[tool_name].arun(tool_input)\n",
    "\t\t\treturn {\"tool_name\": tool_name, \"tool_input\": tool_input, \"tool_result\": result}\n",
    "\t\texcept Exception as e:\n",
    "\t\t\treturn {\"tool_name\": tool_name, \"tool_input\": tool_input, \"tool_result\": str(e)}\n",
    "\n",
    "\ttasks = [run_tool(tool_name, tool_input) for tool_name, tool_input in tool_dictionary.items()]\n",
    "\n",
    "\ttool_result = await asyncio.gather(*tasks)\n",
    "\treturn tool_result\n",
    "\n",
    "\n",
    "print(tool_description)"
   ],
   "id": "cafc1bd56544e13b",
   "outputs": [
    {
     "name": "stdout",
     "output_type": "stream",
     "text": [
      "[wiki_data] - A wrapper around Wikidata. Useful for when you need to answer general questions about people, places, companies, facts, historical events, or other subjects. Input should be the exact name of the item you want information about or a Wikidata QID.\n",
      "[google_search] - A search engine. useful for when you need to answer questions about current events. Input should be a search query. \n",
      "[bing_search] - A search engine. useful for when you need to answer questions about current events. Input should be a search query. \n",
      "[calculator] - Useful when you need to calculate the value of a mathematical expression, including basic arithmetic operations. Use this tool for math operations. Input should strictly follow the numuxpr syntax.\n",
      "[python_interpreter] - Useful when you need to execute a code and get the value of the variables <answer>. Use this tool for code execution.This tool will return the code execution result and final value of the variable <answer>. Input should be pure python code string.\n",
      "[wikipedia] - A wrapper around Wikipedia. Useful for when you need to answer general questions about people, places, companies, facts, historical events, or other subjects. Input should be a search query.\n",
      "[google_knowledge_graph] - This tool searches for entities in the Google Knowledge Graph. It provides information about people, places, things, and concepts. Useful when you need to get information about a specific entity. Input should be an entity name.\n"
     ]
    }
   ],
   "execution_count": 7
  },
  {
   "metadata": {
    "ExecuteTime": {
     "end_time": "2024-11-25T13:18:26.983155Z",
     "start_time": "2024-11-25T13:18:18.604308Z"
    }
   },
   "cell_type": "code",
   "source": [
    "dspy.configure(lm=dspy.LM(model='openai/gpt-4o-mini', temperature=0, api_base=\"https://api.chsdw.top/v1\"))\n",
    "plan = dspy.Predict(Plan)\n",
    "tool = dspy.ChainOfThought(Tool)\n",
    "cot = dspy.Predict(Result)\n",
    "\n",
    "question = \"Who was known by his stage name Aladin and helped organizations improve their performance as a consultant?\"\n",
    "plan_result = plan(question=question)\n",
    "print(plan_result)\n",
    "tool_selection = tool(past_steps=[],\n",
    "                      current_step_and_guidance={\"current_step\": plan_result.plan_and_guidance[0][\"step\"],\n",
    "                                                 \"guidance\": plan_result.plan_and_guidance[0][\"guidance\"]})\n",
    "print(tool_selection)\n",
    "tool_result = await tool_ainvoke(tool_selection.tool)\n",
    "print(tool_result)\n",
    "cot_result = cot(step=plan_result.plan_and_guidance[0][\"step\"], guidance=plan_result.plan_and_guidance[0][\"guidance\"],\n",
    "                 tool_result=tool_result)\n",
    "print(cot_result)"
   ],
   "id": "cc4f279da7d12d3",
   "outputs": [
    {
     "name": "stdout",
     "output_type": "stream",
     "text": [
      "Prediction(\n",
      "    plan_and_guidance=[{'step': 'Identify the person known as Aladin', 'guidance': 'Research the stage name Aladin to find out who it refers to in the context of organizational consulting.'}, {'step': \"Find details on the individual's consulting work\", 'guidance': 'Look for information regarding how the person has helped organizations improve their performance, including projects, methodologies, and expertise.'}, {'step': 'Explore contributions and impact', 'guidance': \"Investigate specific contributions or improvements attributed to this individual's consulting work and gather case studies or testimonials.\"}, {'step': 'Validate the information', 'guidance': 'Cross-check the gathered information from multiple sources to ensure accuracy and credibility regarding the persona and their consulting impact.'}]\n",
      ")\n",
      "Prediction(\n",
      "    reasoning='To identify the person known as \"Aladin\" in the context of organizational consulting, I need to conduct research to gather relevant information. Given that \"Aladin\" may refer to a specific individual within a professional domain, using resources that can provide comprehensive details about people is essential. The tool [wiki_data] is suitable for this task as it can provide information about specific individuals related to the name \"Aladin\" and their context in organizational consulting.',\n",
      "    tool={'wiki_data': 'Aladin'}\n",
      ")\n",
      "[{'tool_name': 'wiki_data', 'tool_input': 'Aladin', 'tool_result': 'Result Q36907825:\\nLabel: Aladin\\nDescription: family name\\ninstance of: family name\\n\\nResult Q2829475:\\nLabel: Aladin Sky Atlas\\nDescription: interactive sky atlas\\nAliases: Aladin\\ninstance of: free software\\ndeveloper: Centre de données astronomiques de Strasbourg'}]\n",
      "Prediction(\n",
      "    evidence='The tool result did not provide specific information about a person known as Aladin in the context of organizational consulting.',\n",
      "    answer='The tool result does not identify any individual known as Aladin in the context of organizational consulting. It primarily describes \"Aladin\" as a family name and references \"Aladin Sky Atlas,\" an interactive sky atlas, but does not provide pertinent details regarding a person with that stage name in consulting.'\n",
      ")\n"
     ]
    }
   ],
   "execution_count": 24
  },
  {
   "metadata": {
    "ExecuteTime": {
     "end_time": "2024-11-25T13:06:29.785569Z",
     "start_time": "2024-11-25T13:06:29.778240Z"
    }
   },
   "cell_type": "code",
   "source": [
    "class SelfGuidance(dspy.Module):\n",
    "\tdef __init__(self):\n",
    "\t\tsuper().__init__()\n",
    "\t\tself.plan_and_guidance = dspy.Predict(Plan)\n",
    "\t\tself.tool = dspy.ChainOfThought(Tool)\n",
    "\t\tself.tool_ainvoke = tool_ainvoke\n",
    "\t\tself.cot = dspy.Predict(Result)\n",
    "\t\tself.final_answer = dspy.Predict(FinalAnswer)\n",
    "\n",
    "\tdef forward(self, question: str):\n",
    "\t\tpast_steps = []\n",
    "\t\tplan_result = self.plan_and_guidance(question=question)\n",
    "\t\tfor step_and_guidance in plan_result.plan_and_guidance:\n",
    "\t\t\ttool_selection = self.tool(past_steps=past_steps, current_step_and_guidance=step_and_guidance)\n",
    "\t\t\ttool_result = asyncio.run(self.tool_ainvoke(tool_selection.tool))\n",
    "\t\t\tcot_result = self.cot(step=step_and_guidance[\"step\"], guidance=step_and_guidance[\"guidance\"],\n",
    "\t\t\t                      tool_result=tool_result)\n",
    "\t\t\tpast_steps.append(\n",
    "\t\t\t\t{\"step\": step_and_guidance[\"step\"], \"evidence\": cot_result.evidence, \"result\": cot_result.answer})\n",
    "\t\tfinal_answer = self.final_answer(question=question, steps=past_steps)\n",
    "\t\treturn final_answer\n"
   ],
   "id": "a055d5ccda72d7af",
   "outputs": [],
   "execution_count": 18
  },
  {
   "metadata": {
    "ExecuteTime": {
     "end_time": "2024-11-25T13:19:16.580804Z",
     "start_time": "2024-11-25T13:18:44.138753Z"
    }
   },
   "cell_type": "code",
   "source": [
    "import nest_asyncio\n",
    "\n",
    "nest_asyncio.apply()\n",
    "sg = SelfGuidance()\n",
    "result = sg(question)"
   ],
   "id": "851c8a370eac1fc4",
   "outputs": [],
   "execution_count": 25
  },
  {
   "metadata": {
    "ExecuteTime": {
     "end_time": "2024-11-25T13:19:19.478771Z",
     "start_time": "2024-11-25T13:19:19.475413Z"
    }
   },
   "cell_type": "code",
   "source": "print(result)",
   "id": "d1d4797b9c89f022",
   "outputs": [
    {
     "name": "stdout",
     "output_type": "stream",
     "text": [
      "Prediction(\n",
      "    fusion=\"The investigation began with identifying Aladin as Aladin Jarrah, who holds roles as a communicator, strategic planner, and management consultant within the organizational consulting landscape. However, efforts to delve deeper into his specific consulting work yielded limited information, with no detailed accounts of projects, methodologies, or direct expertise in enhancing organizational performance found in the initial search results. The examination of his contributions indicated that while he may have influenced management practices and people's lives through idea shaping and legitimization, concrete evidence of his impact on organizational consulting remained elusive. The search also revealed no corroborative information that would validate his specific contributions or expertise as a management consultant, which implies a gap in publicly available knowledge regarding his direct influence and work in the field.\",\n",
      "    final_answer='Aladin, known as Aladin Jarrah, is a communicator and management consultant, but specific details of his contributions to improving organizational performance are not well-documented or validated in the available sources.'\n",
      ")\n"
     ]
    }
   ],
   "execution_count": 26
  }
 ],
 "metadata": {
  "kernelspec": {
   "display_name": "Python 3",
   "language": "python",
   "name": "python3"
  },
  "language_info": {
   "codemirror_mode": {
    "name": "ipython",
    "version": 2
   },
   "file_extension": ".py",
   "mimetype": "text/x-python",
   "name": "python",
   "nbconvert_exporter": "python",
   "pygments_lexer": "ipython2",
   "version": "2.7.6"
  }
 },
 "nbformat": 4,
 "nbformat_minor": 5
}
