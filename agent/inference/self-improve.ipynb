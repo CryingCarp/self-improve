{
 "cells": [
  {
   "cell_type": "code",
   "id": "initial_id",
   "metadata": {
    "collapsed": true,
    "ExecuteTime": {
     "end_time": "2024-11-14T07:28:18.975174Z",
     "start_time": "2024-11-14T07:28:18.966925Z"
    }
   },
   "source": [
    "import re\n",
    "from agent.utils.tools import WikidataTool, GoogleSearchTool, calculator, python_interpreter, WikipediaTool, GoogleKnowledgeGraphTool\n",
    "from agent.utils.loader import load_processed_data\n",
    "from langchain_openai import ChatOpenAI\n",
    "from dotenv import load_dotenv, find_dotenv\n",
    "import os\n",
    "\n",
    "from agent.utils.tools import BingSearchTool\n",
    "\n",
    "# Optional, add tracing in LangSmith\n",
    "os.environ[\"LANGCHAIN_TRACING_V2\"] = \"true\"\n",
    "os.environ[\"LANGCHAIN_PROJECT\"] = \"self-correct\"\n",
    "os.environ[\"LANGCHAIN_ENDPOINT\"]=\"https://api.smith.langchain.com\"\n",
    "_ = load_dotenv(find_dotenv())"
   ],
   "outputs": [],
   "execution_count": 7
  },
  {
   "metadata": {
    "ExecuteTime": {
     "end_time": "2024-11-14T07:28:19.297323Z",
     "start_time": "2024-11-14T07:28:18.983737Z"
    }
   },
   "cell_type": "code",
   "source": [
    "dataset_name = 'hotpot_qa'\n",
    "mode = \"self-improve\"\n",
    "model = \"gpt-4o-mini-2024-07-18\"\n",
    "num_samples = 100\n",
    "top_p = 0.95\n",
    "temperature = 0\n",
    "seed = 42\n",
    "batch_size = 100\n",
    "if dataset_name == \"toxicity\":\n",
    "\ttemperature = 0.9\n",
    "\tn = 25\n",
    "else:\n",
    "\ttemperature = 0\n",
    "\tn = 1\n",
    "processed_data_path = f\"../../data/processed_data/{dataset_name}.jsonl\"\n",
    "if \"gpt-4o-mini\" in model:\n",
    "\tsave_results_path = f\"../../output/inference/gpt-4o-mini/{dataset_name}/{mode}/num_samples_{num_samples}_top_p_{top_p}_temperature_{temperature}_seed_{seed}.jsonl\"\n",
    "else:\n",
    "\tsave_results_path = f\"../../output/inference/{model}/{dataset_name}/{mode}/num_samples_{num_samples}_top_p_{top_p}_temperature_{temperature}_seed_{seed}.jsonl\"\n",
    "dataset = load_processed_data(dataset_name=dataset_name, file_path=processed_data_path)\n",
    "if num_samples > 0:\n",
    "\tdataset = dataset.select(range(num_samples))\n",
    "print(dataset[0])\n",
    "\n",
    "wikidata_tool = WikidataTool()\n",
    "google_search_tool = GoogleSearchTool()\n",
    "bing_search_tool = BingSearchTool()\n",
    "calculator = calculator\n",
    "python_interpreter = python_interpreter\n",
    "wikipedia_tool = WikipediaTool()\n",
    "google_knowledge_graph_tool = GoogleKnowledgeGraphTool(api_key=os.environ.get(\"GOOGLE_API_KEY\"))\n",
    "tool_set = {\"wiki_data\": wikidata_tool, \"google_search\": google_search_tool, \"bing_search\": bing_search_tool, \"calculator\": calculator, \"python_interpreter\": python_interpreter, \"wikipedia\": wikipedia_tool, \"google_knowledge_graph\": google_knowledge_graph_tool}\n",
    "tool_description = \"\\n\".join([f\"[{tool_name}] - {tool.description}\" for tool_name, tool in tool_set.items()])"
   ],
   "id": "2a00f94dcf91d6fc",
   "outputs": [
    {
     "name": "stdout",
     "output_type": "stream",
     "text": [
      "{'context': '', 'question': 'Were Scott Derrickson and Ed Wood of the same nationality?', 'answer': ['yes']}\n"
     ]
    }
   ],
   "execution_count": 8
  },
  {
   "metadata": {
    "ExecuteTime": {
     "end_time": "2024-11-14T07:28:19.313773Z",
     "start_time": "2024-11-14T07:28:19.309320Z"
    }
   },
   "cell_type": "code",
   "source": "print(tool_set[\"google_search\"].run(\"actress who portrayed Corliss Archer in the film \\\"Kiss and Tell\\\"\"))",
   "id": "36d350080680f0fc",
   "outputs": [
    {
     "name": "stdout",
     "output_type": "stream",
     "text": [
      "{'title': 'Kiss and Tell (1945 film) - Wikipedia', 'snippet': 'Kiss and Tell is a 1945 American comedy film starring then 17-year-old Shirley Temple as Corliss Archer. In the film, two teenage girls cause their\\xa0...'}\n"
     ]
    }
   ],
   "execution_count": 9
  },
  {
   "metadata": {},
   "cell_type": "markdown",
   "source": "# Define State",
   "id": "309beaff723338cc"
  },
  {
   "metadata": {
    "ExecuteTime": {
     "end_time": "2024-11-14T07:28:19.338019Z",
     "start_time": "2024-11-14T07:28:19.333484Z"
    }
   },
   "cell_type": "code",
   "source": [
    "import asyncio\n",
    "from tqdm.asyncio import tqdm_asyncio\n",
    "from typing import Annotated, List, Tuple\n",
    "from typing_extensions import TypedDict\n",
    "from pydantic import BaseModel, Field\n",
    "from langgraph.graph import StateGraph, START, END\n",
    "from langgraph.graph.message import add_messages\n",
    "from langchain_core.prompts import ChatPromptTemplate\n",
    "import operator\n",
    "\n",
    "\n",
    "MAX_ITERATIONS = 4\n",
    "\n",
    "class Tool(TypedDict):\n",
    "\ttool_name: str\n",
    "\tinput: str\n",
    "\n",
    "class Guidance(TypedDict):\n",
    "\tguidance: str\n",
    "\ttool_list: List[Tool]\n",
    "\n",
    "class Step(TypedDict):\n",
    "\tstep: str\n",
    "\terror_prone_points: str\n",
    "\tcot_message: str\n",
    "\n",
    "class State(TypedDict):\n",
    "\titeration: int\n",
    "\tquestion: str\n",
    "\tstep: List[Step]\n",
    "\ttool_execution_list: Annotated[List[Tuple[str, str, str]], operator.add]\n",
    "\tfinal_answer: str\n",
    "\t"
   ],
   "id": "3bcc5e3fc97a256c",
   "outputs": [],
   "execution_count": 10
  },
  {
   "metadata": {
    "ExecuteTime": {
     "end_time": "2024-11-14T07:28:19.424063Z",
     "start_time": "2024-11-14T07:28:19.357655Z"
    }
   },
   "cell_type": "code",
   "source": [
    "plan_prompt = ChatPromptTemplate.from_messages(\n",
    "    [\n",
    "        (\n",
    "            \"system\",\n",
    "            \"\"\"Given a question, come up with an overall plan of the problem solving process. The plan you come up with should stay in line with the Chain of Thought. Your response should follow the format \"step: <description of the step>\".\n",
    "\n",
    "For example: \n",
    "step: <description of the step> \n",
    "step: <description of the step> \n",
    "...(repeat if necessary)\n",
    "\"\"\",\n",
    "        ),\n",
    "        (\"placeholder\", \"{messages}\"),\n",
    "    ]\n",
    ")\n",
    "\n",
    "plan = plan_prompt | ChatOpenAI(\n",
    "    model=model, temperature=0, top_p=0.95, n=1, base_url=\"https://api.chsdw.top/v1\"\n",
    ")\n",
    "\n",
    "\t\n",
    "async def plan_step(state: State):\n",
    "\tassert state[\"question\"] is not None\n",
    "\tplan_message = state[\"question\"]\n",
    "\ttry:\n",
    "\t\tplan_response = await plan.ainvoke({\"messages\": [plan_message]})\n",
    "\texcept Exception as e:\n",
    "\t\tprint(e)\n",
    "\t\treturn {\"cot_messages\": []}\n",
    "\t\n",
    "\tstep_list = re.findall(r'step: (.*?)\\n', plan_response.content)\n",
    "\tstep_list = [{\"step\": step, \"error_prone_points\": [], \"cot_message\": None} for step in step_list]\n",
    "\treturn {\n",
    "\t\t\"step\": step_list,\n",
    "\t}"
   ],
   "id": "3fb3928ef49c64c4",
   "outputs": [],
   "execution_count": 11
  },
  {
   "metadata": {
    "ExecuteTime": {
     "end_time": "2024-11-14T07:28:19.495472Z",
     "start_time": "2024-11-14T07:28:19.434103Z"
    }
   },
   "cell_type": "code",
   "source": [
    "error_prone_identification_prompt = ChatPromptTemplate.from_messages(\n",
    "\t[\n",
    "\t\t(\n",
    "\t\t\t\"system\",\n",
    "\t\t\t\"\"\"Based on the overall plan, identify all the error prone points in the problem solving process of each step. Remember that there may be multiple error-prone areas in each step, and you should list them all.\n",
    "\n",
    "Your response should follow the format:\n",
    "step: <description of the step>\n",
    "point: <reason>\n",
    "\n",
    "step: <description of the step>\n",
    "point: <reason>\n",
    "\n",
    "...\"\"\"\n",
    "\t\t),\n",
    "        (\"placeholder\", \"{messages}\"),\n",
    "\t]\n",
    ")\n",
    "\n",
    "error_prone_identification = error_prone_identification_prompt | ChatOpenAI(\n",
    "    model=\"gpt-4o-mini-2024-07-18\", temperature=0, top_p=0.95, n=1, base_url=\"https://api.chsdw.top/v1\"\n",
    ")\n",
    "\n",
    "async def error_prone_identification_step(state: State):\n",
    "\tassert state[\"step\"] is not None\n",
    "\tstep_list = \"\\n\".join([f\"step: {step[\"step\"]}\" for step in state[\"step\"]])\n",
    "\ttry:\n",
    "\t\terror_prone_identification_response = await error_prone_identification.ainvoke({\"messages\": [step_list]})\n",
    "\texcept Exception as e:\n",
    "\t\tprint(e)\n",
    "\t\treturn {\"cot_message\": []}\n",
    "\terror_prone_points_list = error_prone_identification_response.content.split(\"step:\")[1:]\n",
    "\terror_prone_points_list\t= [re.findall(r'point: (.*?)\\n', error_prone_point) for error_prone_point in error_prone_points_list]\n",
    "\tstep_list = [\n",
    "\t\t{**step, \"error_prone_points\": error_prone_points}  # 新字典，包含更新\n",
    "\t\tfor step, error_prone_points in zip(state[\"step\"], error_prone_points_list)\n",
    "\t]\n",
    "\treturn {\n",
    "\t\t\"step\": step_list\n",
    "\t}"
   ],
   "id": "7a374e3829602c25",
   "outputs": [],
   "execution_count": 12
  },
  {
   "metadata": {
    "ExecuteTime": {
     "end_time": "2024-11-14T07:28:19.565287Z",
     "start_time": "2024-11-14T07:28:19.503798Z"
    }
   },
   "cell_type": "code",
   "source": [
    "guide_prompt = ChatPromptTemplate.from_messages(\n",
    "    [\n",
    "        (\n",
    "            \"system\",\n",
    "            f\"\"\"Regarding current step and the error-prone points, choose the appropriate tools to help you complete current step. You should always use error-prone points as your guiding principles to guide subsequent behavior. Before providing the selected tools and corresponding inputs, you should fully understand the functions of each tool and their specific requirements for the input content. The tool name must accurately match the existing tool (including characters such as uppercase and lowercase, spaces, etc.). Remember that there may be multiple tools that meet the requirements, and there are also some tools that are not suitable for the current step. You need to truly understand the function of each tool and select the one that fits the current step. Avoid selecting tools that are obviously unsuitable.\n",
    "\n",
    "You have the following tool set: \n",
    "{tool_description}\n",
    "Tool name should be enclosed in angle brackets. Tool input should be surrounded by square brackets. Your response should follow the following format:\n",
    "\n",
    "tool: <tool_name>[input]\n",
    "...(repeat if necessary)\n",
    "\"\"\",\n",
    "        ),\n",
    "        (\"placeholder\", \"{messages}\"),\n",
    "    ]\n",
    ")\n",
    "\n",
    "guide = guide_prompt | ChatOpenAI(\n",
    "    model=model, temperature=0, top_p=0.95, n=1, base_url=\"https://api.chsdw.top/v1\"\n",
    ")\n",
    "\n",
    "async def tool_step(state: State):\n",
    "\tstep_list = state[\"step\"]\n",
    "\tfirst_none_index = next((i for i, step in enumerate(step_list) if step[\"cot_message\"] is None), None)\n",
    "\tpast_steps = \"\\n\".join([f\"step: {step[\"step\"]}\\nresult: {step[\"cot_message\"]}\" for step in step_list[:first_none_index]])\n",
    "\ttry:\n",
    "\t\tselected_tools = await guide.ainvoke({\"messages\": [f\"{past_steps}\\ncurrent step: \" + step_list[first_none_index][\"step\"] + \"\\npoint: \" + \"\\npoint: \".join(step_list[first_none_index][\"error_prone_points\"])]})\n",
    "\t\tprint(selected_tools.content)\n",
    "\texcept Exception as e:\n",
    "\t\tprint(e)\n",
    "\t\t\n",
    "\ttool_execution_list = re.findall(r'tool:\\s*<(\\w+)>\\[(.*?)\\]', selected_tools.content)\n",
    "\tasync def tool_invoke(tool_name: str, input: str) -> tuple:\n",
    "\t\ttry:\n",
    "\t\t\tresult = tool_set[tool_name].run(input)\n",
    "\t\texcept Exception as e:\n",
    "\t\t\treturn tool_name, input, str(e)\n",
    "\t\treturn tool_name, input, result\n",
    "\t\n",
    "\ttool_execution_list = await asyncio.gather(*(tool_invoke(tool_name, input) for tool_name, input in tool_execution_list))\n",
    "\tstep_list[first_none_index].update({\"tool_results\": tool_execution_list})\n",
    "\treturn {\"step\": step_list}"
   ],
   "id": "85e5ee0f48aa16eb",
   "outputs": [],
   "execution_count": 13
  },
  {
   "metadata": {
    "ExecuteTime": {
     "end_time": "2024-11-14T07:28:19.635602Z",
     "start_time": "2024-11-14T07:28:19.573598Z"
    }
   },
   "cell_type": "code",
   "source": [
    "cot_prompt = ChatPromptTemplate.from_messages(\n",
    "    [\n",
    "        (\n",
    "            \"system\",\n",
    "            \"\"\"Based on the error prone points and tool result, provide your answer to the current step. Remember that all the tool result are reliable. Your answer should be as concise as possible, and your response should not contain any additional thinking process.\n",
    "\"\"\",\n",
    "        ),\n",
    "        (\"placeholder\", \"{messages}\"),\n",
    "    ]\n",
    ")\n",
    "\n",
    "cot_revise = cot_prompt | ChatOpenAI(\n",
    "\tmodel=model, temperature=0, top_p=0.95, n=1, base_url=\"https://api.chsdw.top/v1\"\n",
    ")\n",
    "\n",
    "async def cot_step(state: State):\n",
    "\tstep_list = state[\"step\"]\n",
    "\tfirst_none_index = next((i for i, step in enumerate(step_list) if step[\"cot_message\"] is None), None)\n",
    "\tstep_text = f\"step: {step_list[first_none_index]['step']}\\n\"\n",
    "\terror_prone_points = \"\\n\".join([f\"point: {point}\" for point in step_list[first_none_index][\"error_prone_points\"]])\n",
    "\ttool_execution_list = \"\\n\\n\\n\".join([f\"##tool: {tool_name}[{input}]\\nresult:{result}\" for tool_name, input, result in step_list[first_none_index][\"tool_results\"]])\n",
    "\tmessage = f\"{step_text}{error_prone_points}\\n\\n{tool_execution_list}\"\n",
    "\ttry:\n",
    "\t\tcot_response = await cot_revise.ainvoke({\"messages\": [message]})\n",
    "\texcept Exception as e:\n",
    "\t\tprint(e)\n",
    "\t\n",
    "\tstep_list[first_none_index].update({\"cot_message\": cot_response.content})\n",
    "\treturn {\"step\": step_list}"
   ],
   "id": "5588d96cc7322af7",
   "outputs": [],
   "execution_count": 14
  },
  {
   "metadata": {
    "ExecuteTime": {
     "end_time": "2024-11-14T07:28:19.648222Z",
     "start_time": "2024-11-14T07:28:19.645760Z"
    }
   },
   "cell_type": "code",
   "source": "print(tool_description)",
   "id": "21e8506de0b129f6",
   "outputs": [
    {
     "name": "stdout",
     "output_type": "stream",
     "text": [
      "[wiki_data] - A wrapper around Wikidata. Useful for when you need to answer general questions about people, places, companies, facts, historical events, or other subjects. Input should be the exact name of the item you want information about or a Wikidata QID.\n",
      "[google_search] - A search engine. useful for when you need to answer questions about current events. Input should be a search query. \n",
      "[bing_search] - A search engine. useful for when you need to answer questions about current events. Input should be a search query. \n",
      "[calculator] - Useful when you need to calculate the value of a mathematical expression, including basic arithmetic operations. Use this tool for math operations. Input should strictly follow the numuxpr syntax.\n",
      "[python_interpreter] - Useful when you need to execute a code and get the value of the variables. Use this tool for code execution.This tool will return the code execution result and final value of the variable you want to get.\n",
      "[wikipedia] - A wrapper around Wikipedia. Useful for when you need to answer general questions about people, places, companies, facts, historical events, or other subjects. Input should be a search query.\n",
      "[google_knowledge_graph] - This tool searches for entities in the Google Knowledge Graph. It provides information about people, places, things, and concepts. Useful when you need to get information about a specific entity. Input should be an entity name.\n"
     ]
    }
   ],
   "execution_count": 15
  },
  {
   "metadata": {
    "ExecuteTime": {
     "end_time": "2024-11-14T07:28:19.721560Z",
     "start_time": "2024-11-14T07:28:19.659608Z"
    }
   },
   "cell_type": "code",
   "source": [
    "async def should_final_answer(state: State):\n",
    "\tif state[\"step\"][-1][\"cot_message\"] is not None:\n",
    "\t\treturn \"get_final_answer\"\n",
    "\telse:\n",
    "\t\treturn \"tool\"\n",
    "\n",
    "final_answer_prompt = ChatPromptTemplate.from_messages(\n",
    "    [\n",
    "        (\n",
    "            \"system\",\n",
    "            \"\"\"Based on the following question and steps, answer the question. Remember your answer should be as concise as possible, and your response should not contain any additional thinking process.\n",
    "\"\"\",\n",
    "        ),\n",
    "        (\"placeholder\", \"{messages}\"),\n",
    "    ]\n",
    ")\n",
    "\n",
    "get_final_answer = final_answer_prompt | ChatOpenAI(\n",
    "\tmodel=model, temperature=0, top_p=0.95, n=1, base_url=\"https://api.chsdw.top/v1\"\n",
    ")\n",
    "\n",
    "async def final_answer_step(state: State):\n",
    "\tquestion = state[\"question\"]\n",
    "\tsteps_text = \"\\n\\n\".join([f\"step: {step['step']}\\nresult: {step['cot_message']}\" for step in state[\"step\"]])\n",
    "\ttry:\n",
    "\t\tfinal_answer = await get_final_answer.ainvoke({\"messages\": [f\"{question}\\n\\n{steps_text}\\n\\n\\n{question}\"]})\n",
    "\texcept Exception as e:\n",
    "\t\tprint(e)\n",
    "\t\treturn {\"final_answer\": \"None\"}\n",
    "\t\n",
    "\treturn {\"final_answer\": final_answer.content}"
   ],
   "id": "b47c7e9320c41d64",
   "outputs": [],
   "execution_count": 16
  },
  {
   "metadata": {
    "ExecuteTime": {
     "end_time": "2024-11-14T07:28:19.739747Z",
     "start_time": "2024-11-14T07:28:19.731379Z"
    }
   },
   "cell_type": "code",
   "source": [
    "from langgraph.graph import StateGraph, START\n",
    "\n",
    "workflow = StateGraph(State)\n",
    "\n",
    "# Add the plan node\n",
    "workflow.add_node(\"plan\", plan_step)\n",
    "\n",
    "# Add the error identification node\n",
    "workflow.add_node(\"error_identification\", error_prone_identification_step)\n",
    "\n",
    "# Add a tool execution node\n",
    "workflow.add_node(\"tool\", tool_step)\n",
    "\n",
    "# Add a revise node\n",
    "workflow.add_node(\"cot\", cot_step)\n",
    "\n",
    "workflow.add_node(\"get_final_answer\", final_answer_step)\n",
    "\n",
    "workflow.add_edge(START, \"plan\")\n",
    "\n",
    "# From plan we go to error identification\n",
    "workflow.add_edge(\"plan\", \"error_identification\")\n",
    "\n",
    "workflow.add_edge(\"error_identification\", \"tool\")\n",
    "\n",
    "workflow.add_edge(\"tool\", \"cot\")\n",
    "\n",
    "workflow.add_conditional_edges(\n",
    "\t\"cot\",\n",
    "\tshould_final_answer,\n",
    "\t[\"get_final_answer\", \"tool\"],\n",
    ")\n",
    "\n",
    "workflow.add_edge(\"get_final_answer\", END)\n",
    "\n",
    "# Finally, we compile it!\n",
    "# This compiles it into a LangChain Runnable,\n",
    "# meaning you can use it as you would any other runnable\n",
    "app = workflow.compile()"
   ],
   "id": "fa42fad27b5872b4",
   "outputs": [],
   "execution_count": 17
  },
  {
   "metadata": {
    "ExecuteTime": {
     "end_time": "2024-11-14T07:28:35.676286Z",
     "start_time": "2024-11-14T07:28:19.749036Z"
    }
   },
   "cell_type": "code",
   "source": [
    "result = await app.ainvoke({\"question\": dataset[1][\"question\"], \"final_answer\": None})\n",
    "    # print(s)\n",
    "    # print(\"---\")"
   ],
   "id": "a4b063f976c09d68",
   "outputs": [
    {
     "name": "stdout",
     "output_type": "stream",
     "text": [
      "tool: <google_search>[Kiss and Tell film Corliss Archer actress]\n",
      "tool: <wiki_data>[Shirley Temple]  \n",
      "tool: <google_search>[Shirley Temple government positions]  \n",
      "tool: <bing_search>[Shirley Temple biography and career]  \n",
      "tool: <google_search>[Shirley Temple government positions]  \n",
      "tool: <wikipedia>[Shirley Temple]  \n",
      "tool: <wiki_data>[Shirley Temple]  \n",
      "tool: <google_knowledge_graph>[Shirley Temple]  \n"
     ]
    }
   ],
   "execution_count": 18
  },
  {
   "metadata": {
    "ExecuteTime": {
     "end_time": "2024-11-14T07:28:37.102630Z",
     "start_time": "2024-11-14T07:28:35.694392Z"
    }
   },
   "cell_type": "code",
   "source": [
    "from IPython.display import Image, display\n",
    "\n",
    "display(Image(app.get_graph(xray=True).draw_mermaid_png()))"
   ],
   "id": "52df1dbd45a4eb2f",
   "outputs": [
    {
     "data": {
      "image/jpeg": "[encoded data removed]",
      "text/plain": [
       "<IPython.core.display.Image object>"
      ]
     },
     "metadata": {},
     "output_type": "display_data"
    }
   ],
   "execution_count": 19
  },
  {
   "metadata": {
    "ExecuteTime": {
     "end_time": "2024-11-14T07:28:37.137132Z",
     "start_time": "2024-11-14T07:28:37.130123Z"
    }
   },
   "cell_type": "code",
   "source": [
    "from tqdm.asyncio import tqdm, tqdm_asyncio\n",
    "import nest_asyncio\n",
    "import json\n",
    "\n",
    "nest_asyncio.apply()\n",
    "results = []\n",
    "async def self_improve_inference() -> None:\n",
    "\n",
    "\tif os.path.exists(save_results_path):\n",
    "\t    with open(save_results_path, 'r') as file:\n",
    "\t        for line in file:\n",
    "\t            results.append(json.loads(line))\n",
    "\telse:\n",
    "\t\tfolder_path = os.path.dirname(save_results_path)\n",
    "\t\tos.makedirs(folder_path, exist_ok=True)\n",
    "\t\n",
    "\tfor idx in tqdm(range(len(results), 100, batch_size)):\n",
    "\t\tbatch = dataset.select(range(idx, min(idx+batch_size, dataset.num_rows)))\n",
    "\t\tfor i in tqdm(range(batch_size)):\n",
    "\t\t\tresults.append({**(await app.ainvoke({**batch[i], \"final_answer\": None})), **batch[i]})\n",
    "\t\twith open(save_results_path, 'w') as file:\n",
    "\t\t\tfor result in results:\n",
    "\t\t\t\tfile.write(json.dumps(result) + \"\\n\")\n"
   ],
   "id": "f438256f713a3daf",
   "outputs": [],
   "execution_count": 20
  },
  {
   "metadata": {},
   "cell_type": "code",
   "source": "await self_improve_inference()",
   "id": "cd34229ecfcd6d61",
   "outputs": [],
   "execution_count": null
  },
  {
   "metadata": {
    "ExecuteTime": {
     "end_time": "2024-11-14T09:16:50.181728Z",
     "start_time": "2024-11-14T09:16:50.173786Z"
    }
   },
   "cell_type": "code",
   "source": [
    "with open(save_results_path, 'w') as file:\n",
    "\tfor result in results:\n",
    "\t\tfile.write(json.dumps({\"question\":result[\"question\"], \"answer\":result[\"answer\"], \"prediction\":result[\"final_answer\"]}) + \"\\n\")\n"
   ],
   "id": "35666a6afa6a12b5",
   "outputs": [],
   "execution_count": 27
  }
 ],
 "metadata": {
  "kernelspec": {
   "display_name": "Python 3",
   "language": "python",
   "name": "python3"
  },
  "language_info": {
   "codemirror_mode": {
    "name": "ipython",
    "version": 2
   },
   "file_extension": ".py",
   "mimetype": "text/x-python",
   "name": "python",
   "nbconvert_exporter": "python",
   "pygments_lexer": "ipython2",
   "version": "2.7.6"
  }
 },
 "nbformat": 4,
 "nbformat_minor": 5
}
