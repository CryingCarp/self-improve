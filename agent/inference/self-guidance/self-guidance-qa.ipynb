{
 "cells": [
  {
   "metadata": {
    "collapsed": true,
    "ExecuteTime": {
     "end_time": "2024-12-15T14:49:01.955798Z",
     "start_time": "2024-12-15T14:48:59.163728Z"
    }
   },
   "cell_type": "code",
   "source": [
    "\n",
    "\n",
    "from dotenv import load_dotenv, find_dotenv\n",
    "from langchain_openai import ChatOpenAI\n",
    "\n",
    "from agent.utils.loader import load_processed_data\n",
    "\n",
    "_ = load_dotenv(find_dotenv())"
   ],
   "id": "initial_id",
   "outputs": [],
   "execution_count": 1
  },
  {
   "metadata": {
    "ExecuteTime": {
     "end_time": "2024-12-15T09:35:42.270350Z",
     "start_time": "2024-12-15T09:35:40.743209Z"
    }
   },
   "cell_type": "code",
   "source": [
    "meta_info = {\n",
    "\t\"dataset_name\": 'hotpot_qa',\n",
    "\t\"mode\": \"self-improve\",\n",
    "\t\"base_mode\": \"cot\",\n",
    "\t\"model\": \"gpt-4o-mini-2024-07-18\",\n",
    "\t\"num_samples\": -1,\n",
    "\t\"top_p\": 0.95,\n",
    "\t\"temperature\": 0,\n",
    "\t\"seed\": 42,\n",
    "\t\"batch_size\": 100\n",
    "}\n",
    "assert meta_info[\"mode\"] == \"self-improve\"\n",
    "assert meta_info[\"dataset_name\"] in [\"hotpot_qa\", \"trivia_qa\", \"ambig_qa\"], \"Invalid dataset name\"\n",
    "\n",
    "if meta_info[\"base_mode\"] == \"cot\":\n",
    "\tprocessed_data_path = f\"../../../output/inference/{meta_info[\"model\"]}/{meta_info[\"dataset_name\"]}/cot/num_samples_1000_top_p_0.95_temperature_0_seed_42.jsonl\"\n",
    "else:\n",
    "\tprocessed_data_path = f\"../../../data/processed_data/{meta_info[\"dataset_name\"]}.jsonl\"\n",
    "\n",
    "dataset = load_processed_data(dataset_name=meta_info[\"dataset_name\"], file_path=processed_data_path)\n",
    "model = ChatOpenAI(\n",
    "\tmodel_name=meta_info[\"model\"],\n",
    "\ttop_p=meta_info[\"top_p\"],\n",
    "\ttemperature=meta_info[\"temperature\"],\n",
    "\tseed=meta_info[\"seed\"],\n",
    "\topenai_api_base=\"https://api.chsdw.top/v1\"\n",
    ")\n",
    "\n",
    "if meta_info[\"num_samples\"] > 0:\n",
    "\tdataset = dataset.select(range(meta_info[\"num_samples\"]))\n",
    "print(dataset[10])\n",
    "\n"
   ],
   "id": "899a728a48f65d10",
   "outputs": [
    {
     "data": {
      "text/plain": [
       "Generating train split: 0 examples [00:00, ? examples/s]"
      ],
      "application/vnd.jupyter.widget-view+json": {
       "version_major": 2,
       "version_minor": 0,
       "model_id": "3c394adfc74e4d369274517521322de1"
      }
     },
     "metadata": {},
     "output_type": "display_data"
    },
    {
     "name": "stdout",
     "output_type": "stream",
     "text": [
      "{'context': '', 'question': 'What is the name of the fight song of the university whose main campus is in Lawrence, Kansas and whose branch campuses are in the Kansas City metropolitan area?', 'answer': ['Kansas Song'], 'generation': 'A: Let\\'s think step by step. The university with a main campus in Lawrence, Kansas, and branch campuses in the Kansas City metropolitan area is the University of Kansas. The fight song of the University of Kansas is \"I\\'m a Jayhawk.\" FINAL ANSWER: \"I\\'m a Jayhawk.\"', 'prediction': '\"I\\'m a Jayhawk.\"'}\n"
     ]
    }
   ],
   "execution_count": 4
  },
  {
   "metadata": {
    "ExecuteTime": {
     "end_time": "2024-12-15T09:22:42.926176Z",
     "start_time": "2024-12-15T09:22:42.916146Z"
    }
   },
   "cell_type": "code",
   "source": [
    "\n",
    "from typing_extensions import TypedDict\n",
    "\n",
    "\n",
    "class State(TypedDict):\n",
    "\tquestion: str\n",
    "\tguidance: str\n",
    "\tinitial_answer: str\n",
    "\tprediction: str\n",
    "\tanswer: str"
   ],
   "id": "5e69db7d961b70ae",
   "outputs": [],
   "execution_count": 8
  },
  {
   "metadata": {
    "ExecuteTime": {
     "end_time": "2024-12-15T09:22:44.805111Z",
     "start_time": "2024-12-15T09:22:44.734122Z"
    }
   },
   "cell_type": "code",
   "source": [
    "from langchain_core.prompts import ChatPromptTemplate\n",
    "\n",
    "guidance_prompt = ChatPromptTemplate.from_messages(\n",
    "\t[\n",
    "\t\t(\n",
    "\t\t\t\"system\",\n",
    "\t\t\t\"You are a question planner and error prone points identifier. Given a question or problem, your job is to come up with a step by step plan, and you should also identify the most error-prone points for each step, following them closely behind each step. The plan and the error prone points will then be used to guide the selection of subsequent tools and the corresponding tool inputs. The tool results should always be considered as reliable. Do not add any superfluous steps. Make sure that each step has all the information needed - do not skip steps. You should focus on the logic of how to solve the problem, rather than actually solving it.\"\n",
    "\t\t),\n",
    "\t\t(\n",
    "\t\t\t\"user\",\n",
    "\t\t\t\"Question: {question}\"\n",
    "\t\t)\n",
    "\t])\n",
    "guidance_generator = guidance_prompt | model\n",
    "\n",
    "\n",
    "async def guidance_step(state: State) -> State:\n",
    "\tassert state[\"question\"] is not None, \"Question is required\"\n",
    "\tquestion = state[\"question\"]\n",
    "\tguidance = await guidance_generator(question=question)\n",
    "\tstate[\"guidance\"] = guidance\n",
    "\treturn state"
   ],
   "id": "bb7f5744be938c0f",
   "outputs": [
    {
     "ename": "NameError",
     "evalue": "name 'model' is not defined",
     "output_type": "error",
     "traceback": [
      "\u001B[0;31m---------------------------------------------------------------------------\u001B[0m",
      "\u001B[0;31mNameError\u001B[0m                                 Traceback (most recent call last)",
      "Cell \u001B[0;32mIn[9], line 13\u001B[0m\n\u001B[1;32m      1\u001B[0m \u001B[38;5;28;01mfrom\u001B[39;00m \u001B[38;5;21;01mlangchain_core\u001B[39;00m\u001B[38;5;21;01m.\u001B[39;00m\u001B[38;5;21;01mprompts\u001B[39;00m \u001B[38;5;28;01mimport\u001B[39;00m ChatPromptTemplate\n\u001B[1;32m      2\u001B[0m guidance_prompt \u001B[38;5;241m=\u001B[39m ChatPromptTemplate\u001B[38;5;241m.\u001B[39mfrom_messages(\n\u001B[1;32m      3\u001B[0m \t[\n\u001B[1;32m      4\u001B[0m \t\t(\n\u001B[0;32m   (...)\u001B[0m\n\u001B[1;32m     11\u001B[0m \t\t)\n\u001B[1;32m     12\u001B[0m \t])\n\u001B[0;32m---> 13\u001B[0m guidance_generator \u001B[38;5;241m=\u001B[39m guidance_prompt \u001B[38;5;241m|\u001B[39m \u001B[43mmodel\u001B[49m\n\u001B[1;32m     15\u001B[0m \u001B[38;5;28;01masync\u001B[39;00m \u001B[38;5;28;01mdef\u001B[39;00m \u001B[38;5;21mguidance_step\u001B[39m(state: State) \u001B[38;5;241m-\u001B[39m\u001B[38;5;241m>\u001B[39m State:\n\u001B[1;32m     16\u001B[0m \t\u001B[38;5;28;01massert\u001B[39;00m state[\u001B[38;5;124m\"\u001B[39m\u001B[38;5;124mquestion\u001B[39m\u001B[38;5;124m\"\u001B[39m] \u001B[38;5;129;01mis\u001B[39;00m \u001B[38;5;129;01mnot\u001B[39;00m \u001B[38;5;28;01mNone\u001B[39;00m, \u001B[38;5;124m\"\u001B[39m\u001B[38;5;124mQuestion is required\u001B[39m\u001B[38;5;124m\"\u001B[39m\n",
      "\u001B[0;31mNameError\u001B[0m: name 'model' is not defined"
     ]
    }
   ],
   "execution_count": 9
  },
  {
   "metadata": {
    "ExecuteTime": {
     "end_time": "2024-12-15T14:01:20.072898Z",
     "start_time": "2024-12-15T14:01:20.010566Z"
    }
   },
   "cell_type": "code",
   "source": [
    "from langchain_community.utilities.wikidata import WikidataAPIWrapper\n",
    "from langgraph.prebuilt import create_react_agent\n",
    "from agent.utils.tools import GoogleSearchTool, GoogleKnowledgeGraphTool, WikidataTool, WikipediaTool\n",
    "\n",
    "google_search = GoogleSearchTool()\n",
    "google_knowledge_graph = GoogleKnowledgeGraphTool()\n",
    "wikidata = WikidataTool(api_wrapper=WikidataAPIWrapper())\n",
    "wikipedia = WikipediaTool()\n",
    "tools = [google_search, google_knowledge_graph, wikipedia, wikidata]\n",
    "\n",
    "critique_prompt = \"You are a reactive agent. Given a question or problem, your job is to select the most appropriate tool to answer the question or solve the problem. You should consider the guidance provided by the question planner and error prone points identifier, and the tool results are reliable.\"\n",
    "\n",
    "critique_agent = create_react_agent(tools=tools, model=model, state_modifier=critique_prompt)"
   ],
   "id": "495ca8c028baba27",
   "outputs": [],
   "execution_count": 11
  },
  {
   "metadata": {
    "ExecuteTime": {
     "end_time": "2024-12-15T14:03:49.292266Z",
     "start_time": "2024-12-15T14:01:21.116803Z"
    }
   },
   "cell_type": "code",
   "source": [
    "inputs = {\"messages\": [\n",
    "\t(\"user\", \"What government position was held by the woman who portrayed Corliss Archer in the film Kiss and Tell?\")]}\n",
    "result = critique_agent.invoke(inputs, stream_mode=\"values\")\n",
    "print(result)"
   ],
   "id": "35d4c14ab263d503",
   "outputs": [
    {
     "name": "stdout",
     "output_type": "stream",
     "text": [
      "{'messages': [HumanMessage(content='What government position was held by the woman who portrayed Corliss Archer in the film Kiss and Tell?', additional_kwargs={}, response_metadata={}, id='20c58d19-f24b-40f2-b182-66ead393cf20'), AIMessage(content='', additional_kwargs={'tool_calls': [{'id': 'call_oG7n4z3leFrItgUsQzrrvrBG', 'function': {'arguments': '{\"query\":\"Corliss Archer Kiss and Tell\"}', 'name': 'wikipedia'}, 'type': 'function'}], 'refusal': None}, response_metadata={'token_usage': {'completion_tokens': 19, 'prompt_tokens': 327, 'total_tokens': 346, 'completion_tokens_details': None, 'prompt_tokens_details': None}, 'model_name': 'gpt-4o-mini', 'system_fingerprint': 'fp_04751d0b65', 'finish_reason': 'tool_calls', 'logprobs': None}, id='run-7fd68336-a969-4632-9fec-edfbea8a3ea5-0', tool_calls=[{'name': 'wikipedia', 'args': {'query': 'Corliss Archer Kiss and Tell'}, 'id': 'call_oG7n4z3leFrItgUsQzrrvrBG', 'type': 'tool_call'}], usage_metadata={'input_tokens': 327, 'output_tokens': 19, 'total_tokens': 346, 'input_token_details': {}, 'output_token_details': {}}), ToolMessage(content=\"Page: A Kiss for Corliss\\nSummary: A Kiss for Corliss (retitled Almost a Bride before its release) is a 1949 American comedy film directed by Richard Wallace, written by Howard Dimsdale, and starring David Niven and Shirley Temple. The film, which was the last for both Wallace and Temple, was released on November 25, 1949, by United Artists. It is a sequel to the 1945 film Kiss and Tell, also directed by Wallace and starring Temple.\\n\\n\\n\\nPage: Kiss and Tell (1945 film)\\nSummary: Kiss and Tell is a 1945 American comedy film starring then 17-year-old Shirley Temple as Corliss Archer. In the film, two teenage girls cause their respective parents much concern when they start to become interested in boys. The parents' bickering about which girl is the worse influence causes more problems than it solves.\\nThe movie was based on the Broadway play Kiss and Tell, which was based on the Corliss Archer short stories. The stories, play and movie were all written by F. Hugh Herbert. A sequel film, A Kiss for Corliss, was released in 1949 and also starred Temple, but was not written by Herbert.\\nThe $400,000 paid to George Abbott and Herbert for the play's film rights was a then-record in Hollywood.\", name='wikipedia', id='95a1a6b5-d6a1-45b0-afb2-4d872d611a45', tool_call_id='call_oG7n4z3leFrItgUsQzrrvrBG'), AIMessage(content='', additional_kwargs={'tool_calls': [{'id': 'call_G6oBDinX1OOqD3pH6fSDiSAC', 'function': {'arguments': '{\"query\":\"Shirley Temple\"}', 'name': 'google_knowledge_graph'}, 'type': 'function'}], 'refusal': None}, response_metadata={'token_usage': {'completion_tokens': 19, 'prompt_tokens': 631, 'total_tokens': 650, 'completion_tokens_details': None, 'prompt_tokens_details': None}, 'model_name': 'gpt-4o-mini', 'system_fingerprint': 'fp_04751d0b65', 'finish_reason': 'tool_calls', 'logprobs': None}, id='run-10a25490-0ffa-43c9-b23d-6d565e6e9cb0-0', tool_calls=[{'name': 'google_knowledge_graph', 'args': {'query': 'Shirley Temple'}, 'id': 'call_G6oBDinX1OOqD3pH6fSDiSAC', 'type': 'tool_call'}], usage_metadata={'input_tokens': 631, 'output_tokens': 19, 'total_tokens': 650, 'input_token_details': {}, 'output_token_details': {}}), ToolMessage(content='[{\"resultScore\": 9182.76953125, \"@type\": \"EntitySearchResult\", \"result\": {\"name\": \"Shirley Temple\", \"@id\": \"kg:/m/03d9v8\", \"image\": {\"contentUrl\": \"https://encrypted-tbn1.gstatic.com/images?q=tbn:ANd9GcSM5Rd2JXXs5lOeB-C3Dl4MO7TwiA9DzLbkpWkr2HiaORBpQNV0\", \"url\": \"https://commons.wikimedia.org/wiki/File:Shirleytemple.jpg\"}, \"description\": \"Former Chief of Protocol of the United States\", \"url\": \"http://www.shirleytemple.com/\", \"@type\": [\"Person\", \"Thing\"]}}, {\"resultScore\": 1949.893798828125, \"@type\": \"EntitySearchResult\", \"result\": {\"name\": \"Shirley Temple\", \"@id\": \"kg:/m/024fdj\", \"image\": {\"contentUrl\": \"https://encrypted-tbn2.gstatic.com/images?q=tbn:ANd9GcRv5hGR6WuK35YxedTZSRsQUQVyh6-kS6ltORgmMm5gLmiAC9Q2\", \"url\": \"https://en.wikipedia.org/wiki/Shirley_Temple_(drink)\"}, \"detailedDescription\": {\"url\": \"https://en.wikipedia.org/wiki/Shirley_Temple_(drink)\", \"articleBody\": \"A Shirley Temple is a non-alcoholic mixed drink traditionally made with lemon-lime soda or ginger ale and a splash of grenadine, and garnished with a maraschino cherry. \", \"license\": \"https://en.wikipedia.org/wiki/Wikipedia:Text_of_Creative_Commons_Attribution-ShareAlike_3.0_Unported_License\"}, \"@type\": [\"Thing\"], \"description\": \"Drink\"}}, {\"@type\": \"EntitySearchResult\", \"result\": {\"description\": \"Drink\", \"@id\": \"kg:/g/11lsh09klw\", \"@type\": [\"Thing\"], \"name\": \"Dirty Shirley cocktail\"}, \"resultScore\": 1521.521728515625}]', name='google_knowledge_graph', id='18b773a2-7beb-4723-b88a-12a0f9b0b7dc', tool_call_id='call_G6oBDinX1OOqD3pH6fSDiSAC'), AIMessage(content='The woman who portrayed Corliss Archer in the film \"Kiss and Tell\" is Shirley Temple. Later in her life, she held the government position of Chief of Protocol of the United States.', additional_kwargs={'refusal': None}, response_metadata={'token_usage': {'completion_tokens': 41, 'prompt_tokens': 1124, 'total_tokens': 1165, 'completion_tokens_details': None, 'prompt_tokens_details': None}, 'model_name': 'gpt-4o-mini', 'system_fingerprint': 'fp_04751d0b65', 'finish_reason': 'stop', 'logprobs': None}, id='run-da1d53e7-c508-42d3-b8fd-e899d8aa61ee-0', usage_metadata={'input_tokens': 1124, 'output_tokens': 41, 'total_tokens': 1165, 'input_token_details': {}, 'output_token_details': {}})]}\n"
     ]
    }
   ],
   "execution_count": 12
  },
  {
   "metadata": {
    "ExecuteTime": {
     "end_time": "2024-12-15T14:33:32.339700Z",
     "start_time": "2024-12-15T14:33:32.330079Z"
    }
   },
   "cell_type": "code",
   "source": "print(result.keys())",
   "id": "39a7af6979b806ef",
   "outputs": [
    {
     "name": "stdout",
     "output_type": "stream",
     "text": [
      "dict_keys(['messages'])\n"
     ]
    }
   ],
   "execution_count": 13
  }
 ],
 "metadata": {
  "kernelspec": {
   "display_name": "Python 3",
   "language": "python",
   "name": "python3"
  },
  "language_info": {
   "codemirror_mode": {
    "name": "ipython",
    "version": 2
   },
   "file_extension": ".py",
   "mimetype": "text/x-python",
   "name": "python",
   "nbconvert_exporter": "python",
   "pygments_lexer": "ipython2",
   "version": "2.7.6"
  }
 },
 "nbformat": 4,
 "nbformat_minor": 5
}
