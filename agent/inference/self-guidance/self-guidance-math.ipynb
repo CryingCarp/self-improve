{
 "cells": [
  {
   "metadata": {
    "collapsed": true,
    "ExecuteTime": {
     "end_time": "2024-12-17T12:55:01.811971Z",
     "start_time": "2024-12-17T12:54:57.736594Z"
    }
   },
   "cell_type": "code",
   "source": [
    "import os\n",
    "import re\n",
    "\n",
    "from dotenv import load_dotenv, find_dotenv\n",
    "from langchain_openai import ChatOpenAI\n",
    "\n",
    "from agent.utils.loader import load_processed_data\n",
    "\n",
    "_ = load_dotenv(find_dotenv())\n",
    "# Optional, add tracing in LangSmith\n",
    "os.environ[\"LANGCHAIN_TRACING_V2\"] = \"false\"\n",
    "os.environ[\"LANGCHAIN_PROJECT\"] = \"self-correct\"\n",
    "os.environ[\"LANGCHAIN_ENDPOINT\"]=\"https://api.smith.langchain.com\""
   ],
   "id": "initial_id",
   "outputs": [],
   "execution_count": 1
  },
  {
   "metadata": {
    "ExecuteTime": {
     "end_time": "2024-12-17T12:55:04.614693Z",
     "start_time": "2024-12-17T12:55:01.821980Z"
    }
   },
   "cell_type": "code",
   "source": [
    "meta_info = {\n",
    "\t\"dataset_name\": 'gsm8k',\n",
    "\t\"mode\": \"self-improve\",\n",
    "\t\"base_mode\": \"pot\",\n",
    "\t\"model\": \"gpt-4o-mini-2024-07-18\",\n",
    "\t\"num_samples\": -1,\n",
    "\t\"top_p\": 0.95,\n",
    "\t\"temperature\": 0,\n",
    "\t\"seed\": 42,\n",
    "\t\"batch_size\": 100\n",
    "}\n",
    "assert meta_info[\"mode\"] == \"self-improve\"\n",
    "assert meta_info[\"dataset_name\"] in [\"gsm8k\", \"math\", \"gsmhard\", \"tabmwp\", \"svamp\"], \"Invalid dataset name\"\n",
    "\n",
    "if meta_info[\"base_mode\"] == \"cot\":\n",
    "\tprocessed_data_path = f\"../../../output/inference/{meta_info['model']}/{meta_info['dataset_name']}/cot/num_samples_1000_top_p_0.95_temperature_0_seed_42.jsonl\"\n",
    "else:\n",
    "\tprocessed_data_path = f\"../../../data/processed_data/{meta_info['dataset_name']}.jsonl\"\n",
    "\n",
    "dataset = load_processed_data(dataset_name=meta_info[\"dataset_name\"], file_path=processed_data_path)\n",
    "if meta_info[\"base_mode\"] == \"cot\":\n",
    "\tdataset = dataset.remove_columns([\"prediction\", 'generation'])\n",
    "model = ChatOpenAI(\n",
    "\tmodel_name=meta_info[\"model\"],\n",
    "\ttop_p=meta_info[\"top_p\"],\n",
    "\ttemperature=meta_info[\"temperature\"],\n",
    "\tseed=meta_info[\"seed\"],\n",
    "\topenai_api_base=\"https://api.chsdw.top/v1\"\n",
    ")\n",
    "\n",
    "\n",
    "\n",
    "if meta_info[\"num_samples\"] > 0:\n",
    "\tdataset = dataset.select(range(meta_info[\"num_samples\"]))\n",
    "print(dataset[10])"
   ],
   "id": "899a728a48f65d10",
   "outputs": [
    {
     "data": {
      "text/plain": [
       "Generating train split: 0 examples [00:00, ? examples/s]"
      ],
      "application/vnd.jupyter.widget-view+json": {
       "version_major": 2,
       "version_minor": 0,
       "model_id": "788fe819f4f1425da083c09aacdd548e"
      }
     },
     "metadata": {},
     "output_type": "display_data"
    },
    {
     "name": "stdout",
     "output_type": "stream",
     "text": [
      "{'context': '', 'question': 'A new program had 60 downloads in the first month. The number of downloads in the second month was three times as many as the downloads in the first month, but then reduced by 30% in the third month. How many downloads did the program have total over the three months?', 'answer': '366'}\n"
     ]
    }
   ],
   "execution_count": 2
  },
  {
   "metadata": {
    "ExecuteTime": {
     "end_time": "2024-12-17T12:55:27.037973Z",
     "start_time": "2024-12-17T12:55:26.944203Z"
    }
   },
   "cell_type": "code",
   "source": [
    "from langgraph.graph import add_messages\n",
    "from langchain_core.messages import BaseMessage\n",
    "from typing import Sequence\n",
    "from typing_extensions import TypedDict, Annotated\n",
    "from langgraph.managed.is_last_step import RemainingSteps\n",
    "\n",
    "\n",
    "class State(TypedDict):\n",
    "\tquestion: str\n",
    "\tguidance: str\n",
    "\tremaining_steps: RemainingSteps\n",
    "\tmessages: Annotated[Sequence[BaseMessage], add_messages]\n",
    "\tinitial_answer: str\n",
    "\tfusion: str\n",
    "\tprediction: str"
   ],
   "id": "5e69db7d961b70ae",
   "outputs": [],
   "execution_count": 3
  },
  {
   "metadata": {
    "ExecuteTime": {
     "end_time": "2024-12-17T12:55:30.434150Z",
     "start_time": "2024-12-17T12:55:30.426351Z"
    }
   },
   "cell_type": "code",
   "source": [
    "from langchain_core.prompts import ChatPromptTemplate\n",
    "\n",
    "guidance_prompt = ChatPromptTemplate.from_messages(\n",
    "\t[\n",
    "\t\t(\n",
    "\t\t\t\"system\",\n",
    "\t\t\t\"You are a question planner and error prone points identifier. Given a question or problem, your job is to come up with a step by step plan, and you should also identify the most error-prone points for each step, following them closely behind each step. The plan and the error prone points will then be used to guide the selection of subsequent tools and the corresponding tool inputs. The tool results should always be considered as reliable. Do not add any superfluous steps. Make sure that each step has all the information needed - do not skip steps. You should focus on the logic of how to solve the problem, rather than actually solving it.\"\n",
    "\t\t),\n",
    "\t\t(\n",
    "\t\t\t\"user\",\n",
    "\t\t\t\"Question: {question}\"\n",
    "\t\t)\n",
    "\t])\n",
    "guidance_generator = guidance_prompt | model\n",
    "\n",
    "\n",
    "async def guidance_node(state: State) -> State:\n",
    "\tassert state[\"question\"] is not None, \"Question is required\"\n",
    "\tquestion:str = state[\"question\"]\n",
    "\tguidance:AIMessage = await guidance_generator.ainvoke(input={\"question\": question})\n",
    "\tstate[\"guidance\"] = guidance.content\n",
    "\treturn state"
   ],
   "id": "bb7f5744be938c0f",
   "outputs": [],
   "execution_count": 4
  },
  {
   "metadata": {
    "ExecuteTime": {
     "end_time": "2024-12-17T12:55:35.046278Z",
     "start_time": "2024-12-17T12:55:32.494936Z"
    }
   },
   "cell_type": "code",
   "source": [
    "from langchain_core.messages import AIMessage\n",
    "from langchain_community.utilities.wikidata import WikidataAPIWrapper\n",
    "from langgraph.prebuilt import ToolNode\n",
    "from agent.utils.tools import GoogleSearchTool, GoogleKnowledgeGraphTool, WikidataTool, WikipediaTool, python_interpreter\n",
    "\n",
    "google_search = GoogleSearchTool()\n",
    "google_knowledge_graph = GoogleKnowledgeGraphTool()\n",
    "wikidata = WikidataTool(api_wrapper=WikidataAPIWrapper())\n",
    "wikipedia = WikipediaTool()\n",
    "tools = [google_search, google_knowledge_graph, wikipedia, wikidata, python_interpreter]\n",
    "\n",
    "model_with_tools = model.bind_tools(tools)\n"
   ],
   "id": "7dba393e7f0c7193",
   "outputs": [],
   "execution_count": 5
  },
  {
   "metadata": {
    "ExecuteTime": {
     "end_time": "2024-12-17T12:55:36.926089Z",
     "start_time": "2024-12-17T12:55:36.914472Z"
    }
   },
   "cell_type": "code",
   "source": [
    "\n",
    "from typing import Literal\n",
    "\n",
    "critique_prompt = ChatPromptTemplate.from_messages([\n",
    "\t(\n",
    "\t\t\"system\",\n",
    "\t\t\"You are a reactive agent. Given a question or problem, your job is to select the appropriate tools to answer the question or solve the problem. You should consider the guidance provided by the question planner and error prone points identifier, and the tool results are reliable. If you find the answer from the tool results, you should provide the answer.\"\n",
    "\t),\n",
    "\t(\n",
    "\t\t\"user\",\n",
    "\t\t\"Question: {question}\"\n",
    "\t\t\"Guidance: {guidance}\"\n",
    "\t)\n",
    "])\n",
    "\n",
    "async def critique_node(state: State):\n",
    "\tassert state[\"question\"] is not None, \"Question is required\"\n",
    "\tassert state[\"guidance\"] is not None, \"Guidance is required\"\n",
    "\tquestion:str = state[\"question\"]\n",
    "\tguidance:str = state[\"guidance\"]\n",
    "\tmessages:list[BaseMessage] = []\n",
    "\tif len(state[\"messages\"]) == 0:\n",
    "\t\tmessages = critique_prompt.invoke(input={\"question\": question, \"guidance\": guidance}).to_messages()\n",
    "\t\tcritique:AIMessage = await model_with_tools.ainvoke(input=messages)\n",
    "\t\tmessages.append(critique)\n",
    "\telse:\n",
    "\t\tcritique:AIMessage = await model_with_tools.ainvoke(input=state[\"messages\"])\n",
    "\t\tmessages.append(critique)\n",
    "\treturn {\"messages\": messages}\n",
    "\n",
    "# Define our tool node\n",
    "tool_node = ToolNode(tools)\n",
    "\n",
    "fusion_prompt = ChatPromptTemplate.from_messages(\n",
    "\t[\n",
    "\t\t(\n",
    "\t\t\t\"system\",\n",
    "\t\t\t\"You are a fusion agent. Given a question or problem and based on the critique process, your job is to fuse the tool results and then revise your final answer. \"\n",
    "\t\t\t\"Your response should contains two part, the first part is the fusion of the Revising Process and the second part is the final answer. In the fusion part, you should extract the information from the tool result and also indicate how you obtained the information.(which tool, which part of the result) In the final answer, \"\n",
    "\t\t\t\"do not include any explanations, context, or additional information. Just focus on delivering the exact answer as concisely as possible!!! \"\n",
    "\t\t\t\"There is no need to answer the question in the form of a complete sentence, just provide the answer in the form of a noun, time, entity, single number, yes or no, etc.\"\n",
    "\t\t),\n",
    "\t\t(\n",
    "\t\t\t\"placeholder\",\n",
    "\t\t\t\"{messages}\"\n",
    "\t\t),\n",
    "\t\t(\n",
    "\t\t\t\"user\",\n",
    "\t\t\t\"Now based on the previous information, please fuse the tool results and revise your answer. Use the XML tag <fusion></fusion> to indicate the fusion part and <answer></answer> to indicate the final answer part.\"\n",
    "\t\t)\n",
    "\t])\n",
    "fusion_generator = fusion_prompt | model\n",
    "\n",
    "async def fusion_node(state: State) -> State:\n",
    "\tassert state[\"question\"] is not None, \"Question is required\"\n",
    "\tassert state[\"guidance\"] is not None, \"Guidance is required\"\n",
    "\tcritique_messages:Sequence[BaseMessage] = state[\"messages\"][1:]\n",
    "\tresponse:AIMessage = await fusion_generator.ainvoke(input={\"messages\": critique_messages})\n",
    "\tfusion_matches = re.findall(r\"<fusion>(.*?)</fusion>\", response.content, re.DOTALL)\n",
    "\tanswer_matches = re.findall(r\"<answer>(.*?)</answer>\", response.content, re.DOTALL)\n",
    "\tif fusion_matches:\n",
    "\t\tstate[\"fusion\"] = fusion_matches[0]\n",
    "\telse:\n",
    "\t\tstate[\"fusion\"] = response.content\n",
    "\tif answer_matches:\n",
    "\t\tstate[\"prediction\"] = answer_matches[0]\n",
    "\telse:\n",
    "\t\tstate[\"prediction\"] = \"None\"\n",
    "\n",
    "\treturn state\n",
    "\n",
    "# Define the conditional edge that determines whether to continue or not\n",
    "def should_continue(state: State) -> Literal[\"fuse\", \"tools\"]:\n",
    "\tif state[\"remaining_steps\"] <= 2:\n",
    "\t\treturn \"fuse\"\n",
    "\tmessages = state[\"messages\"]\n",
    "\tlast_message = messages[-1]\n",
    "\t# If there is no function call, then we finish\n",
    "\tif last_message.tool_calls:\n",
    "\t\treturn \"tools\"\n",
    "\t# Otherwise if there is, we continue\n",
    "\telse:\n",
    "\t\treturn \"fuse\""
   ],
   "id": "495ca8c028baba27",
   "outputs": [],
   "execution_count": 6
  },
  {
   "metadata": {
    "ExecuteTime": {
     "end_time": "2024-12-17T12:56:13.474703Z",
     "start_time": "2024-12-17T12:56:12.467446Z"
    }
   },
   "cell_type": "code",
   "source": [
    "from langgraph.graph import StateGraph\n",
    "\n",
    "workflow = StateGraph(State)\n",
    "workflow.add_node(\"guide\", guidance_node)\n",
    "workflow.add_node(\"critique\", critique_node)\n",
    "workflow.add_node(\"tools\", tool_node)\n",
    "workflow.add_node(\"fuse\", fusion_node)\n",
    "\n",
    "workflow.set_entry_point(\"guide\")\n",
    "workflow.add_edge(\"guide\", \"critique\")\n",
    "workflow.add_edge(\"tools\", \"critique\")\n",
    "workflow.add_conditional_edges(\"critique\", should_continue)\n",
    "workflow.add_edge(\"fuse\", \"__end__\")\n",
    "\n",
    "app = workflow.compile()\n",
    "\n",
    "from IPython.display import Image, display\n",
    "\n",
    "try:\n",
    "    display(Image(app.get_graph().draw_mermaid_png()))\n",
    "except Exception:\n",
    "    pass"
   ],
   "id": "39a7af6979b806ef",
   "outputs": [
    {
     "data": {
      "image/jpeg": "[encoded data removed]",
      "text/plain": [
       "<IPython.core.display.Image object>"
      ]
     },
     "metadata": {},
     "output_type": "display_data"
    }
   ],
   "execution_count": 7
  },
  {
   "metadata": {},
   "cell_type": "code",
   "outputs": [],
   "execution_count": null,
   "source": "",
   "id": "fd177be3c8ac3d98"
  },
  {
   "metadata": {
    "ExecuteTime": {
     "end_time": "2024-12-17T10:45:52.028925Z",
     "start_time": "2024-12-17T10:45:52.016617Z"
    }
   },
   "cell_type": "code",
   "source": [
    "from tqdm.asyncio import tqdm_asyncio, tqdm\n",
    "import os\n",
    "import json\n",
    "import logging\n",
    "import nest_asyncio\n",
    "\n",
    "# 配置logger\n",
    "logging.basicConfig(\n",
    "    level=logging.ERROR,  # 设置日志级别\n",
    "    format='%(asctime)s - %(levelname)s - %(message)s',  # 设置日志格式\n",
    "    handlers=[\n",
    "        logging.FileHandler(\"inference.log\"),  # 将日志输出到文件\n",
    "        logging.StreamHandler()  # 也输出到控制台\n",
    "    ]\n",
    ")\n",
    "\n",
    "logger = logging.getLogger(\"InferenceLogger\")\n",
    "\n",
    "nest_asyncio.apply()\n",
    "results = []\n",
    "batch_size = 100\n",
    "save_results_path = f\"../../../output/inference/{meta_info['model']}/{meta_info['dataset_name']}/{meta_info['mode']}/{meta_info['base_mode']}_num_samples_{meta_info['num_samples']}_top_p_{meta_info['top_p']}_temperature_{meta_info['temperature']}_seed_{meta_info['seed']}.jsonl\"\n",
    "\n",
    "async def process(item):\n",
    "    try:\n",
    "        state = await app.ainvoke({**item, \"messages\": []})\n",
    "        state[\"messages\"] = [message.pretty_repr() for message in state[\"messages\"]]\n",
    "        logger.info(f\"Processed item: {item}\")\n",
    "        return {**item, **state}\n",
    "    except Exception as e:\n",
    "        logger.error(f\"Error processing item: {item}. Error: {e}\")\n",
    "        return {**item, \"prediction\": \"None\"}\n",
    "\n",
    "async def self_improve_inference() -> None:\n",
    "    error_indices = []  # 用于记录包含 \"ERROR\" 的条目索引\n",
    "\n",
    "    # 读取已有结果或初始化文件\n",
    "    if os.path.exists(save_results_path):\n",
    "        logger.info(f\"Loading existing results from {save_results_path}\")\n",
    "        with open(save_results_path, 'r') as file:\n",
    "            for idx, line in enumerate(file):\n",
    "                result = json.loads(line)\n",
    "                results.append(result)\n",
    "                # 检查是否存在 \"prediction: ERROR\"\n",
    "                if \"None\" == result.get(\"prediction\"):\n",
    "                    error_indices.append(idx)\n",
    "    else:\n",
    "        folder_path = os.path.dirname(save_results_path)\n",
    "        os.makedirs(folder_path, exist_ok=True)\n",
    "        logger.info(f\"Created directory for results: {folder_path}\")\n",
    "\n",
    "    # 重新推理错误的数据\n",
    "    if error_indices:\n",
    "        logger.warning(f\"Found {len(error_indices)} ERROR entries. Retrying inference...\")\n",
    "        error_data = [dataset[idx] for idx in error_indices]\n",
    "        new_results = await tqdm_asyncio.gather(*(process(item) for item in error_data))\n",
    "        # 更新原始结果\n",
    "        for i, new_result in zip(error_indices, new_results):\n",
    "            results[i] = new_result\n",
    "\n",
    "    # 使用tqdm进度条显示进度，设置desc为提示信息\n",
    "    bar = tqdm(total=dataset.num_rows, desc=\"Processing batches\", position=0, dynamic_ncols=True)\n",
    "\n",
    "    for idx in range(len(results), dataset.num_rows, batch_size):\n",
    "        batch = dataset.select(range(idx, min(idx + batch_size, dataset.num_rows)))\n",
    "        batch_results = await tqdm_asyncio.gather(*(process(item) for item in batch))\n",
    "        results.extend(batch_results)\n",
    "\n",
    "        # 更新进度条，进度条更新为当前批次的长度\n",
    "        bar.update(batch_size)\n",
    "        logger.info(f\"Processed batch starting at index {idx}\")\n",
    "\n",
    "        # 保存结果\n",
    "        with open(save_results_path, 'w') as file:\n",
    "            for result in results:\n",
    "                file.write(json.dumps(result) + \"\\n\")\n",
    "        logger.info(f\"Saved results to {save_results_path}\")\n",
    "\n",
    "    bar.close()  # 完成处理后关闭进度条\n"
   ],
   "id": "a147e487a346748f",
   "outputs": [],
   "execution_count": 11
  },
  {
   "metadata": {
    "ExecuteTime": {
     "end_time": "2024-12-17T10:52:27.491699Z",
     "start_time": "2024-12-17T10:45:53.285078Z"
    }
   },
   "cell_type": "code",
   "source": "await self_improve_inference()",
   "id": "c6e7e2b128c439a4",
   "outputs": [
    {
     "name": "stderr",
     "output_type": "stream",
     "text": [
      " 53%|█████▎    | 31/58 [03:30<01:41,  3.74s/it]2024-12-17 18:49:27,666 - ERROR - Error processing item: {'context': '', 'question': 'In 2017, what was 3/4th of the organization that also has a Center for Veterinary Medicine as well as part of the U.S. Department of Health and Human Services, spent on?', 'answer': ['Prescription Drug User Fee Act']}. Error: Recursion limit of 25 reached without hitting a stop condition. You can increase the limit by setting the `recursion_limit` config key.\n",
      " 64%|██████▍   | 37/58 [03:46<00:55,  2.62s/it]2024-12-17 18:49:41,854 - ERROR - Error processing item: {'context': '', 'question': \"Who currently has more store locations? Bearno's or Patxi's Chicago Pizza?\", 'answer': [\"Bearno's Pizza\"]}. Error: Recursion limit of 25 reached without hitting a stop condition. You can increase the limit by setting the `recursion_limit` config key.\n",
      " 71%|███████   | 41/58 [03:55<00:43,  2.55s/it]2024-12-17 18:49:52,031 - ERROR - Error processing item: {'context': '', 'question': 'Where is the company that owns thanKing Horse pub restaurant chain based ?', 'answer': ['Bury St Edmunds,']}. Error: Recursion limit of 25 reached without hitting a stop condition. You can increase the limit by setting the `recursion_limit` config key.\n",
      " 76%|███████▌  | 44/58 [04:28<01:55,  8.28s/it]2024-12-17 18:50:22,313 - ERROR - Error processing item: {'context': '', 'question': 'What movie is the the Spinning turtle attraction in the worlds 21st largest theme park based off of?', 'answer': ['Finding Nemo']}. Error: Recursion limit of 25 reached without hitting a stop condition. You can increase the limit by setting the `recursion_limit` config key.\n",
      " 78%|███████▊  | 45/58 [04:28<01:18,  6.05s/it]2024-12-17 18:50:24,485 - ERROR - Error processing item: {'context': '', 'question': 'Chris Williams last played for which football club from the National League North?', 'answer': ['Salford City Football Club']}. Error: Recursion limit of 25 reached without hitting a stop condition. You can increase the limit by setting the `recursion_limit` config key.\n",
      " 79%|███████▉  | 46/58 [04:31<00:58,  4.89s/it]2024-12-17 18:50:28,776 - ERROR - Error processing item: {'context': '', 'question': 'Chris Jones is a semi-professional footballer, who played with what goalkeeper for Derby County when he was with Yorkshire?', 'answer': ['Scott Paul Carson']}. Error: Recursion limit of 25 reached without hitting a stop condition. You can increase the limit by setting the `recursion_limit` config key.\n",
      " 83%|████████▎ | 48/58 [04:37<00:38,  3.82s/it]2024-12-17 18:50:39,567 - ERROR - Error processing item: {'context': '', 'question': 'Who is the psychologist who wrote about the disciple of the person known as the \"Wild Woman of Buttle\"?', 'answer': ['James G. Kiernan']}. Error: Recursion limit of 25 reached without hitting a stop condition. You can increase the limit by setting the `recursion_limit` config key.\n",
      " 90%|████████▉ | 52/58 [05:00<00:28,  4.68s/it]2024-12-17 18:50:55,945 - ERROR - Error processing item: {'context': '', 'question': 'What amount was the settlement that the character from the Son of al Quada got in 2017?', 'answer': ['$10.5 million']}. Error: Recursion limit of 25 reached without hitting a stop condition. You can increase the limit by setting the `recursion_limit` config key.\n",
      " 91%|█████████▏| 53/58 [05:02<00:20,  4.06s/it]2024-12-17 18:50:57,452 - ERROR - Error processing item: {'context': '', 'question': 'Peter Dhao created a websiteto reflect worldwide views. What was the slogan of the site he created ?', 'answer': ['media for the 65.8 million']}. Error: Recursion limit of 25 reached without hitting a stop condition. You can increase the limit by setting the `recursion_limit` config key.\n",
      " 93%|█████████▎| 54/58 [05:04<00:13,  3.39s/it]2024-12-17 18:50:59,269 - ERROR - Error processing item: {'context': '', 'question': 'What is the inhabitant of the city where  122nd SS-Standarte was formed in2014', 'answer': ['276,170 inhabitants']}. Error: Error code: 429 - {'error': {'message': '当前分组上游负载已饱和，请稍后再试 (request id: 20241217185033617361608oKhk3lYv)', 'type': 'tokens', 'param': '', 'code': 'rate_limit_exceeded'}}\n",
      " 97%|█████████▋| 56/58 [05:23<00:13,  6.96s/it]2024-12-17 18:51:35,755 - ERROR - Error processing item: {'context': '', 'question': 'Which Kentucky Writers Hall of Fame author has had works published by Dim Gray Bar Press?', 'answer': ['Wendell Berry']}. Error: Recursion limit of 25 reached without hitting a stop condition. You can increase the limit by setting the `recursion_limit` config key.\n",
      " 98%|█████████▊| 57/58 [05:42<00:10, 10.47s/it]2024-12-17 18:52:27,484 - ERROR - Error processing item: {'context': '', 'question': 'Who was one of the stars who played the two oldest children in a TV series which had a 2010 movie based on it?', 'answer': ['Michael Seater']}. Error: Recursion limit of 25 reached without hitting a stop condition. You can increase the limit by setting the `recursion_limit` config key.\n",
      "100%|██████████| 58/58 [06:34<00:00,  6.80s/it]\n",
      "Processing batches:   0%|          | 0/1000 [00:00<?, ?it/s]\n"
     ]
    }
   ],
   "execution_count": 12
  },
  {
   "metadata": {
    "ExecuteTime": {
     "end_time": "2024-12-17T10:52:42.077207Z",
     "start_time": "2024-12-17T10:52:42.007714Z"
    }
   },
   "cell_type": "code",
   "source": [
    "# 保存结果\n",
    "with open(save_results_path, 'w') as file:\n",
    "\tfor result in results:\n",
    "\t\tfile.write(json.dumps(result) + \"\\n\")\n",
    "logger.info(f\"Saved results to {save_results_path}\")"
   ],
   "id": "bf69bff52eca4e97",
   "outputs": [],
   "execution_count": 13
  }
 ],
 "metadata": {
  "kernelspec": {
   "display_name": "Python 3",
   "language": "python",
   "name": "python3"
  },
  "language_info": {
   "codemirror_mode": {
    "name": "ipython",
    "version": 2
   },
   "file_extension": ".py",
   "mimetype": "text/x-python",
   "name": "python",
   "nbconvert_exporter": "python",
   "pygments_lexer": "ipython2",
   "version": "2.7.6"
  }
 },
 "nbformat": 4,
 "nbformat_minor": 5
}
