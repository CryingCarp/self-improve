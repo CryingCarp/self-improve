{
 "cells": [
  {
   "metadata": {
    "ExecuteTime": {
     "end_time": "2024-12-06T09:43:48.224293Z",
     "start_time": "2024-12-06T09:43:43.501379Z"
    }
   },
   "cell_type": "code",
   "source": [
    "import asyncio\n",
    "import os\n",
    "\n",
    "import dspy\n",
    "from dotenv import load_dotenv, find_dotenv\n",
    "from langchain_community.utilities import WikipediaAPIWrapper\n",
    "from langchain_community.utilities.wikidata import WikidataAPIWrapper\n",
    "\n",
    "from agent.utils.tools import BingSearchTool\n",
    "from agent.utils.tools import WikidataTool, GoogleSearchTool, WikipediaTool, GoogleKnowledgeGraphTool, calculator, \\\n",
    "\tpython_interpreter\n",
    "\n",
    "_ = load_dotenv(find_dotenv())\n",
    "import nest_asyncio\n",
    "\n",
    "nest_asyncio.apply()"
   ],
   "id": "a07498bd710748ee",
   "outputs": [],
   "execution_count": 1
  },
  {
   "metadata": {
    "ExecuteTime": {
     "end_time": "2024-12-06T09:43:49.635310Z",
     "start_time": "2024-12-06T09:43:48.229430Z"
    }
   },
   "cell_type": "code",
   "source": [
    "from agent.utils.loader import load_processed_data\n",
    "\n",
    "dataset_name = 'hotpot_qa'\n",
    "mode = \"self-guidance\"\n",
    "model = \"gpt-4o-mini-2024-07-18\"\n",
    "num_samples = 1000\n",
    "top_p = 0.95\n",
    "temperature = 0\n",
    "seed = 42\n",
    "batch_size = 100\n",
    "processed_data_path = f\"../../data/processed_data/{dataset_name}.jsonl\"\n",
    "if \"gpt-4o-mini\" in model:\n",
    "\tsave_results_path = f\"../../output/inference/gpt-4o-mini/{dataset_name}/{mode}/num_samples_{num_samples}_top_p_{top_p}_temperature_{temperature}_seed_{seed}.jsonl\"\n",
    "else:\n",
    "\tsave_results_path = f\"../../output/inference/{model}/{dataset_name}/{mode}/num_samples_{num_samples}_top_p_{top_p}_temperature_{temperature}_seed_{seed}.jsonl\"\n",
    "dataset = load_processed_data(dataset_name=dataset_name, file_path=processed_data_path)"
   ],
   "id": "ba1045af1b29331b",
   "outputs": [],
   "execution_count": 2
  },
  {
   "metadata": {
    "ExecuteTime": {
     "end_time": "2024-12-06T09:43:49.800996Z",
     "start_time": "2024-12-06T09:43:49.785033Z"
    }
   },
   "cell_type": "code",
   "source": [
    "class Plan(dspy.Signature):\n",
    "\t\"\"\"Given a question or problem, generate a solving plan, which is a list of steps.\\\n",
    "\tIt doesn't need to actually solve the problem, just generate a plan.\\\n",
    "\tBased on the overall question and plan, identify all the error prone points in the problem solving process of each step.\\\n",
    "\tThese error-prone points are the key to guiding the selection of tools and the input of the selected tools.\\\n",
    "\tRemember that there may be multiple error-prone areas in each step, and you should list them all.\"\"\"\n",
    "\tquestion: str = dspy.InputField()\n",
    "\tplan_and_guidance: list[dict] = dspy.OutputField(desc=\"Each item contains a key 'step' and a key 'guidance'.\")\n",
    "\n",
    "\n",
    "class Tool(dspy.Signature):\n",
    "\t\"\"\"Regarding current step and the guidance, choose the appropriate tools to help you complete current step.\\\n",
    "\t The guidance should be guiding principles to guide subsequent behavior. \\\n",
    "\t Before providing the selected tools and corresponding inputs, \\\n",
    "\t you should fully understand the functions of each tool and their specific requirements for the input content. \\\n",
    "\t The tool name must accurately match the existing tool (including characters such as uppercase and lowercase, spaces, etc.). \\\n",
    "\t Remember that there may be multiple tools that meet the requirements, and there are also some tools that are not suitable for the current step. \\\n",
    "\t Avoid selecting tools that are obviously unsuitable.\n",
    "\n",
    "\tYou have the following tool set:\n",
    "\t[wiki_data] - A wrapper around Wikidata. Useful for when you need to answer general questions about people, places, companies, facts, historical events, or other subjects. Input should be the exact name of the item you want information about or a Wikidata QID.\n",
    "\t[google_search] - A search engine. useful for when you need to answer questions about current events. Input should be a search query.\n",
    "\t[calculator] - Useful when you need to calculate the value of a mathematical expression, including basic arithmetic operations. Use this tool for math operations. Input should strictly follow the numuxpr syntax.\n",
    "\t[python_interpreter] - Useful when you need to execute a code and get the value of the variables <answer>. Use this tool for code execution.This tool will return the code execution result and final value of the variable <answer>. Input should be pure python code string.\n",
    "\t[wikipedia] - A wrapper around Wikipedia. Useful for when you need to answer general questions about people, places, companies, facts, historical events, or other subjects. Input should be a search query.\n",
    "\t[google_knowledge_graph] - This tool searches for entities in the Google Knowledge Graph. It provides information about people, places, things, and concepts. Useful when you need to get information about a specific entity. Input should be an entity name.\n",
    "\t\"\"\"\n",
    "\tpast_steps: list[dict] = dspy.InputField(desc=\"The past steps and guidance, ordered by the order of the steps.\")\n",
    "\tcurrent_step_and_guidance: dict = dspy.InputField(desc=\"The current step and guidance.\")\n",
    "\ttool: dict = dspy.OutputField(\n",
    "\t\tdesc=\"List all the appropriate tools to help you complete current step.\"\n",
    "\t\t     \"Each item is a dictionary, the key is the tool name, the value is the input content of the tool.\")\n",
    "\n",
    "\n",
    "class Result(dspy.Signature):\n",
    "\t\"\"\"Based on current step, guidance and tool result, provide your answer to the current step. Remember that all the tool result are reliable. If the tool result contains the information you need, you should list the information as evidence for the current step.\"\"\"\n",
    "\n",
    "\tstep: str = dspy.InputField()\n",
    "\tguidance: str = dspy.InputField()\n",
    "\ttool_result: list[dict] = dspy.InputField()\n",
    "\tevidence: str = dspy.OutputField(\n",
    "\t\tdesc=\"The evidence contains the information in the tool result which is needed for the current step answer.\")\n",
    "\tanswer: str = dspy.OutputField(desc=\"The answer to the current step.\")\n",
    "\n",
    "\n",
    "class FinalAnswer(dspy.Signature):\n",
    "\t\"\"\"Using the provided evidence, answer the question by extracting only the specific information required. \\\n",
    "\tYour response should contains two part, the first part is the fusion of the Revising Process and the second part is the final answer.\\\n",
    "\tIn the final answer, do not include any explanations, context, or additional information. Just focus on delivering the exact answer as concisely as possible!!!\\\n",
    "\tThere is no need to answer the question in the form of a complete sentence, just provide the answer in the form of a noun, time, entity, yes or no, etc.\\\n",
    "\tIf there are multiple answers, please concatenate them with a comma, i.e. \"answer1, answer2, answer3\".\"\"\"\n",
    "\n",
    "\tquestion: str = dspy.InputField()\n",
    "\tsteps: list[dict] = dspy.InputField(desc=\"Each item contains a key 'step', a key 'evidence' and a key 'result'.\")\n",
    "\tfusion: str = dspy.OutputField(desc=\"The fusion of the Revising Process.\")\n",
    "\tfinal_answer: str = dspy.OutputField(\n",
    "\t\tdesc=\"Do not include any explanations, context, or additional information. Just focus on delivering the exact answer as concisely as possible!!! \")"
   ],
   "id": "f0fa5aa3e37ba5a2",
   "outputs": [],
   "execution_count": 3
  },
  {
   "metadata": {
    "ExecuteTime": {
     "end_time": "2024-12-06T09:43:56.146106Z",
     "start_time": "2024-12-06T09:43:55.305611Z"
    }
   },
   "cell_type": "code",
   "source": [
    "wikidata_tool = WikidataTool(api_wrapper=WikidataAPIWrapper())\n",
    "google_search_tool = GoogleSearchTool()\n",
    "bing_search_tool = BingSearchTool()\n",
    "wikipedia_tool = WikipediaTool(api_wrapper=WikipediaAPIWrapper())\n",
    "google_knowledge_graph_tool = GoogleKnowledgeGraphTool()\n",
    "tool_set = {\"wiki_data\": wikidata_tool, \"google_search\": google_search_tool,\n",
    "            \"calculator\": calculator, \"python_interpreter\": python_interpreter, \"wikipedia\": wikipedia_tool,\n",
    "            \"google_knowledge_graph\": google_knowledge_graph_tool}\n",
    "tool_description = \"\\n\".join([f\"[{tool_name}] - {tool.description}\" for tool_name, tool in tool_set.items()])\n",
    "\n",
    "\n",
    "async def tool_ainvoke(tool_dictionary: dict) -> list[tuple | Exception]:\n",
    "\tasync def run_tool(tool_name, tool_input):\n",
    "\t\tif tool_name not in tool_set:\n",
    "\t\t\treturn {\"tool_name\": tool_name, \"tool_input\": tool_input, \"tool_result\": \"Tool not found.\"}\n",
    "\t\ttry:\n",
    "\t\t\tresult = await tool_set[tool_name].arun(tool_input)\n",
    "\t\t\treturn {\"tool_name\": tool_name, \"tool_input\": tool_input, \"tool_result\": result}\n",
    "\t\texcept Exception as e:\n",
    "\t\t\treturn {\"tool_name\": tool_name, \"tool_input\": tool_input, \"tool_result\": str(e)}\n",
    "\n",
    "\ttasks = [run_tool(tool_name, tool_input) for tool_name, tool_input in tool_dictionary.items()]\n",
    "\n",
    "\ttool_result = await asyncio.gather(*tasks, return_exceptions=True)\n",
    "\treturn tool_result\n",
    "\n",
    "\n",
    "def tool_invoke(tool_dictionary: dict) -> list[tuple | Exception]:\n",
    "\tdef run_tool(tool_name, tool_input):\n",
    "\t\tif tool_name not in tool_set:\n",
    "\t\t\treturn {\"tool_name\": tool_name, \"tool_input\": tool_input, \"tool_result\": \"Tool not found.\"}\n",
    "\t\ttry:\n",
    "\t\t\tresult = tool_set[tool_name].run(tool_input)\n",
    "\t\t\treturn {\"tool_name\": tool_name, \"tool_input\": tool_input, \"tool_result\": result}\n",
    "\t\texcept Exception as e:\n",
    "\t\t\treturn {\"tool_name\": tool_name, \"tool_input\": tool_input, \"tool_result\": str(e)}\n",
    "\n",
    "\ttool_results = [run_tool(tool_name, tool_input) for tool_name, tool_input in tool_dictionary.items()]\n",
    "\n",
    "\treturn tool_results\n",
    "\n",
    "\n",
    "print(tool_description)"
   ],
   "id": "cafc1bd56544e13b",
   "outputs": [
    {
     "name": "stdout",
     "output_type": "stream",
     "text": [
      "[wiki_data] - A wrapper around Wikidata. Useful for when you need to answer general questions about people, places, companies, facts, historical events, or other subjects. Input should be the exact name of the item you want information about or a Wikidata QID.\n",
      "[google_search] - A search engine. useful for when you need to answer questions about current events. Input should be a search query. \n",
      "[calculator] - Useful when you need to calculate the value of a mathematical expression, including basic arithmetic operations. Use this tool for math operations. Input should strictly follow the numuxpr syntax.\n",
      "[python_interpreter] - Useful when you need to execute a code and get the value of the variables <answer>. Use this tool for code execution.This tool will return the code execution result and final value of the variable <answer>. Input should be pure python code string.\n",
      "[wikipedia] - A wrapper around Wikipedia. Useful for when you need to answer general questions about people, places, companies, facts, historical events, or other subjects. Input should be a search query.\n",
      "[google_knowledge_graph] - This tool searches for entities in the Google Knowledge Graph. It provides information about people, places, things, and concepts. Useful when you need to get information about a specific entity. Input should be an entity name.\n"
     ]
    }
   ],
   "execution_count": 4
  },
  {
   "metadata": {
    "ExecuteTime": {
     "end_time": "2024-12-06T09:44:00.485590Z",
     "start_time": "2024-12-06T09:44:00.474060Z"
    }
   },
   "cell_type": "code",
   "source": [
    "class SelfGuidance(dspy.Module):\n",
    "\tdef __init__(self):\n",
    "\t\tsuper().__init__()\n",
    "\t\tself.plan_and_guidance = dspy.Predict(Plan)\n",
    "\t\tself.tool = dspy.ChainOfThought(Tool)\n",
    "\t\tself.tool_ainvoke = tool_ainvoke\n",
    "\t\tself.cot = dspy.Predict(Result)\n",
    "\t\tself.final_answer = dspy.Predict(FinalAnswer)\n",
    "\n",
    "\tdef forward(self, question: str, answer: str, **kwargs) -> dspy.Prediction:\n",
    "\t\tpast_steps = []\n",
    "\t\ttool_results = []\n",
    "\n",
    "\t\tplan_result = self.plan_and_guidance(question=question)\n",
    "\t\tfor step_and_guidance in plan_result.plan_and_guidance:\n",
    "\t\t\ttool_selection = self.tool(past_steps=past_steps, current_step_and_guidance=step_and_guidance)\n",
    "\t\t\ttool_result = tool_invoke(tool_selection.tool)\n",
    "\t\t\ttool_results.append(tool_result)\n",
    "\t\t\tcot_result = self.cot(step=step_and_guidance[\"step\"], guidance=step_and_guidance[\"guidance\"],\n",
    "\t\t\t                      tool_result=tool_result)\n",
    "\t\t\tpast_steps.append(\n",
    "\t\t\t\t{\"step\": step_and_guidance[\"step\"], \"evidence\": cot_result.evidence, \"result\": cot_result.answer})\n",
    "\t\tfinal_answer = self.final_answer(question=question, steps=past_steps)\n",
    "\n",
    "\t\treturn dspy.Prediction(\n",
    "\t\t\tquestion=question,\n",
    "\t\t\tanswer=answer,\n",
    "\t\t\tprediction=final_answer.final_answer,\n",
    "\t\t\tfusion=final_answer.fusion,\n",
    "\t\t\ttool_results=tool_results,\n",
    "\t\t\tpast_steps=past_steps\n",
    "\t\t)\n",
    "\n",
    "\tasync def async_forward(self, question: str, answer: str, **kwargs):\n",
    "\t\tpast_steps = []\n",
    "\t\ttool_results = []\n",
    "\t\tplan_result = await self.plan_and_guidance.async_call(question=question)\n",
    "\t\tfor step_and_guidance in plan_result.plan_and_guidance:\n",
    "\t\t\ttool_selection = await self.tool.async_call(past_steps=past_steps,\n",
    "\t\t\t                                            current_step_and_guidance=step_and_guidance)\n",
    "\t\t\ttool_result = await self.tool_ainvoke(tool_selection.tool)\n",
    "\t\t\ttool_results.append(tool_result)\n",
    "\t\t\tcot_result = await self.cot.async_call(step=step_and_guidance[\"step\"],\n",
    "\t\t\t                                       guidance=step_and_guidance[\"guidance\"], tool_result=tool_result)\n",
    "\t\t\tpast_steps.append(\n",
    "\t\t\t\t{\"step\": step_and_guidance[\"step\"], \"evidence\": cot_result.evidence, \"result\": cot_result.answer})\n",
    "\t\tfinal_answer = await self.final_answer.async_call(question=question, steps=past_steps)\n",
    "\n",
    "\t\treturn dspy.Prediction(\n",
    "\t\t\tquestion=question,\n",
    "\t\t\tanswer=answer,\n",
    "\t\t\tprediction=final_answer.final_answer,\n",
    "\t\t\tfusion=final_answer.fusion,\n",
    "\t\t\ttool_results=tool_results,\n",
    "\t\t\tpast_steps=past_steps\n",
    "\t\t)\n",
    "\n",
    "\n",
    "dspy.configure(lm=dspy.LM(model='openai/gpt-4o-mini-2024-07-18', api_base=\"https://api.chsdw.top/v1\", cache=False))\n",
    "self_guidance = SelfGuidance()"
   ],
   "id": "a055d5ccda72d7af",
   "outputs": [],
   "execution_count": 5
  },
  {
   "metadata": {},
   "cell_type": "markdown",
   "source": "# Evaluation",
   "id": "2c87c31ddf320b93"
  },
  {
   "metadata": {
    "ExecuteTime": {
     "end_time": "2024-12-06T09:44:06.036561Z",
     "start_time": "2024-12-06T09:44:06.032417Z"
    }
   },
   "cell_type": "code",
   "source": [
    "from agent.utils.qa import multi_ref_score\n",
    "\n",
    "\n",
    "def validate_answer(example: dspy.Example, prediction: dspy.Predict):\n",
    "\tem, f1, precision, recall = multi_ref_score(prediction.prediction, example.answer)\n",
    "\treturn f1"
   ],
   "id": "6f237a2e5bc7f735",
   "outputs": [],
   "execution_count": 6
  },
  {
   "metadata": {},
   "cell_type": "code",
   "source": [
    "from dspy.datasets import HotPotQA\n",
    "from dspy.teleprompt import COPRO\n",
    "\n",
    "teleprompter = COPRO(\n",
    "\tmetric=validate_answer,\n",
    "\tverbose=True,\n",
    "\tbreadth=10,\n",
    "\tdepth=3,\n",
    "\ttrack_stats=True\n",
    ")\n",
    "kwargs = dict(num_threads=1, display_progress=True,\n",
    "              display_table=0)  # Used in Evaluate class in the optimization process\n",
    "dataset = HotPotQA(train_seed=1, train_size=20, eval_seed=42, dev_size=50, test_size=0)\n",
    "train_set = [dspy.Example({\"question\": r[\"question\"], \"answer\": r[\"answer\"]}).with_inputs(\"question\", \"answer\") for r in\n",
    "             dataset.train]\n",
    "\n"
   ],
   "id": "bfdb7b482ebaa721",
   "outputs": [],
   "execution_count": null
  },
  {
   "metadata": {
    "ExecuteTime": {
     "end_time": "2024-12-06T11:36:28.342422Z",
     "start_time": "2024-12-06T11:36:28.312472Z"
    }
   },
   "cell_type": "code",
   "source": [
    "compiled_prompt_opt = SelfGuidance()\n",
    "compiled_prompt_opt.load(path=\"/Users/ariete/Projects/self-improve/agent/inference/compiled_prompt_opt.json\")\n",
    "print(compiled_prompt_opt)"
   ],
   "id": "1fdd7863e16d8908",
   "outputs": [
    {
     "name": "stdout",
     "output_type": "stream",
     "text": [
      "plan_and_guidance = Predict(StringSignature(question -> plan_and_guidance\n",
      "    instructions='When presented with a question or problem, provide a detailed step-by-step solving plan that outlines how to tackle the situation. For each step in your plan, identify and list all potential error-prone points that could occur during the problem-solving process. Highlighting these error-prone areas will assist in selecting the necessary tools and informing their proper usage. Ensure that you comprehensively cover all possible error-prone aspects associated with each step listed.'\n",
      "    question = Field(annotation=str required=True json_schema_extra={'__dspy_field_type': 'input', 'prefix': 'Question:', 'desc': '${question}'})\n",
      "    plan_and_guidance = Field(annotation=list[dict] required=True json_schema_extra={'desc': \"Each item contains a key 'step' and a key 'guidance'.\", '__dspy_field_type': 'output', 'prefix': 'Please specify the question or problem, and I will outline a solving plan along with the associated error-prone points.'})\n",
      "))\n",
      "tool = Predict(StringSignature(past_steps, current_step_and_guidance -> reasoning, tool\n",
      "    instructions='Regarding current step and the guidance, choose the appropriate tools to help you complete current step.         The guidance should be guiding principles to guide subsequent behavior.         Before providing the selected tools and corresponding inputs,   you should fully understand the functions of each tool and their specific requirements for the input content.   The tool name must accurately match the existing tool (including characters such as uppercase and lowercase, spaces, etc.).     Remember that there may be multiple tools that meet the requirements, and there are also some tools that are not suitable for the current step.         Avoid selecting tools that are obviously unsuitable.\\n\\nYou have the following tool set:\\n[wiki_data] - A wrapper around Wikidata. Useful for when you need to answer general questions about people, places, companies, facts, historical events, or other subjects. Input should be the exact name of the item you want information about or a Wikidata QID.\\n[google_search] - A search engine. useful for when you need to answer questions about current events. Input should be a search query.\\n[calculator] - Useful when you need to calculate the value of a mathematical expression, including basic arithmetic operations. Use this tool for math operations. Input should strictly follow the numuxpr syntax.\\n[python_interpreter] - Useful when you need to execute a code and get the value of the variables <answer>. Use this tool for code execution.This tool will return the code execution result and final value of the variable <answer>. Input should be pure python code string.\\n[wikipedia] - A wrapper around Wikipedia. Useful for when you need to answer general questions about people, places, companies, facts, historical events, or other subjects. Input should be a search query.\\n[google_knowledge_graph] - This tool searches for entities in the Google Knowledge Graph. It provides information about people, places, things, and concepts. Useful when you need to get information about a specific entity. Input should be an entity name.'\n",
      "    past_steps = Field(annotation=list[dict] required=True json_schema_extra={'desc': 'The past steps and guidance, ordered by the order of the steps.', '__dspy_field_type': 'input', 'prefix': 'Past Steps:'})\n",
      "    current_step_and_guidance = Field(annotation=dict required=True json_schema_extra={'desc': 'The current step and guidance.', '__dspy_field_type': 'input', 'prefix': 'Current Step And Guidance:'})\n",
      "    reasoning = Field(annotation=str required=True json_schema_extra={'prefix': \"Reasoning: Let's think step by step in order to\", 'desc': '${reasoning}', '__dspy_field_type': 'output'})\n",
      "    tool = Field(annotation=dict required=True json_schema_extra={'desc': 'List all the appropriate tools to help you complete current step.Each item is a dictionary, the key is the tool name, the value is the input content of the tool.', '__dspy_field_type': 'output', 'prefix': 'Tool:'})\n",
      "))\n",
      "cot = Predict(StringSignature(step, guidance, tool_result -> evidence, answer\n",
      "    instructions='Utilizing the most recent insights from the tool results and the associated guidance for this step, analyze and synthesize the provided data. Formulate a response that clearly demonstrates your interpretation of the key information, and exemplifies how each piece of supporting evidence from the tools integrates into your conclusions. Prioritize a coherent and logical flow in your response, succinctly linking evidence to your assertion to enhance overall clarity and justification.'\n",
      "    step = Field(annotation=str required=True json_schema_extra={'__dspy_field_type': 'input', 'prefix': 'Step:', 'desc': '${step}'})\n",
      "    guidance = Field(annotation=str required=True json_schema_extra={'__dspy_field_type': 'input', 'prefix': 'Guidance:', 'desc': '${guidance}'})\n",
      "    tool_result = Field(annotation=list[dict] required=True json_schema_extra={'__dspy_field_type': 'input', 'prefix': 'Tool Result:', 'desc': '${tool_result}'})\n",
      "    evidence = Field(annotation=str required=True json_schema_extra={'desc': 'The evidence contains the information in the tool result which is needed for the current step answer.', '__dspy_field_type': 'output', 'prefix': 'Evidence:'})\n",
      "    answer = Field(annotation=str required=True json_schema_extra={'desc': 'The answer to the current step.', '__dspy_field_type': 'output', 'prefix': 'Based on this comprehensive analysis, your response for the current step, supported by evidence, is as follows:'})\n",
      "))\n",
      "final_answer = Predict(StringSignature(question, steps -> fusion, final_answer\n",
      "    instructions='Extract the critical information needed from the evidence to respond accurately to the question. Break your answer into two distinct components: first, concisely summarize the key elements of the Revising Process; second, present the final answer explicitly and directly. The final answer should strictly consist of essential data such as nouns, times, entities, or affirmative/negative statements, without any additional context or elaboration. If there are multiple answers, please separate them using commas to Maintain clarity (e.g., \"answer1, answer2\").'\n",
      "    question = Field(annotation=str required=True json_schema_extra={'__dspy_field_type': 'input', 'prefix': 'Question:', 'desc': '${question}'})\n",
      "    steps = Field(annotation=list[dict] required=True json_schema_extra={'desc': \"Each item contains a key 'step', a key 'evidence' and a key 'result'.\", '__dspy_field_type': 'input', 'prefix': 'Steps:'})\n",
      "    fusion = Field(annotation=str required=True json_schema_extra={'desc': 'The fusion of the Revising Process.', '__dspy_field_type': 'output', 'prefix': 'Fusion:'})\n",
      "    final_answer = Field(annotation=str required=True json_schema_extra={'desc': 'Do not include any explanations, context, or additional information. Just focus on delivering the exact answer as concisely as possible!!! ', '__dspy_field_type': 'output', 'prefix': 'Final Answer:'})\n",
      "))\n"
     ]
    }
   ],
   "execution_count": 52
  },
  {
   "metadata": {
    "ExecuteTime": {
     "end_time": "2024-12-06T11:36:58.297753Z",
     "start_time": "2024-12-06T11:36:58.287573Z"
    }
   },
   "cell_type": "code",
   "source": [
    "from dspy import Prediction\n",
    "from tqdm import tqdm\n",
    "from tqdm.asyncio import tqdm_asyncio\n",
    "import json\n",
    "\n",
    "results = []\n",
    "\n",
    "\n",
    "async def self_guidance_inference() -> None:\n",
    "\tif os.path.exists(save_results_path):\n",
    "\t\twith open(save_results_path, 'r') as file:\n",
    "\t\t\tfor line in file:\n",
    "\t\t\t\tresults.append(json.loads(line))\n",
    "\telse:\n",
    "\t\tfolder_path = os.path.dirname(save_results_path)\n",
    "\t\tos.makedirs(folder_path, exist_ok=True)\n",
    "\n",
    "\tfor idx in tqdm(range(len(results), 1000, 30)):\n",
    "\t\tbatch = processed_dataset.select(range(idx, idx + 30))\n",
    "\t\ttasks = [compiled_prompt_opt.async_call(**batch[i]) for i in range(len(batch))]  # 1 到 50\n",
    "\t\tresults.extend(await tqdm_asyncio.gather(*tasks))\n",
    "\t\tfor idx, temp in enumerate(results):\n",
    "\t\t\tif isinstance(temp, Prediction):\n",
    "\t\t\t\tresults[idx] = {**temp}\n",
    "\t\twith open(save_results_path, 'w') as file:\n",
    "\t\t\tfor result in results:\n",
    "\t\t\t\tfile.write(json.dumps(result) + \"\\n\")"
   ],
   "id": "15bfa81e529888b2",
   "outputs": [],
   "execution_count": 54
  },
  {
   "metadata": {},
   "cell_type": "code",
   "source": "await self_guidance_inference()",
   "id": "295581f6cedd04c0",
   "outputs": [],
   "execution_count": null
  }
 ],
 "metadata": {
  "kernelspec": {
   "display_name": "Python 3",
   "language": "python",
   "name": "python3"
  },
  "language_info": {
   "codemirror_mode": {
    "name": "ipython",
    "version": 2
   },
   "file_extension": ".py",
   "mimetype": "text/x-python",
   "name": "python",
   "nbconvert_exporter": "python",
   "pygments_lexer": "ipython2",
   "version": "2.7.6"
  }
 },
 "nbformat": 4,
 "nbformat_minor": 5
}
