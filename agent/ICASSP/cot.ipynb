{
 "cells": [
  {
   "cell_type": "code",
   "metadata": {
    "ExecuteTime": {
     "end_time": "2024-09-05T10:27:10.761617Z",
     "start_time": "2024-09-05T10:27:10.749637Z"
    }
   },
   "source": [
    "import json\n",
    "from langchain_core.messages.base import BaseMessage\n",
    "from langchain_core.prompt_values import PromptValue\n",
    "from langchain_openai import ChatOpenAI\n",
    "from langchain_core.prompts import ChatPromptTemplate\n",
    "from utils import load_prompt\n",
    "\n",
    "import getpass\n",
    "import os\n",
    "\n",
    "\n",
    "def _set_if_undefined(var: str):\n",
    "    if not os.environ.get(var):\n",
    "        os.environ[var] = getpass.getpass(f\"Please provide your {var}\")\n",
    "\n",
    "_set_if_undefined(\"LANGCHAIN_API_KEY\")\n",
    "\n",
    "# Optional, add tracing in LangSmith\n",
    "os.environ[\"LANGCHAIN_TRACING_V2\"] = \"false\"\n",
    "os.environ[\"LANGCHAIN_PROJECT\"] = \"cot\"\n",
    "\n",
    "# 并行处理\n",
    "import asyncio\n",
    "\n",
    "async def cot(item, prompt: ChatPromptTemplate, llm: ChatOpenAI, dataset_name:str=\"hotpot_qa\") -> str:\n",
    "    if dataset_name in [\"gsm8k\", \"hotpot_qa\", \"ambig_qa\", \"trivia_qa\"]:\n",
    "        prompt_value: PromptValue = prompt.invoke({\"question\": item[\"question\"]})\n",
    "    elif dataset_name == \"svamp\":\n",
    "        prompt_value = prompt.invoke({\"Body\": item[\"Body\"], \"Question\": item[\"Question\"]})\n",
    "    elif dataset_name == \"tabmwp\":\n",
    "        prompt_value = prompt.invoke({\"question\": item[\"question\"], \"table\": item[\"table\"], \"table_title\": item[\"table_title\"]})\n",
    "    try:\n",
    "        result: BaseMessage = await llm.ainvoke(prompt_value)\n",
    "        return result.content\n",
    "    except Exception as e:\n",
    "        return str(e)"
   ],
   "outputs": [],
   "execution_count": 5
  },
  {
   "cell_type": "code",
   "metadata": {
    "ExecuteTime": {
     "end_time": "2024-09-05T06:26:37.031415Z",
     "start_time": "2024-09-05T06:26:37.025432Z"
    }
   },
   "source": [
    "# extract question and answer from ambig_qa\n",
    "import random\n",
    "def extract_question_answer(item):\n",
    "    if item['annotations']['type'][0] == \"singleAnswer\":\n",
    "        # single answer\n",
    "        answers = item['nq_answer']\n",
    "        for ans in item['annotations']['answer']:\n",
    "            answers.extend(ans)\n",
    "        item['answer'] = list(set(answers))\n",
    "    else:\n",
    "        # random choose a question with multiple answers\n",
    "        qa_pairs = item['annotations']['qaPairs'][0]\n",
    "        rand_i = random.randint(0, len(qa_pairs['question'])-1)\n",
    "        item['question'] = qa_pairs['question'][rand_i]\n",
    "        item['answer'] = qa_pairs['answer'][rand_i]\n",
    "    \n",
    "    return {\"question\": item[\"question\"], \"answer\": item[\"answer\"]}"
   ],
   "outputs": [],
   "execution_count": 3
  },
  {
   "cell_type": "markdown",
   "metadata": {},
   "source": [
    "# gsm8k svamp tabmwp hotpot_qa ambig_qa trivia_qa"
   ]
  },
  {
   "cell_type": "code",
   "metadata": {
    "ExecuteTime": {
     "end_time": "2024-09-05T10:27:21.332189Z",
     "start_time": "2024-09-05T10:27:19.010551Z"
    }
   },
   "source": [
    "from datasets.arrow_dataset import Dataset\n",
    "from datasets.dataset_dict import DatasetDict, IterableDatasetDict\n",
    "from datasets.iterable_dataset import IterableDataset\n",
    "from langchain_core.prompts.chat import ChatPromptTemplate\n",
    "\n",
    "\n",
    "dataset_name = \"tabmwp\"\n",
    "mode = \"cot\"\n",
    "num_test_sample = 1000\n",
    "temperature = 0\n",
    "top_p = 1\n",
    "batch_size = 100\n",
    "prompt: ChatPromptTemplate = load_prompt(dataset_name)\n",
    "llm = ChatOpenAI(temperature=0, base_url=\"https://api.chsdw.top/v1\", top_p=1, model=\"gpt-4o-mini\")\n",
    "\n",
    "print(prompt)\n",
    "\n",
    "from datasets import load_dataset\n",
    "dataset: DatasetDict | Dataset | IterableDatasetDict | IterableDataset = load_dataset(\"json\", data_files=f\"../data/{dataset_name}.jsonl\", split=\"train\")\n",
    "if num_test_sample > 0:\n",
    "    dataset = dataset.select(range(num_test_sample))\n",
    "\n",
    "if dataset_name == \"ambig_qa\":\n",
    "    dataset = dataset.map(extract_question_answer, remove_columns=['id', 'annotations', 'viewed_doc_titles', 'used_queries', 'nq_answer', 'nq_doc_title'])\n",
    "print(dataset, dataset[0])\n",
    "results = []"
   ],
   "outputs": [
    {
     "name": "stdout",
     "output_type": "stream",
     "text": [
      "input_variables=['question', 'table', 'table_title'] metadata={'lc_hub_owner': 'ariete', 'lc_hub_repo': 'tabmwp_4shot', 'lc_hub_commit_hash': 'b81b7059054de7a694a0572488479e04d0729b68068924d13b4a4ff5c9b2516c'} messages=[SystemMessagePromptTemplate(prompt=PromptTemplate(input_variables=[], template=\"# Write Python Code to solve the following questions. Store your result as a variable named 'answer'. Use 'print(answer)' to output your answer. You should follow the format of the cases below.\")), HumanMessagePromptTemplate(prompt=PromptTemplate(input_variables=[], template='Read the following table regarding \"Coin collections\" and then write Python code to answer a question:\\n\\nName | Number of coins\\nBraden | 76\\nCamilla | 94\\nRick | 86\\nMary | 84\\nHector | 80\\nDevin | 83\\nEmily | 82\\nAvery | 87\\n\\nQuestion: Some friends discussed the sizes of their coin collections. What is the mean of the numbers?')), AIMessagePromptTemplate(prompt=PromptTemplate(input_variables=[], template='# Python Code, return answer\\nnumber_of_coins_for_different_person = [76, 94, 86, 84, 80, 83, 82, 87]\\nanswer = sum(number_of_coins_for_different_person) / len(number_of_coins_for_different_person)\\nprint(answer)')), HumanMessagePromptTemplate(prompt=PromptTemplate(input_variables=[], template='Read the following table regarding \"\" and then write Python code to answer a question:\\n\\nPrice | Quantity demanded | Quantity supplied\\n$155 | 22,600 | 5,800\\n$275 | 20,500 | 9,400\\n$395 | 18,400 | 13,000\\n$515 | 16,300 | 16,600\\n$635 | 14,200 | 20,200\\n\\nQuestion: Look at the table. Then answer the question. At a price of $155, is there a shortage or a surplus? Choose from the the options: [shortage, surplus]')), AIMessagePromptTemplate(prompt=PromptTemplate(input_variables=[], template=\"# Python Code, return answer\\nquantity_demanded_price_155 = 22600\\nquantity_supplied_price_155 = 5800\\nif quantity_demanded_at_price_155 > quantity_supplied_at_price_155:\\n answer = 'shortage'\\nelse:\\n answer = 'surplus'\\nprint(answer)\")), HumanMessagePromptTemplate(prompt=PromptTemplate(input_variables=[], template='Read the following table regarding \"Cans of food collected\" and then write Python code to answer a question:\\n\\nSamir | 7\\nKristen | 4\\nDakota | 7\\nJamie | 8\\nMaggie | 9\\n\\nQuestion: Samir\\'s class recorded how many cans of food each student collected for their canned food drive. What is the median of the numbers?')), AIMessagePromptTemplate(prompt=PromptTemplate(input_variables=[], template='# Python Code, return answer\\ncans = [7, 4, 5, 8, 9]\\ncans = sorted(cans)\\nmiddle1 = (len(cans) - 1) // 2\\nmiddle2 = len(cans) // 2\\nanswer = (cans[middle1] + cans[middle2]) / 2\\nprint(answer)')), HumanMessagePromptTemplate(prompt=PromptTemplate(input_variables=[], template='Read the following table regarding \"\" and then write Python code to answer a question:\\n\\ntoy boat | $5.54\\ntoy guitar | $8.23\\nset of juggling balls | $5.01\\ntrivia game | $8.18\\njigsaw puzzle | $5.30\\ntoy dinosaur | $3.00\\n\\nQuestion: Lorenzo has $13.50. Does he have enough to buy a toy guitar and a set of juggling balls? Choose from the the options: [\\'yes\\', \\'no\\']')), AIMessagePromptTemplate(prompt=PromptTemplate(input_variables=[], template='# Python Code, return answer\\nguitar_price = 8.23\\njuggling_balls = 5.01\\ntotal_money = 13.5\\nif total_money > juggling_balls + guitar_price:\\n answer = \"yes\"\\nelse:\\n answer = \"no\"\\nprint(answer)')), HumanMessagePromptTemplate(prompt=PromptTemplate(input_variables=['question', 'table', 'table_title'], template='Read the following table regarding {table_title} and then write Python code to answer a question:\\n\\n{table}\\n\\nQuestion: {question}'))]\n",
      "Dataset({\n",
      "    features: ['question', 'choices', 'answer', 'unit', 'table_title', 'table', 'table_for_pd', 'row_num', 'column_num', 'solution', 'ques_type', 'ans_type', 'grade', 'split', 'idx'],\n",
      "    num_rows: 1000\n",
      "}) {'question': 'Some friends discussed the sizes of their coin collections. What is the mean of the numbers?', 'choices': None, 'answer': '84', 'unit': None, 'table_title': 'Coin collections', 'table': 'Name | Number of coins\\nBraden | 76\\nCamilla | 94\\nRick | 86\\nMary | 84\\nHector | 80\\nDevin | 83\\nEmily | 82\\nAvery | 87', 'table_for_pd': {'': None, 'A Footlong shoe': None, 'A Toes Knows shoe': None, 'A little spicy': None, 'A tent': None, 'Activity': None, 'Adult': None, 'Amount spent': None, 'Animal rights': None, 'Apartment complex': None, 'Apples': None, 'April': None, 'Arrive': None, 'August': None, 'Available Funds': None, 'Bananas eaten': None, 'Band member': None, 'Baskets': None, 'Batwing': None, 'Beautician': None, 'Beds': None, 'Begin': None, 'Beverage': None, 'Bicycle': None, 'Bookcases': None, 'Boxes of cookies': None, 'Boxes sold': None, 'Boys': None, 'Bridge': None, 'Broken tooth': None, 'Bronze status': None, 'Brown bears': None, 'Butterfly': None, 'Candidate': None, 'Candy necklaces made': None, 'Car': None, 'Cat': None, 'Cause': None, 'Cereal': None, 'Change in phone price': None, 'Change in points': None, 'Change in water level (in.)': None, 'Cheese pizzas': None, 'Cherry trees': None, 'Chicken noodle': None, 'Child': None, 'City': None, 'Class': None, 'Clean water': None, 'Club': None, 'Color': None, 'Column 1': None, 'Column 2': None, 'Column 3': None, 'Column 4': None, 'Column 5': None, 'Column 6': None, 'Committee': None, 'Company': None, 'Contribution ($)': None, 'Daisies': None, 'Date': None, 'Day': None, 'Dealership': None, 'Depart': None, 'Description': None, 'Displeased': None, 'Doctor': None, 'Dog': None, 'E-readers': None, 'Elevation (m)': None, 'Employee': None, 'End': None, 'Event': None, 'Expenses': None, 'Falcons': None, 'Farmer': None, 'Ferry': None, 'Finger puppets made': None, 'Food preparation time (minutes)': None, 'Frequency': None, 'Friday': None, 'Fruits': None, 'Fruity': None, 'Game': None, 'Games won': None, 'Gem color': None, 'Girls': None, 'Grade': None, 'Greeting cards made': None, 'Grey beard': None, 'High school': None, 'Horizontally': None, 'Hours': None, 'Hours billed': None, 'Instrument': None, 'Intake': None, 'June': None, 'Kilograms': None, 'Kilograms of food': None, 'Leaf ': None, 'Leaf rubbings made': None, 'Leftover loaves': None, 'Letters mailed': None, 'Letters written': None, 'Lizards': None, 'Location': None, 'Lower elementary students': None, 'March': None, 'Mascot': None, 'Matches': None, 'May': None, 'Miles': None, 'Mint': None, 'Minutes': None, 'Misses': None, 'Mixture': None, 'Monday': None, 'Month': None, 'Mountain bike tires': None, 'Movie': None, 'Name': ['Braden', 'Camilla', 'Rick', 'Mary', 'Hector', 'Devin', 'Emily', 'Avery'], 'Not spicy': None, 'Number drawn': None, 'Number of Web pages': None, 'Number of apartments': None, 'Number of apples': None, 'Number of aquariums': None, 'Number of bags': None, 'Number of bags of popcorn': None, 'Number of balloons': None, 'Number of baseballs': None, 'Number of basketball hoops': None, 'Number of baskets': None, 'Number of belts': None, 'Number of birds': None, 'Number of blocks': None, 'Number of blocks of cheese': None, 'Number of blouses': None, 'Number of books': None, 'Number of bottles': None, 'Number of bouquets': None, 'Number of boxes': None, 'Number of boxes purchased': None, 'Number of branches': None, \"Number of bull's-eyes\": None, 'Number of bunches': None, 'Number of bushes': None, 'Number of calls': None, 'Number of cans of food': None, 'Number of cars': None, 'Number of cartwheels': None, 'Number of caterpillars': None, 'Number of clubs': None, 'Number of coins': ['76', '94', '86', '84', '80', '83', '82', '87'], 'Number of comic strips': None, 'Number of computers': None, 'Number of cookies': None, 'Number of couches': None, 'Number of cups': None, 'Number of desk drawers': None, 'Number of desks': None, 'Number of donations': None, 'Number of doors': None, 'Number of employees': None, 'Number of entries': None, 'Number of fields': None, 'Number of fish': None, 'Number of fish bowls': None, 'Number of flowers': None, 'Number of frogs': None, 'Number of glasses': None, 'Number of goals': None, 'Number of goats': None, 'Number of guests': None, 'Number of hammers': None, 'Number of history books': None, 'Number of houses sold': None, 'Number of hydrants': None, 'Number of ice cream cones': None, 'Number of laps': None, 'Number of laundry hampers': None, 'Number of light switches': None, 'Number of lilies': None, 'Number of listeners': None, 'Number of magazines': None, 'Number of math teachers': None, 'Number of members': None, 'Number of miles': None, 'Number of movies': None, 'Number of muffins': None, 'Number of nails': None, 'Number of necklaces': None, 'Number of new customers': None, 'Number of newspapers': None, 'Number of notepads': None, 'Number of offices': None, 'Number of orange fish': None, 'Number of packages': None, 'Number of pages': None, 'Number of pairs of jeans': None, 'Number of pearls': None, 'Number of pens': None, 'Number of people': None, 'Number of pets': None, 'Number of phone calls': None, 'Number of photographs': None, 'Number of pies': None, 'Number of plants': None, 'Number of plates': None, 'Number of ponds': None, 'Number of poppies': None, 'Number of practices': None, 'Number of pretzels': None, 'Number of pull-ups': None, 'Number of pumpkin scones': None, 'Number of pumpkins': None, 'Number of purple crayons': None, 'Number of red blocks': None, 'Number of respondents': None, 'Number of restaurant tables': None, 'Number of riders': None, 'Number of roofs': None, 'Number of salt shakers': None, 'Number of schools': None, 'Number of science articles': None, 'Number of screwdrivers': None, 'Number of seagulls': None, 'Number of sheep': None, 'Number of sheets': None, 'Number of shells': None, 'Number of shelves': None, 'Number of shopping bags': None, 'Number of silver buttons': None, 'Number of slices sold': None, 'Number of smoothies': None, 'Number of soccer fields': None, 'Number of sprinklers': None, 'Number of stamps': None, 'Number of states': None, 'Number of stickers': None, 'Number of stools': None, 'Number of stop signs': None, 'Number of stores': None, 'Number of students': None, 'Number of stuffed animals': None, 'Number of sweatshirts': None, 'Number of tables': None, 'Number of tennis balls': None, 'Number of tickets': None, 'Number of times': None, 'Number of tins': None, 'Number of tires': None, 'Number of tool boxes': None, 'Number of toy bins': None, 'Number of toy cars': None, 'Number of tractors': None, 'Number of train cars': None, 'Number of trains': None, 'Number of trees planted': None, 'Number of trips': None, 'Number of turtleneck sweaters': None, 'Number of vases': None, 'Number of vehicles': None, 'Number of votes': None, 'Number of watermelons': None, 'Number of words spelled correctly': None, 'Number of years': None, 'Number of yellow blocks': None, 'Number of yellow buttons': None, 'Number of yellow notepads': None, 'Number of yogurt pops': None, 'Number spun': None, 'Oak trees': None, 'Option': None, 'Organization': None, 'Paperback books': None, 'Park': None, 'Partner': None, 'Pay period': None, 'Peaches': None, 'Pepperoni pizzas': None, 'Per-student budget': None, 'Performer': None, 'Person': None, 'Photographs taken': None, 'Picture frames made': None, 'Pieces of fruit': None, 'Pleased': None, 'Poems written': None, 'Polarized lenses': None, 'Price': None, 'Quantity demanded': None, 'Quantity supplied': None, 'Received': None, 'Record time (minutes)': None, 'Red beard': None, 'Regular cleaning': None, 'Regular lenses': None, 'Requests': None, 'Restaurant': None, 'Road bike tires': None, 'Roses': None, 'Rounds': None, 'Runner': None, 'Runs scored': None, 'Salmon': None, 'Sandwich': None, 'Saturday': None, 'School': None, 'Score': None, 'Season': None, 'Seeds planted': None, 'Senior': None, 'September': None, 'Silver status': None, 'Snowfall (inches)': None, 'Social worker': None, 'Split pea': None, 'Stem': None, 'Street': None, 'Students': None, 'Subject': None, 'Suede': None, 'Sun bears': None, 'Sunday': None, 'Teacher': None, 'Teachers': None, 'Team': None, 'Temperature (°C)': None, 'Temperature (Â°C)': None, 'Thursday': None, 'Time': None, 'Time (minutes)': None, 'Times eaten': None, 'Times played': None, 'Touchdowns scored': None, 'Town': None, 'Truck': None, 'Tuesday': None, 'Turtles': None, 'Type': None, 'Type of Wood': None, 'Upper elementary students': None, 'Vacation days': None, 'Vegetarian pizzas': None, 'Velvet': None, 'Vertically': None, 'Votes': None, 'Vultures': None, 'Waiting time (minutes)': None, 'Wednesday': None, 'Weight (kg)': None, 'Weight change (oz.)': None, 'Whales spotted': None, 'Winning time (minutes)': None, 'Year': None, 'Yellowtail': None, 'Zoo': None, 'x': None, 'y': None}, 'row_num': 9, 'column_num': 2, 'solution': 'Read the numbers from the table.\\n\\n76, 94, 86, 84, 80, 83, 82, 87\\n\\nFirst, count how many numbers are in the group.\\n\\nThere are 8 numbers.\\n\\nNow add all the numbers together:\\n\\n76 + 94 + 86 + 84 + 80 + 83 + 82 + 87 = 672\\n\\nNow divide the sum by the number of numbers:\\n\\n672 ÷ 8 = 84\\n\\nThe mean is 84.', 'ques_type': 'free_text', 'ans_type': 'integer_number', 'grade': 5, 'split': 'test', 'idx': '16'}\n"
     ]
    }
   ],
   "execution_count": 6
  },
  {
   "cell_type": "code",
   "metadata": {
    "ExecuteTime": {
     "end_time": "2024-09-05T10:22:59.417876Z",
     "start_time": "2024-09-05T10:22:51.757875Z"
    }
   },
   "source": [
    "result: str = await cot(dataset[0], prompt, llm, dataset_name)\n",
    "print(result)"
   ],
   "outputs": [
    {
     "name": "stdout",
     "output_type": "stream",
     "text": [
      "# Python Code, return answer\n",
      "number_of_coins = [76, 94, 86, 84, 80, 83, 82, 87]\n",
      "mean_coins = sum(number_of_coins) / len(number_of_coins)\n",
      "answer = mean_coins\n",
      "print(answer)\n"
     ]
    }
   ],
   "execution_count": 3
  },
  {
   "cell_type": "markdown",
   "metadata": {},
   "source": [
    "## Load Dataset"
   ]
  },
  {
   "cell_type": "code",
   "metadata": {
    "ExecuteTime": {
     "end_time": "2024-09-05T10:28:28.373344Z",
     "start_time": "2024-09-05T10:27:23.004429Z"
    }
   },
   "source": [
    "from tqdm import tqdm\n",
    "from tqdm.asyncio import tqdm_asyncio\n",
    "\n",
    "for i in range(900, 1000, batch_size):\n",
    "    batch = dataset.select(range(i, min(i+batch_size, len(dataset))))\n",
    "    results.extend(await tqdm_asyncio.gather(*(cot(item, prompt, llm, dataset_name) for item in batch)))\n",
    "    with open(f\"/Users/ariete/Projects/self-improve/output/inference/{dataset_name}/{mode}_{900-1000}_temperature_{temperature}_top-p_{top_p}.jsonl\", \"w\") as f:\n",
    "        for idx, result in enumerate(results):\n",
    "            f.write(json.dumps({\"question\":dataset[idx][\"question\"], \"answer\": dataset[idx][\"answer\"], \"prediction\": result}) + \"\\n\")"
   ],
   "outputs": [
    {
     "name": "stderr",
     "output_type": "stream",
     "text": [
      "100%|██████████| 100/100 [01:04<00:00,  1.54it/s]\n"
     ]
    }
   ],
   "execution_count": 7
  }
 ],
 "metadata": {
  "kernelspec": {
   "display_name": "selfimprove",
   "language": "python",
   "name": "python3"
  },
  "language_info": {
   "codemirror_mode": {
    "name": "ipython",
    "version": 3
   },
   "file_extension": ".py",
   "mimetype": "text/x-python",
   "name": "python",
   "nbconvert_exporter": "python",
   "pygments_lexer": "ipython3",
   "version": "3.12.4"
  }
 },
 "nbformat": 4,
 "nbformat_minor": 2
}
