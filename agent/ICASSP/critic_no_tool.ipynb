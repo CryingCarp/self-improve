{
 "cells": [
  {
   "cell_type": "code",
   "metadata": {
    "ExecuteTime": {
     "end_time": "2024-09-05T10:50:57.760692Z",
     "start_time": "2024-09-05T10:50:56.918201Z"
    }
   },
   "source": [
    "import json\n",
    "from langchain_openai import ChatOpenAI\n",
    "import getpass\n",
    "import os\n",
    "from dotenv import load_dotenv, find_dotenv\n",
    "\n",
    "_ = load_dotenv(find_dotenv())\n",
    "\n",
    "def _set_if_undefined(var: str):\n",
    "    if not os.environ.get(var):\n",
    "        os.environ[var] = getpass.getpass(f\"Please provide your {var}\")\n",
    "\n",
    "_set_if_undefined(\"LANGCHAIN_API_KEY\")\n",
    "\n",
    "# Optional, add tracing in LangSmith\n",
    "os.environ[\"LANGCHAIN_TRACING_V2\"] = \"false\"\n",
    "os.environ[\"LANGCHAIN_PROJECT\"] = \"critic no tools\"\n"
   ],
   "outputs": [],
   "execution_count": 1
  },
  {
   "cell_type": "code",
   "metadata": {
    "ExecuteTime": {
     "end_time": "2024-09-05T11:54:22.551821Z",
     "start_time": "2024-09-05T11:54:22.149864Z"
    }
   },
   "source": [
    "from langgraph.graph import END, StateGraph, START\n",
    "from typing import Annotated\n",
    "from typing_extensions import TypedDict\n",
    "from operator import add\n",
    "from langchain_core.messages import HumanMessage, AIMessage, ToolMessage, SystemMessage, merge_message_runs\n",
    "\n",
    "MAX_ITERATIONS = 4\n",
    "\n",
    "dataset_name = \"tabmwp\"\n",
    "class State(TypedDict):\n",
    "    input: str\n",
    "    prediction: str\n",
    "    messages: Annotated[list, add]\n",
    "    predictions: Annotated[list[str], add]\n",
    "    iteration: int\n",
    "\n",
    "critic_prompt = HumanMessage(content=(\"Inspect the previous messages and identify any potential issues or errors. \"\n",
    "                                      \"Reflect on the process of problem-solving. \"\n",
    "                                      \"What's the problem of the previous answer? \"\n",
    "                                      \"If there are tool calls, what are the issues with tool calls? (Tool selection, parameters, etc.)\"\n",
    "                                      \"Is the final answer truthful?\"\n",
    "                                      \"Your response should be as brief as possible . \"))\n",
    "\n",
    "if dataset_name in [\"hotpot_qa\", \"trivia_qa\", \"ambig_qa\"]:\n",
    "    revise_prompt = HumanMessage(content=(\"Based on the previous criqique, revise your answer. Remember your FINAL ANSWER should be clear and concise.(a single number or phrases, not a sentence!) \"\n",
    "                                      \"Your response should follow the original format. For following example:\\n\\n\"\n",
    "                                      \"Proposed Answer: Let's think step by step. ...\\n\"\n",
    "                                      \"FINAL ANSWER: <FINAL ANSWER>\\n\"))\n",
    "    llm = ChatOpenAI(temperature=0, top_p=1,base_url=\"https://api.chsdw.top/v1\", model=\"gpt-4o-mini\")\n",
    "elif dataset_name in [\"gsm8k\", \"svamp\", \"tabmwp\"]:\n",
    "    revise_prompt = HumanMessage(content=(\"Based on the previous criqique, revise your answer.  \"\n",
    "                                      \"Your response should follow the original format:\\n\"\n",
    "                                      \"# Python code, return answer\\n ... \"))\n",
    "    llm = ChatOpenAI(temperature=0.5, top_p=1, base_url=\"https://api.chsdw.top/v1\", model=\"gpt-4o-mini\")\n",
    "    \n",
    "async def criticize(state):\n",
    "    try:\n",
    "        messages = [critic_prompt]\n",
    "        critique = await llm.ainvoke(state[\"messages\"] + messages)\n",
    "    except:\n",
    "        return {\n",
    "        \"iteration\":state[\"iteration\"] + 1 \n",
    "        } \n",
    "    return {\n",
    "    \"messages\": [HumanMessage(content=critique.content)],\n",
    "    \"iteration\":state[\"iteration\"] + 1 \n",
    "    }\n",
    "\n",
    "async def react(state):\n",
    "    try:\n",
    "        question_message = HumanMessage(content=state[\"input\"])\n",
    "        messages = [revise_prompt, question_message]\n",
    "        result = await llm.ainvoke(state[\"messages\"] + messages)\n",
    "        result_message = AIMessage(**result.dict(exclude={\"type\", \"name\"}))\n",
    "    except:\n",
    "        return{\n",
    "            \"messages\": [SystemMessage(content=\"Sorry, I have trouble understanding your answer. Please try again.\")],\n",
    "            \"predictions\": [],\n",
    "        }\n",
    "    return {\n",
    "        \"messages\": [revise_prompt, HumanMessage(content=state[\"input\"]), result_message],\n",
    "        \"predictions\": [result_message.content],\n",
    "    }\n",
    "\n",
    "# Either agent can decide to end\n",
    "from typing import Literal\n",
    "\n",
    "def should_end(state) -> Literal[\"critic\", \"__end__\"]:\n",
    "    if state[\"iteration\"] == 4:\n",
    "        return \"__end__\"\n",
    "    else:\n",
    "        return \"critic\"\n",
    "    \n",
    "\n",
    "builder = StateGraph(State)\n",
    "\n",
    "builder.add_node(\"critic\", criticize)\n",
    "builder.add_node(\"react\", react)\n",
    "\n",
    "builder.add_edge(START, \"critic\")\n",
    "builder.add_edge(\"critic\", \"react\")\n",
    "builder.add_conditional_edges(\"react\", should_end)\n",
    "\n",
    "graph = builder.compile()\n",
    "    \n",
    "\n",
    "async def reflect(item, graph, dataset_name:str=\"hotpot_qa\") -> str:\n",
    "    if dataset_name in [\"hotpot_qa\", \"trivia_qa\", \"ambig_qa\"]:\n",
    "        input={\"messages\": [HumanMessage(content=f\"{item[\"question\"]}\\n{item[\"prediction\"]}\")],\n",
    "               \"input\": item[\"question\"],\n",
    "               \"prediction\": item[\"prediction\"],\n",
    "               \"iteration\": 0}\n",
    "    elif dataset_name in [\"gsm8k\", \"svamp\"]:\n",
    "        input={\"messages\": [HumanMessage(content=f\"Use python code solve the following problem, variable <answer> should contain the final answer. Use \\\"print(answer)\\\" to get the final answer.\\n\\n{item[\"question\"]}\\n{item[\"prediction\"]}\")],\n",
    "               \"iteration\": 0,\n",
    "               \"input\": item[\"question\"],\n",
    "               \"prediction\": item[\"prediction\"],}\n",
    "    elif dataset_name in [\"tabmwp\"]:\n",
    "        input = {\n",
    "            \"messages\": [HumanMessage(content=f\"Use python code solve the following problem, variable <answer> should contain the final answer. Use \\\"print(answer)\\\" to get the final answer.\\n\\nRead the following table regarding {item[\"table_title\"]} and then write Python code to answer a question:\\n\\n{item[\"table\"]}\\n{item[\"question\"]}\\n\\n{item[\"prediction\"]}\")],\n",
    "            \"iteration\": 0,\n",
    "            \"input\": f\"Read the following table regarding {item['table_title']} and then write Python code to answer a question:\\n\\n{item['table']}\\n\\n{item['question']}\",\n",
    "            \"prediction\": item[\"prediction\"],\n",
    "        }      \n",
    "    try:\n",
    "        result = await graph.ainvoke(input=input)\n",
    "        return result\n",
    "    except Exception as e:\n",
    "        return str(e)\n",
    "    \n",
    "\n",
    "\n",
    "from IPython.display import Image, display\n",
    "display(Image(graph.get_graph(xray=True).draw_mermaid_png()))\n"
   ],
   "outputs": [
    {
     "data": {
      "image/jpeg": "[encoded data removed]",
      "text/plain": [
       "<IPython.core.display.Image object>"
      ]
     },
     "metadata": {},
     "output_type": "display_data"
    }
   ],
   "execution_count": 18
  },
  {
   "cell_type": "markdown",
   "metadata": {},
   "source": [
    "# hotpot_qa gsm8k svamp trivia_qa"
   ]
  },
  {
   "cell_type": "code",
   "metadata": {
    "ExecuteTime": {
     "end_time": "2024-09-05T11:52:39.230512Z",
     "start_time": "2024-09-05T11:52:37.399056Z"
    }
   },
   "source": [
    "dataset_name = \"tabmwp\"\n",
    "mode = \"critic_no_tool\"\n",
    "num_test_sample = 1000\n",
    "temperature = 0.5\n",
    "top_p = 1\n",
    "batch_size = 100\n",
    "results = []\n",
    "\n",
    "from datasets import load_dataset\n",
    "dataset = load_dataset(\"json\", data_files=f\"../output/inference/{dataset_name}/pot_1000_temperature_0_top-p_1.jsonl\", split=\"train\")\n",
    "if dataset_name == \"svamp\":\n",
    "    dataset = dataset.map(lambda x: {\"question\": f\"{x[\"Body\"]} {x[\"Question\"]}\", \"answer\": x[\"Answer\"]})\n",
    "if num_test_sample > 0:\n",
    "    dataset = dataset.select(range(num_test_sample))\n",
    "print(dataset, {dataset[0][k] for k in [\"question\", \"answer\", \"prediction\"]})\n",
    "print(llm.temperature, llm.top_p)"
   ],
   "outputs": [
    {
     "name": "stdout",
     "output_type": "stream",
     "text": [
      "Dataset({\n",
      "    features: ['question', 'choices', 'answer', 'unit', 'table_title', 'table', 'table_for_pd', 'row_num', 'column_num', 'solution', 'ques_type', 'ans_type', 'grade', 'split', 'idx', 'prediction'],\n",
      "    num_rows: 1000\n",
      "}) {'Some friends discussed the sizes of their coin collections. What is the mean of the numbers?', '84', '# Python Code, return answer\\nnumber_of_coins = [76, 94, 86, 84, 80, 83, 82, 87]\\nmean_number_of_coins = sum(number_of_coins) / len(number_of_coins)\\nanswer = mean_number_of_coins\\nprint(answer)'}\n",
      "0.5 1.0\n"
     ]
    }
   ],
   "execution_count": 16
  },
  {
   "cell_type": "code",
   "metadata": {
    "ExecuteTime": {
     "end_time": "2024-09-05T12:20:09.095081Z",
     "start_time": "2024-09-05T12:12:18.960511Z"
    }
   },
   "source": [
    "from tqdm.asyncio import tqdm_asyncio\n",
    "for i in range(300, 1000, batch_size):\n",
    "    results.extend(await tqdm_asyncio.gather(*(reflect(item, graph, dataset_name) for item in dataset.select(range(i, min(i+batch_size, len(dataset)))))))\n",
    "    with open (f\"/Users/ariete/Projects/self-improve/output/v2/{dataset_name}/{mode}_{len(dataset)}_temperature_{temperature}_top-p_{top_p}.jsonl\", \"w\") as f:\n",
    "        for idx, result in enumerate(results):\n",
    "            f.write(json.dumps({\"idx\": idx, \"question\": dataset[idx][\"question\"], \"answer\":dataset[idx][\"answer\"], \"predictions\": results[idx][\"predictions\"]}) + \"\\n\")"
   ],
   "outputs": [
    {
     "name": "stderr",
     "output_type": "stream",
     "text": [
      "100%|██████████| 100/100 [01:18<00:00,  1.28it/s]\n",
      "100%|██████████| 100/100 [00:42<00:00,  2.37it/s]\n",
      "100%|██████████| 100/100 [00:39<00:00,  2.51it/s]\n",
      "100%|██████████| 100/100 [01:20<00:00,  1.24it/s]\n",
      "100%|██████████| 100/100 [00:44<00:00,  2.24it/s]\n",
      "100%|██████████| 100/100 [01:05<00:00,  1.52it/s]\n",
      "100%|██████████| 100/100 [01:44<00:00,  1.04s/it]\n"
     ]
    }
   ],
   "execution_count": 27
  }
 ],
 "metadata": {
  "kernelspec": {
   "display_name": "selfimprove",
   "language": "python",
   "name": "python3"
  },
  "language_info": {
   "codemirror_mode": {
    "name": "ipython",
    "version": 3
   },
   "file_extension": ".py",
   "mimetype": "text/x-python",
   "name": "python",
   "nbconvert_exporter": "python",
   "pygments_lexer": "ipython3",
   "version": "3.12.4"
  }
 },
 "nbformat": 4,
 "nbformat_minor": 2
}
